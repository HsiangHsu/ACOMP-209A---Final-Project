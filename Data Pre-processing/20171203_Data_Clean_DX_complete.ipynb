{
 "cells": [
  {
   "cell_type": "code",
   "execution_count": 64,
   "metadata": {},
   "outputs": [
    {
     "data": {
      "application/javascript": [
       "IPython.notebook.set_autosave_interval(300000)"
      ]
     },
     "metadata": {},
     "output_type": "display_data"
    },
    {
     "name": "stdout",
     "output_type": "stream",
     "text": [
      "Autosaving every 300 seconds\n"
     ]
    }
   ],
   "source": [
    "# just importing a random selection of things; we can fix this later\n",
    "import numpy as np\n",
    "import pandas as pd\n",
    "import matplotlib\n",
    "import matplotlib.pyplot as plt\n",
    "import sklearn.metrics as metrics\n",
    "from sklearn.model_selection import cross_val_score\n",
    "from sklearn import tree\n",
    "from sklearn.tree import DecisionTreeClassifier\n",
    "from sklearn.ensemble import RandomForestClassifier\n",
    "from sklearn.ensemble import AdaBoostClassifier\n",
    "from sklearn.linear_model import LinearRegression, LogisticRegressionCV\n",
    "%matplotlib inline\n",
    "\n",
    "from sklearn.tree import DecisionTreeRegressor\n",
    "\n",
    "from sklearn.model_selection import cross_val_score\n",
    "\n",
    "from sklearn.metrics import accuracy_score\n",
    "from sklearn.model_selection import KFold\n",
    "from sklearn.grid_search import GridSearchCV\n",
    "\n",
    "from pprint import pprint \n",
    "\n",
    "from sklearn.ensemble import BaggingClassifier\n",
    "from sklearn import model_selection\n",
    "from random import seed\n",
    "from sklearn.model_selection import cross_val_predict\n",
    "\n",
    "from sklearn.ensemble import RandomForestClassifier\n",
    "from itertools import product\n",
    "from collections import OrderedDict\n",
    "from itertools import product\n",
    "\n",
    "from sklearn import model_selection\n",
    "from sklearn.svm import SVC\n",
    "from sklearn import neighbors\n",
    "from sklearn.ensemble import VotingClassifier\n",
    "\n",
    "from sklearn.model_selection import train_test_split\n",
    "from __future__ import print_function # For Python 2 / 3 compatability\n",
    "from sklearn.metrics import confusion_matrix\n",
    "import itertools\n",
    "\n",
    "import json\n",
    "from copy import copy\n",
    "\n",
    "import warnings\n",
    "from sklearn import preprocessing\n",
    "%autosave 300\n",
    "warnings.filterwarnings(\"ignore\")"
   ]
  },
  {
   "cell_type": "markdown",
   "metadata": {},
   "source": [
    "# Data Cleaning and Preliminary Exploration"
   ]
  },
  {
   "cell_type": "markdown",
   "metadata": {},
   "source": [
    "## Preliminary Exploration"
   ]
  },
  {
   "cell_type": "code",
   "execution_count": 65,
   "metadata": {},
   "outputs": [
    {
     "name": "stdout",
     "output_type": "stream",
     "text": [
      "(6937, 94)\n"
     ]
    }
   ],
   "source": [
    "# load ADNIMERGE.csv, the main dataset (we will add our own variables to it). \n",
    "ADNI_merge = pd.read_csv('ADNIMERGE.csv')\n",
    "ADNI_merge.head()\n",
    "\n",
    "# select only the rows that correspond to ADN2\n",
    "ADNI2= ADNI_merge[ADNI_merge['COLPROT']=='ADNI2']\n",
    "print(ADNI2.shape)\n"
   ]
  },
  {
   "cell_type": "code",
   "execution_count": 66,
   "metadata": {
    "collapsed": true
   },
   "outputs": [],
   "source": [
    "# #### NOTE: this is new code (11.23.17) because missing values are also denoted by \"-4\" and \"-1\". \n",
    "# #### Please see the training powerpoint for more info: https://adni.loni.usc.edu/wp-content/uploads/2012/08/slide_data_training_part2_reduced-size.pdf\n",
    "\n",
    "# # checking out the number of records for patients in ADNI2 phase, compared with other phases\n",
    "# ADMCPATIENTDRUGCLASSES_20170512 = pd.read_csv('ADMCPATIENTDRUGCLASSES_20170512.csv')\n",
    "# print(len(ADMCPATIENTDRUGCLASSES_20170512['Phase']))\n",
    "# print(len(ADMCPATIENTDRUGCLASSES_20170512[ADMCPATIENTDRUGCLASSES_20170512['Phase']=='ADNI2']))\n",
    "# print(len(ADMCPATIENTDRUGCLASSES_20170512[ADMCPATIENTDRUGCLASSES_20170512['Phase']=='ADNI3']))\n",
    "# print(len(ADMCPATIENTDRUGCLASSES_20170512[ADMCPATIENTDRUGCLASSES_20170512['Phase']=='ADNIGO']))\n",
    "\n",
    "# ADMCPATIENTDRUGCLASSES_20170512.head()\n",
    "\n",
    "# drug_adni2 = ADMCPATIENTDRUGCLASSES_20170512[ADMCPATIENTDRUGCLASSES_20170512['Phase']=='ADNI2']\n",
    "# drug_adni2.shape\n",
    "\n",
    "# drug_adni2.columns\n",
    "\n",
    "# drug_adni2 = drug_adni2.rename(columns={'VISCODE2': 'VISCODE'})\n",
    "# drug_adni2.columns\n",
    "# pd.merge(ADNI2,drug_adni2, on=['RID', 'VISCODE'])"
   ]
  },
  {
   "cell_type": "code",
   "execution_count": 67,
   "metadata": {
    "collapsed": true
   },
   "outputs": [],
   "source": [
    "# It seems there were some 'unknown'..I replaced them with nan\n",
    "import numpy as np\n",
    "ADNI2 = ADNI2.replace('Unknown', np.nan)\n",
    "ADNI2 = ADNI2.replace(-1, np.nan)\n",
    "ADNI2 = ADNI2.replace(-4, np.nan)"
   ]
  },
  {
   "cell_type": "markdown",
   "metadata": {},
   "source": [
    "# From now on DX\n"
   ]
  },
  {
   "cell_type": "code",
   "execution_count": 142,
   "metadata": {
    "collapsed": true
   },
   "outputs": [],
   "source": [
    "ADNI2_dx = ADNI2.copy()"
   ]
  },
  {
   "cell_type": "code",
   "execution_count": 143,
   "metadata": {},
   "outputs": [
    {
     "data": {
      "text/plain": [
       "Index(['RID', 'PTID', 'VISCODE', 'SITE', 'COLPROT', 'ORIGPROT', 'EXAMDATE',\n",
       "       'DX_bl', 'AGE', 'PTGENDER', 'PTEDUCAT', 'PTETHCAT', 'PTRACCAT',\n",
       "       'PTMARRY', 'APOE4', 'FDG', 'PIB', 'AV45', 'CDRSB', 'ADAS11', 'ADAS13',\n",
       "       'MMSE', 'RAVLT_immediate', 'RAVLT_learning', 'RAVLT_forgetting',\n",
       "       'RAVLT_perc_forgetting', 'FAQ', 'MOCA', 'EcogPtMem', 'EcogPtLang',\n",
       "       'EcogPtVisspat', 'EcogPtPlan', 'EcogPtOrgan', 'EcogPtDivatt',\n",
       "       'EcogPtTotal', 'EcogSPMem', 'EcogSPLang', 'EcogSPVisspat', 'EcogSPPlan',\n",
       "       'EcogSPOrgan', 'EcogSPDivatt', 'EcogSPTotal', 'FLDSTRENG', 'FSVERSION',\n",
       "       'Ventricles', 'Hippocampus', 'WholeBrain', 'Entorhinal', 'Fusiform',\n",
       "       'MidTemp', 'ICV', 'DX', 'EXAMDATE_bl', 'CDRSB_bl', 'ADAS11_bl',\n",
       "       'ADAS13_bl', 'MMSE_bl', 'RAVLT_immediate_bl', 'RAVLT_learning_bl',\n",
       "       'RAVLT_forgetting_bl', 'RAVLT_perc_forgetting_bl', 'FAQ_bl',\n",
       "       'FLDSTRENG_bl', 'FSVERSION_bl', 'Ventricles_bl', 'Hippocampus_bl',\n",
       "       'WholeBrain_bl', 'Entorhinal_bl', 'Fusiform_bl', 'MidTemp_bl', 'ICV_bl',\n",
       "       'MOCA_bl', 'EcogPtMem_bl', 'EcogPtLang_bl', 'EcogPtVisspat_bl',\n",
       "       'EcogPtPlan_bl', 'EcogPtOrgan_bl', 'EcogPtDivatt_bl', 'EcogPtTotal_bl',\n",
       "       'EcogSPMem_bl', 'EcogSPLang_bl', 'EcogSPVisspat_bl', 'EcogSPPlan_bl',\n",
       "       'EcogSPOrgan_bl', 'EcogSPDivatt_bl', 'EcogSPTotal_bl', 'FDG_bl',\n",
       "       'PIB_bl', 'AV45_bl', 'Years_bl', 'Month_bl', 'Month', 'M',\n",
       "       'update_stamp'],\n",
       "      dtype='object')"
      ]
     },
     "execution_count": 143,
     "metadata": {},
     "output_type": "execute_result"
    }
   ],
   "source": [
    "ADNI2_dx.columns"
   ]
  },
  {
   "cell_type": "code",
   "execution_count": 144,
   "metadata": {},
   "outputs": [
    {
     "data": {
      "text/plain": [
       "(6937, 94)"
      ]
     },
     "execution_count": 144,
     "metadata": {},
     "output_type": "execute_result"
    }
   ],
   "source": [
    "ADNI2_dx.shape"
   ]
  },
  {
   "cell_type": "code",
   "execution_count": 145,
   "metadata": {},
   "outputs": [],
   "source": [
    "#Drop the ones w/o bl\n",
    "#I kept 'RID', 'PTID', 'VISCODE', 'COLPROT','DX_bl'\n",
    "#'AGE', 'PTGENDER', 'PTEDUCAT', 'PTETHCAT', 'PTRACCAT',\n",
    "#'PTMARRY', 'APOE4', 'FDG', , ADAS11_bl',\n",
    "# 'ADAS13_bl', 'CDRSB_bl', 'MMSE_bl',\n",
    "#'RAVLT_immediate_bl', 'RAVLT_learning_bl',\n",
    "#'RAVLT_forgetting_bl', 'RAVLT_perc_forgetting_bl', 'FAQ_bl',\n",
    "#'FLDSTRENG_bl', , 'Ventricles_bl', 'Hippocampus_bl',\n",
    "#'WholeBrain_bl', 'Entorhinal_bl', 'Fusiform_bl', 'MidTemp_bl', 'ICV_bl',\n",
    "#'MOCA_bl', 'EcogPtMem_bl', 'EcogPtLang_bl', 'EcogPtVisspat_bl',\n",
    "#'EcogPtPlan_bl', 'EcogPtOrgan_bl', 'EcogPtDivatt_bl', 'EcogPtTotal_bl',\n",
    "#'EcogSPMem_bl', 'EcogSPLang_bl', 'EcogSPVisspat_bl', 'EcogSPPlan_bl',\n",
    "#'EcogSPOrgan_bl', 'EcogSPDivatt_bl', 'EcogSPTotal_bl', 'FDG_bl',\n",
    "#'PIB_bl', 'AV45_bl'\n",
    "\n",
    "\n",
    "ADNI2_dx= ADNI2_dx.drop(labels = ['Month_bl', 'Month', 'M'],axis=1)"
   ]
  },
  {
   "cell_type": "code",
   "execution_count": 146,
   "metadata": {},
   "outputs": [
    {
     "name": "stdout",
     "output_type": "stream",
     "text": [
      "(6937, 91)\n",
      "(4568, 91)\n"
     ]
    }
   ],
   "source": [
    "#Remove rows where DX is nan\n",
    "print(ADNI2_dx.shape)\n",
    "#ADNI2_dx_clean = ADNI2_dx[ADNI2_dx['DX'] != np.nan]\n",
    "ADNI2_dx= ADNI2_dx[pd.notnull(ADNI2_dx['DX'])]\n",
    "print(ADNI2_dx.shape)"
   ]
  },
  {
   "cell_type": "code",
   "execution_count": 147,
   "metadata": {
    "scrolled": false
   },
   "outputs": [
    {
     "name": "stdout",
     "output_type": "stream",
     "text": [
      "PIB                         1.000000\n",
      "PIB_bl                      0.994527\n",
      "FDG                         0.707531\n",
      "AV45                        0.591287\n",
      "FLDSTRENG                   0.437391\n",
      "MidTemp                     0.430604\n",
      "Fusiform                    0.430604\n",
      "Entorhinal                  0.430604\n",
      "Ventricles                  0.374343\n",
      "Hippocampus                 0.362741\n",
      "WholeBrain                  0.338222\n",
      "FSVERSION                   0.298161\n",
      "ICV                         0.298161\n",
      "EcogSPOrgan_bl              0.232706\n",
      "EcogSPDivatt_bl             0.212785\n",
      "EcogPtOrgan_bl              0.210158\n",
      "EcogSPVisspat_bl            0.207312\n",
      "EcogSPPlan_bl               0.202277\n",
      "MOCA_bl                     0.200525\n",
      "AV45_bl                     0.198993\n",
      "EcogPtDivatt_bl             0.198117\n",
      "FLDSTRENG_bl                0.197898\n",
      "EcogPtVisspat_bl            0.196804\n",
      "EcogSPTotal_bl              0.196147\n",
      "EcogSPMem_bl                0.195709\n",
      "EcogSPLang_bl               0.194834\n",
      "EcogPtPlan_bl               0.193520\n",
      "EcogPtTotal_bl              0.193301\n",
      "EcogPtLang_bl               0.193301\n",
      "EcogPtMem_bl                0.193082\n",
      "                              ...   \n",
      "FSVERSION_bl                0.011602\n",
      "RAVLT_learning_bl           0.008975\n",
      "ADAS11                      0.005692\n",
      "PTMARRY                     0.005254\n",
      "PTETHCAT                    0.004378\n",
      "ADAS13_bl                   0.004159\n",
      "MMSE                        0.003940\n",
      "FAQ_bl                      0.002627\n",
      "RAVLT_perc_forgetting_bl    0.002189\n",
      "ADAS11_bl                   0.001970\n",
      "PTRACCAT                    0.001751\n",
      "RAVLT_immediate_bl          0.001532\n",
      "APOE4                       0.001095\n",
      "EXAMDATE                    0.000000\n",
      "AGE                         0.000000\n",
      "ORIGPROT                    0.000000\n",
      "PTID                        0.000000\n",
      "COLPROT                     0.000000\n",
      "SITE                        0.000000\n",
      "VISCODE                     0.000000\n",
      "DX_bl                       0.000000\n",
      "update_stamp                0.000000\n",
      "PTGENDER                    0.000000\n",
      "PTEDUCAT                    0.000000\n",
      "Years_bl                    0.000000\n",
      "DX                          0.000000\n",
      "EXAMDATE_bl                 0.000000\n",
      "CDRSB_bl                    0.000000\n",
      "MMSE_bl                     0.000000\n",
      "RID                         0.000000\n",
      "Length: 91, dtype: float64\n"
     ]
    }
   ],
   "source": [
    "# calculate the % of each column that is NaNs and print in descending order\n",
    "print((ADNI2_dx.isnull().sum()/len(ADNI2_dx['DX'])).sort_values(ascending=False))"
   ]
  },
  {
   "cell_type": "code",
   "execution_count": 148,
   "metadata": {},
   "outputs": [
    {
     "name": "stdout",
     "output_type": "stream",
     "text": [
      "Ventricles                  0.374343\n",
      "Hippocampus                 0.362741\n",
      "WholeBrain                  0.338222\n",
      "FSVERSION                   0.298161\n",
      "ICV                         0.298161\n",
      "EcogSPOrgan_bl              0.232706\n",
      "EcogSPDivatt_bl             0.212785\n",
      "EcogPtOrgan_bl              0.210158\n",
      "EcogSPVisspat_bl            0.207312\n",
      "EcogSPPlan_bl               0.202277\n",
      "MOCA_bl                     0.200525\n",
      "AV45_bl                     0.198993\n",
      "EcogPtDivatt_bl             0.198117\n",
      "FLDSTRENG_bl                0.197898\n",
      "EcogPtVisspat_bl            0.196804\n",
      "EcogSPTotal_bl              0.196147\n",
      "EcogSPMem_bl                0.195709\n",
      "EcogSPLang_bl               0.194834\n",
      "EcogPtPlan_bl               0.193520\n",
      "EcogPtLang_bl               0.193301\n",
      "EcogPtTotal_bl              0.193301\n",
      "EcogPtMem_bl                0.193082\n",
      "Fusiform_bl                 0.123687\n",
      "Entorhinal_bl               0.123687\n",
      "MidTemp_bl                  0.123687\n",
      "Hippocampus_bl              0.111208\n",
      "FDG_bl                      0.101795\n",
      "EcogSPOrgan                 0.067426\n",
      "Ventricles_bl               0.056480\n",
      "EcogSPDivatt                0.051007\n",
      "                              ...   \n",
      "ICV_bl                      0.011602\n",
      "RAVLT_learning_bl           0.008975\n",
      "ADAS11                      0.005692\n",
      "PTMARRY                     0.005254\n",
      "PTETHCAT                    0.004378\n",
      "ADAS13_bl                   0.004159\n",
      "MMSE                        0.003940\n",
      "FAQ_bl                      0.002627\n",
      "RAVLT_perc_forgetting_bl    0.002189\n",
      "ADAS11_bl                   0.001970\n",
      "PTRACCAT                    0.001751\n",
      "RAVLT_immediate_bl          0.001532\n",
      "APOE4                       0.001095\n",
      "EXAMDATE                    0.000000\n",
      "SITE                        0.000000\n",
      "ORIGPROT                    0.000000\n",
      "COLPROT                     0.000000\n",
      "AGE                         0.000000\n",
      "VISCODE                     0.000000\n",
      "PTID                        0.000000\n",
      "DX_bl                       0.000000\n",
      "update_stamp                0.000000\n",
      "PTGENDER                    0.000000\n",
      "PTEDUCAT                    0.000000\n",
      "Years_bl                    0.000000\n",
      "DX                          0.000000\n",
      "EXAMDATE_bl                 0.000000\n",
      "CDRSB_bl                    0.000000\n",
      "MMSE_bl                     0.000000\n",
      "RID                         0.000000\n",
      "Length: 83, dtype: float64\n"
     ]
    }
   ],
   "source": [
    "#Drop 40% or more missing\n",
    "ADNI2_dx= ADNI2_dx.drop(['PIB_bl','PIB', 'AV45','FLDSTRENG','MidTemp','Entorhinal', 'Fusiform','FDG'], axis=1)\n",
    "print((ADNI2_dx.isnull().sum()/len(ADNI2_dx['DX'])).sort_values(ascending=False))"
   ]
  },
  {
   "cell_type": "code",
   "execution_count": 149,
   "metadata": {},
   "outputs": [],
   "source": [
    "encode = preprocessing.LabelEncoder()\n",
    "ADNI2_dx.loc[:, 'DX'] = encode.fit_transform(ADNI2_dx['DX'])"
   ]
  },
  {
   "cell_type": "code",
   "execution_count": 150,
   "metadata": {},
   "outputs": [
    {
     "name": "stdout",
     "output_type": "stream",
     "text": [
      "(4568, 83)\n"
     ]
    },
    {
     "data": {
      "text/plain": [
       "Cross-Sectional FreeSurfer (5.1)                       2967\n",
       "Cross-Sectional FreeSurfer (FreeSurfer Version 4.3)     239\n",
       "Name: FSVERSION, dtype: int64"
      ]
     },
     "execution_count": 150,
     "metadata": {},
     "output_type": "execute_result"
    }
   ],
   "source": [
    "print(ADNI2_dx.shape)\n",
    "ADNI2_dx['FSVERSION'].value_counts()"
   ]
  },
  {
   "cell_type": "code",
   "execution_count": 151,
   "metadata": {},
   "outputs": [
    {
     "name": "stdout",
     "output_type": "stream",
     "text": [
      "(4568, 83)\n"
     ]
    },
    {
     "data": {
      "text/plain": [
       "3 Tesla MRI      2793\n",
       "1.5 Tesla MRI     871\n",
       "Name: FLDSTRENG_bl, dtype: int64"
      ]
     },
     "execution_count": 151,
     "metadata": {},
     "output_type": "execute_result"
    }
   ],
   "source": [
    "print(ADNI2_dx.shape)\n",
    "ADNI2_dx['FLDSTRENG_bl'].value_counts()"
   ]
  },
  {
   "cell_type": "code",
   "execution_count": 152,
   "metadata": {},
   "outputs": [
    {
     "name": "stdout",
     "output_type": "stream",
     "text": [
      "(4568, 83)\n"
     ]
    },
    {
     "data": {
      "text/plain": [
       "Cross-Sectional FreeSurfer (5.1)                       3640\n",
       "Cross-Sectional FreeSurfer (FreeSurfer Version 4.3)     875\n",
       "Name: FSVERSION_bl, dtype: int64"
      ]
     },
     "execution_count": 152,
     "metadata": {},
     "output_type": "execute_result"
    }
   ],
   "source": [
    "print(ADNI2_dx.shape)\n",
    "ADNI2_dx['FSVERSION_bl'].value_counts()"
   ]
  },
  {
   "cell_type": "code",
   "execution_count": 153,
   "metadata": {},
   "outputs": [
    {
     "data": {
      "text/plain": [
       "Index(['RID', 'PTID', 'VISCODE', 'SITE', 'COLPROT', 'ORIGPROT', 'EXAMDATE',\n",
       "       'DX_bl', 'AGE', 'PTGENDER', 'PTEDUCAT', 'PTETHCAT', 'PTRACCAT',\n",
       "       'PTMARRY', 'APOE4', 'CDRSB', 'ADAS11', 'ADAS13', 'MMSE',\n",
       "       'RAVLT_immediate', 'RAVLT_learning', 'RAVLT_forgetting',\n",
       "       'RAVLT_perc_forgetting', 'FAQ', 'MOCA', 'EcogPtMem', 'EcogPtLang',\n",
       "       'EcogPtVisspat', 'EcogPtPlan', 'EcogPtOrgan', 'EcogPtDivatt',\n",
       "       'EcogPtTotal', 'EcogSPMem', 'EcogSPLang', 'EcogSPVisspat', 'EcogSPPlan',\n",
       "       'EcogSPOrgan', 'EcogSPDivatt', 'EcogSPTotal', 'FSVERSION', 'Ventricles',\n",
       "       'Hippocampus', 'WholeBrain', 'ICV', 'DX', 'EXAMDATE_bl', 'CDRSB_bl',\n",
       "       'ADAS11_bl', 'ADAS13_bl', 'MMSE_bl', 'RAVLT_immediate_bl',\n",
       "       'RAVLT_learning_bl', 'RAVLT_forgetting_bl', 'RAVLT_perc_forgetting_bl',\n",
       "       'FAQ_bl', 'FLDSTRENG_bl', 'FSVERSION_bl', 'Ventricles_bl',\n",
       "       'Hippocampus_bl', 'WholeBrain_bl', 'Entorhinal_bl', 'Fusiform_bl',\n",
       "       'MidTemp_bl', 'ICV_bl', 'MOCA_bl', 'EcogPtMem_bl', 'EcogPtLang_bl',\n",
       "       'EcogPtVisspat_bl', 'EcogPtPlan_bl', 'EcogPtOrgan_bl',\n",
       "       'EcogPtDivatt_bl', 'EcogPtTotal_bl', 'EcogSPMem_bl', 'EcogSPLang_bl',\n",
       "       'EcogSPVisspat_bl', 'EcogSPPlan_bl', 'EcogSPOrgan_bl',\n",
       "       'EcogSPDivatt_bl', 'EcogSPTotal_bl', 'FDG_bl', 'AV45_bl', 'Years_bl',\n",
       "       'update_stamp'],\n",
       "      dtype='object')"
      ]
     },
     "execution_count": 153,
     "metadata": {},
     "output_type": "execute_result"
    }
   ],
   "source": [
    "ADNI2_dx.columns"
   ]
  },
  {
   "cell_type": "code",
   "execution_count": null,
   "metadata": {
    "collapsed": true
   },
   "outputs": [],
   "source": []
  },
  {
   "cell_type": "code",
   "execution_count": 154,
   "metadata": {},
   "outputs": [
    {
     "name": "stdout",
     "output_type": "stream",
     "text": [
      "(4511, 99)\n"
     ]
    }
   ],
   "source": [
    "#hot-one encoding for categoricla and clean\n",
    "\n",
    "categorical_predictors = ['PTETHCAT', 'PTRACCAT', 'PTMARRY','APOE4', 'PTGENDER', 'DX_bl']\n",
    "categorical_predictors_drop = ['FSVERSION', 'FSVERSION_bl','FLDSTRENG_bl']\n",
    "\n",
    "\n",
    "\n",
    "''' Remove all categorical data with nan (only ~0.5%) '''\n",
    "missing_rows = np.nonzero(np.sum(ADNI2_dx[categorical_predictors].isnull(), axis=1))\n",
    "ADNI2_dx = ADNI2_dx.drop(ADNI2_dx.index[missing_rows[0]])\n",
    "\n",
    "'''' Hot-One Encoding of Categorical Predictors '''\n",
    "ADNI2_dx_categorical_nodrop = pd.get_dummies(ADNI2_dx[categorical_predictors] , columns=categorical_predictors, prefix = categorical_predictors , drop_first=False)\n",
    "ADNI2_dx_categorical_drop = pd.get_dummies(ADNI2_dx[categorical_predictors_drop] , columns=categorical_predictors_drop, prefix = categorical_predictors_drop , drop_first=False)\n",
    "ADNI2_dx= pd.get_dummies(ADNI2_dx, columns=categorical_predictors, prefix = categorical_predictors , drop_first=False)\n",
    "ADNI2_dx= pd.get_dummies(ADNI2_dx, columns=categorical_predictors_drop, prefix = categorical_predictors_drop , drop_first=True)\n",
    "print(ADNI2_dx.shape)\n"
   ]
  },
  {
   "cell_type": "code",
   "execution_count": 155,
   "metadata": {},
   "outputs": [
    {
     "name": "stdout",
     "output_type": "stream",
     "text": [
      "(4511, 22)\n",
      "(4511, 6)\n"
     ]
    }
   ],
   "source": [
    "print(ADNI2_dx_categorical_nodrop.shape)\n",
    "print(ADNI2_dx_categorical_drop.shape)"
   ]
  },
  {
   "cell_type": "code",
   "execution_count": 156,
   "metadata": {},
   "outputs": [
    {
     "name": "stdout",
     "output_type": "stream",
     "text": [
      "(4511, 28)\n"
     ]
    }
   ],
   "source": [
    "ADNI2_dx_categorical = pd.concat([ADNI2_dx_categorical_nodrop, ADNI2_dx_categorical_drop],axis=1)\n",
    "print(ADNI2_dx_categorical.shape)"
   ]
  },
  {
   "cell_type": "code",
   "execution_count": 157,
   "metadata": {},
   "outputs": [
    {
     "name": "stdout",
     "output_type": "stream",
     "text": [
      "Index(['RID', 'PTID', 'VISCODE', 'SITE', 'COLPROT', 'ORIGPROT', 'EXAMDATE',\n",
      "       'AGE', 'PTEDUCAT', 'CDRSB', 'ADAS11', 'ADAS13', 'MMSE',\n",
      "       'RAVLT_immediate', 'RAVLT_learning', 'RAVLT_forgetting',\n",
      "       'RAVLT_perc_forgetting', 'FAQ', 'MOCA', 'EcogPtMem', 'EcogPtLang',\n",
      "       'EcogPtVisspat', 'EcogPtPlan', 'EcogPtOrgan', 'EcogPtDivatt',\n",
      "       'EcogPtTotal', 'EcogSPMem', 'EcogSPLang', 'EcogSPVisspat', 'EcogSPPlan',\n",
      "       'EcogSPOrgan', 'EcogSPDivatt', 'EcogSPTotal', 'Ventricles',\n",
      "       'Hippocampus', 'WholeBrain', 'ICV', 'DX', 'EXAMDATE_bl', 'CDRSB_bl',\n",
      "       'ADAS11_bl', 'ADAS13_bl', 'MMSE_bl', 'RAVLT_immediate_bl',\n",
      "       'RAVLT_learning_bl', 'RAVLT_forgetting_bl', 'RAVLT_perc_forgetting_bl',\n",
      "       'FAQ_bl', 'Ventricles_bl', 'Hippocampus_bl', 'WholeBrain_bl',\n",
      "       'Entorhinal_bl', 'Fusiform_bl', 'MidTemp_bl', 'ICV_bl', 'MOCA_bl',\n",
      "       'EcogPtMem_bl', 'EcogPtLang_bl', 'EcogPtVisspat_bl', 'EcogPtPlan_bl',\n",
      "       'EcogPtOrgan_bl', 'EcogPtDivatt_bl', 'EcogPtTotal_bl', 'EcogSPMem_bl',\n",
      "       'EcogSPLang_bl', 'EcogSPVisspat_bl', 'EcogSPPlan_bl', 'EcogSPOrgan_bl',\n",
      "       'EcogSPDivatt_bl', 'EcogSPTotal_bl', 'FDG_bl', 'AV45_bl', 'Years_bl',\n",
      "       'update_stamp', 'PTETHCAT_Hisp/Latino', 'PTETHCAT_Not Hisp/Latino',\n",
      "       'PTRACCAT_Am Indian/Alaskan', 'PTRACCAT_Asian', 'PTRACCAT_Black',\n",
      "       'PTRACCAT_Hawaiian/Other PI', 'PTRACCAT_More than one',\n",
      "       'PTRACCAT_White', 'PTMARRY_Divorced', 'PTMARRY_Married',\n",
      "       'PTMARRY_Never married', 'PTMARRY_Widowed', 'APOE4_0.0', 'APOE4_1.0',\n",
      "       'APOE4_2.0', 'PTGENDER_Female', 'PTGENDER_Male', 'DX_bl_AD', 'DX_bl_CN',\n",
      "       'DX_bl_EMCI', 'DX_bl_LMCI', 'DX_bl_SMC',\n",
      "       'FSVERSION_Cross-Sectional FreeSurfer (FreeSurfer Version 4.3)',\n",
      "       'FSVERSION_bl_Cross-Sectional FreeSurfer (FreeSurfer Version 4.3)',\n",
      "       'FLDSTRENG_bl_3 Tesla MRI'],\n",
      "      dtype='object')\n"
     ]
    }
   ],
   "source": [
    "print(ADNI2_dx.columns)"
   ]
  },
  {
   "cell_type": "markdown",
   "metadata": {},
   "source": [
    "### Removing All Missing Data"
   ]
  },
  {
   "cell_type": "code",
   "execution_count": 158,
   "metadata": {},
   "outputs": [
    {
     "name": "stdout",
     "output_type": "stream",
     "text": [
      "Shape before delteing missing (4511, 99)\n",
      "Shape before delteing missing (1536, 99)\n",
      "Data contains NaN? False\n"
     ]
    }
   ],
   "source": [
    "ADNI2_dx_remove = ADNI2_dx.copy()\n",
    "print('Shape before delteing missing', ADNI2_dx_remove.shape)\n",
    "ADNI2_dx_remove.dropna(axis=0, inplace=True)\n",
    "print('Shape before delteing missing', ADNI2_dx_remove.shape) \n",
    "print('Data contains NaN?', ADNI2_dx_remove.isnull().any().any())"
   ]
  },
  {
   "cell_type": "code",
   "execution_count": 159,
   "metadata": {},
   "outputs": [
    {
     "data": {
      "text/plain": [
       "RID                                                                 0\n",
       "PTID                                                                0\n",
       "VISCODE                                                             0\n",
       "SITE                                                                0\n",
       "COLPROT                                                             0\n",
       "ORIGPROT                                                            0\n",
       "EXAMDATE                                                            0\n",
       "AGE                                                                 0\n",
       "PTEDUCAT                                                            0\n",
       "CDRSB                                                               0\n",
       "ADAS11                                                              0\n",
       "ADAS13                                                              0\n",
       "MMSE                                                                0\n",
       "RAVLT_immediate                                                     0\n",
       "RAVLT_learning                                                      0\n",
       "RAVLT_forgetting                                                    0\n",
       "RAVLT_perc_forgetting                                               0\n",
       "FAQ                                                                 0\n",
       "MOCA                                                                0\n",
       "EcogPtMem                                                           0\n",
       "EcogPtLang                                                          0\n",
       "EcogPtVisspat                                                       0\n",
       "EcogPtPlan                                                          0\n",
       "EcogPtOrgan                                                         0\n",
       "EcogPtDivatt                                                        0\n",
       "EcogPtTotal                                                         0\n",
       "EcogSPMem                                                           0\n",
       "EcogSPLang                                                          0\n",
       "EcogSPVisspat                                                       0\n",
       "EcogSPPlan                                                          0\n",
       "                                                                   ..\n",
       "EcogSPTotal_bl                                                      0\n",
       "FDG_bl                                                              0\n",
       "AV45_bl                                                             0\n",
       "Years_bl                                                            0\n",
       "update_stamp                                                        0\n",
       "PTETHCAT_Hisp/Latino                                                0\n",
       "PTETHCAT_Not Hisp/Latino                                            0\n",
       "PTRACCAT_Am Indian/Alaskan                                          0\n",
       "PTRACCAT_Asian                                                      0\n",
       "PTRACCAT_Black                                                      0\n",
       "PTRACCAT_Hawaiian/Other PI                                          0\n",
       "PTRACCAT_More than one                                              0\n",
       "PTRACCAT_White                                                      0\n",
       "PTMARRY_Divorced                                                    0\n",
       "PTMARRY_Married                                                     0\n",
       "PTMARRY_Never married                                               0\n",
       "PTMARRY_Widowed                                                     0\n",
       "APOE4_0.0                                                           0\n",
       "APOE4_1.0                                                           0\n",
       "APOE4_2.0                                                           0\n",
       "PTGENDER_Female                                                     0\n",
       "PTGENDER_Male                                                       0\n",
       "DX_bl_AD                                                            0\n",
       "DX_bl_CN                                                            0\n",
       "DX_bl_EMCI                                                          0\n",
       "DX_bl_LMCI                                                          0\n",
       "DX_bl_SMC                                                           0\n",
       "FSVERSION_Cross-Sectional FreeSurfer (FreeSurfer Version 4.3)       0\n",
       "FSVERSION_bl_Cross-Sectional FreeSurfer (FreeSurfer Version 4.3)    0\n",
       "FLDSTRENG_bl_3 Tesla MRI                                            0\n",
       "Length: 99, dtype: int64"
      ]
     },
     "execution_count": 159,
     "metadata": {},
     "output_type": "execute_result"
    }
   ],
   "source": [
    "ADNI2_dx_remove.isnull().sum()"
   ]
  },
  {
   "cell_type": "code",
   "execution_count": 160,
   "metadata": {},
   "outputs": [
    {
     "data": {
      "text/html": [
       "<div>\n",
       "<style>\n",
       "    .dataframe thead tr:only-child th {\n",
       "        text-align: right;\n",
       "    }\n",
       "\n",
       "    .dataframe thead th {\n",
       "        text-align: left;\n",
       "    }\n",
       "\n",
       "    .dataframe tbody tr th {\n",
       "        vertical-align: top;\n",
       "    }\n",
       "</style>\n",
       "<table border=\"1\" class=\"dataframe\">\n",
       "  <thead>\n",
       "    <tr style=\"text-align: right;\">\n",
       "      <th></th>\n",
       "      <th>RID</th>\n",
       "      <th>PTID</th>\n",
       "      <th>VISCODE</th>\n",
       "      <th>SITE</th>\n",
       "      <th>COLPROT</th>\n",
       "      <th>ORIGPROT</th>\n",
       "      <th>EXAMDATE</th>\n",
       "      <th>AGE</th>\n",
       "      <th>PTEDUCAT</th>\n",
       "      <th>CDRSB</th>\n",
       "      <th>...</th>\n",
       "      <th>PTGENDER_Female</th>\n",
       "      <th>PTGENDER_Male</th>\n",
       "      <th>DX_bl_AD</th>\n",
       "      <th>DX_bl_CN</th>\n",
       "      <th>DX_bl_EMCI</th>\n",
       "      <th>DX_bl_LMCI</th>\n",
       "      <th>DX_bl_SMC</th>\n",
       "      <th>FSVERSION_Cross-Sectional FreeSurfer (FreeSurfer Version 4.3)</th>\n",
       "      <th>FSVERSION_bl_Cross-Sectional FreeSurfer (FreeSurfer Version 4.3)</th>\n",
       "      <th>FLDSTRENG_bl_3 Tesla MRI</th>\n",
       "    </tr>\n",
       "  </thead>\n",
       "  <tbody>\n",
       "    <tr>\n",
       "      <th>91</th>\n",
       "      <td>5280</td>\n",
       "      <td>100_S_5280</td>\n",
       "      <td>bl</td>\n",
       "      <td>100</td>\n",
       "      <td>ADNI2</td>\n",
       "      <td>ADNI2</td>\n",
       "      <td>2013-09-17</td>\n",
       "      <td>67.5</td>\n",
       "      <td>16</td>\n",
       "      <td>0.0</td>\n",
       "      <td>...</td>\n",
       "      <td>0</td>\n",
       "      <td>1</td>\n",
       "      <td>0</td>\n",
       "      <td>0</td>\n",
       "      <td>0</td>\n",
       "      <td>0</td>\n",
       "      <td>1</td>\n",
       "      <td>0</td>\n",
       "      <td>0</td>\n",
       "      <td>1</td>\n",
       "    </tr>\n",
       "    <tr>\n",
       "      <th>92</th>\n",
       "      <td>5279</td>\n",
       "      <td>082_S_5279</td>\n",
       "      <td>bl</td>\n",
       "      <td>82</td>\n",
       "      <td>ADNI2</td>\n",
       "      <td>ADNI2</td>\n",
       "      <td>2013-10-23</td>\n",
       "      <td>68.5</td>\n",
       "      <td>20</td>\n",
       "      <td>0.0</td>\n",
       "      <td>...</td>\n",
       "      <td>0</td>\n",
       "      <td>1</td>\n",
       "      <td>0</td>\n",
       "      <td>0</td>\n",
       "      <td>0</td>\n",
       "      <td>0</td>\n",
       "      <td>1</td>\n",
       "      <td>0</td>\n",
       "      <td>0</td>\n",
       "      <td>1</td>\n",
       "    </tr>\n",
       "    <tr>\n",
       "      <th>142</th>\n",
       "      <td>5278</td>\n",
       "      <td>082_S_5278</td>\n",
       "      <td>bl</td>\n",
       "      <td>82</td>\n",
       "      <td>ADNI2</td>\n",
       "      <td>ADNI2</td>\n",
       "      <td>2013-09-04</td>\n",
       "      <td>80.2</td>\n",
       "      <td>19</td>\n",
       "      <td>0.0</td>\n",
       "      <td>...</td>\n",
       "      <td>0</td>\n",
       "      <td>1</td>\n",
       "      <td>0</td>\n",
       "      <td>0</td>\n",
       "      <td>0</td>\n",
       "      <td>0</td>\n",
       "      <td>1</td>\n",
       "      <td>0</td>\n",
       "      <td>0</td>\n",
       "      <td>1</td>\n",
       "    </tr>\n",
       "    <tr>\n",
       "      <th>153</th>\n",
       "      <td>5277</td>\n",
       "      <td>027_S_5277</td>\n",
       "      <td>m24</td>\n",
       "      <td>27</td>\n",
       "      <td>ADNI2</td>\n",
       "      <td>ADNI2</td>\n",
       "      <td>2015-08-31</td>\n",
       "      <td>71.8</td>\n",
       "      <td>15</td>\n",
       "      <td>0.5</td>\n",
       "      <td>...</td>\n",
       "      <td>1</td>\n",
       "      <td>0</td>\n",
       "      <td>0</td>\n",
       "      <td>0</td>\n",
       "      <td>0</td>\n",
       "      <td>0</td>\n",
       "      <td>1</td>\n",
       "      <td>0</td>\n",
       "      <td>0</td>\n",
       "      <td>1</td>\n",
       "    </tr>\n",
       "    <tr>\n",
       "      <th>174</th>\n",
       "      <td>5277</td>\n",
       "      <td>027_S_5277</td>\n",
       "      <td>bl</td>\n",
       "      <td>27</td>\n",
       "      <td>ADNI2</td>\n",
       "      <td>ADNI2</td>\n",
       "      <td>2013-08-28</td>\n",
       "      <td>71.8</td>\n",
       "      <td>15</td>\n",
       "      <td>0.5</td>\n",
       "      <td>...</td>\n",
       "      <td>1</td>\n",
       "      <td>0</td>\n",
       "      <td>0</td>\n",
       "      <td>0</td>\n",
       "      <td>0</td>\n",
       "      <td>0</td>\n",
       "      <td>1</td>\n",
       "      <td>0</td>\n",
       "      <td>0</td>\n",
       "      <td>1</td>\n",
       "    </tr>\n",
       "  </tbody>\n",
       "</table>\n",
       "<p>5 rows × 99 columns</p>\n",
       "</div>"
      ],
      "text/plain": [
       "      RID        PTID VISCODE  SITE COLPROT ORIGPROT    EXAMDATE   AGE  \\\n",
       "91   5280  100_S_5280      bl   100   ADNI2    ADNI2  2013-09-17  67.5   \n",
       "92   5279  082_S_5279      bl    82   ADNI2    ADNI2  2013-10-23  68.5   \n",
       "142  5278  082_S_5278      bl    82   ADNI2    ADNI2  2013-09-04  80.2   \n",
       "153  5277  027_S_5277     m24    27   ADNI2    ADNI2  2015-08-31  71.8   \n",
       "174  5277  027_S_5277      bl    27   ADNI2    ADNI2  2013-08-28  71.8   \n",
       "\n",
       "     PTEDUCAT  CDRSB            ...             PTGENDER_Female  \\\n",
       "91         16    0.0            ...                           0   \n",
       "92         20    0.0            ...                           0   \n",
       "142        19    0.0            ...                           0   \n",
       "153        15    0.5            ...                           1   \n",
       "174        15    0.5            ...                           1   \n",
       "\n",
       "     PTGENDER_Male  DX_bl_AD  DX_bl_CN  DX_bl_EMCI  DX_bl_LMCI  DX_bl_SMC  \\\n",
       "91               1         0         0           0           0          1   \n",
       "92               1         0         0           0           0          1   \n",
       "142              1         0         0           0           0          1   \n",
       "153              0         0         0           0           0          1   \n",
       "174              0         0         0           0           0          1   \n",
       "\n",
       "     FSVERSION_Cross-Sectional FreeSurfer (FreeSurfer Version 4.3)  \\\n",
       "91                                                   0               \n",
       "92                                                   0               \n",
       "142                                                  0               \n",
       "153                                                  0               \n",
       "174                                                  0               \n",
       "\n",
       "     FSVERSION_bl_Cross-Sectional FreeSurfer (FreeSurfer Version 4.3)  \\\n",
       "91                                                   0                  \n",
       "92                                                   0                  \n",
       "142                                                  0                  \n",
       "153                                                  0                  \n",
       "174                                                  0                  \n",
       "\n",
       "     FLDSTRENG_bl_3 Tesla MRI  \n",
       "91                          1  \n",
       "92                          1  \n",
       "142                         1  \n",
       "153                         1  \n",
       "174                         1  \n",
       "\n",
       "[5 rows x 99 columns]"
      ]
     },
     "execution_count": 160,
     "metadata": {},
     "output_type": "execute_result"
    }
   ],
   "source": [
    "ADNI2_dx_remove.head()"
   ]
  },
  {
   "cell_type": "code",
   "execution_count": 161,
   "metadata": {},
   "outputs": [
    {
     "data": {
      "text/plain": [
       "Index(['RID', 'PTID', 'VISCODE', 'SITE', 'COLPROT', 'ORIGPROT', 'EXAMDATE',\n",
       "       'AGE', 'PTEDUCAT', 'CDRSB', 'ADAS11', 'ADAS13', 'MMSE',\n",
       "       'RAVLT_immediate', 'RAVLT_learning', 'RAVLT_forgetting',\n",
       "       'RAVLT_perc_forgetting', 'FAQ', 'MOCA', 'EcogPtMem', 'EcogPtLang',\n",
       "       'EcogPtVisspat', 'EcogPtPlan', 'EcogPtOrgan', 'EcogPtDivatt',\n",
       "       'EcogPtTotal', 'EcogSPMem', 'EcogSPLang', 'EcogSPVisspat', 'EcogSPPlan',\n",
       "       'EcogSPOrgan', 'EcogSPDivatt', 'EcogSPTotal', 'Ventricles',\n",
       "       'Hippocampus', 'WholeBrain', 'ICV', 'DX', 'EXAMDATE_bl', 'CDRSB_bl',\n",
       "       'ADAS11_bl', 'ADAS13_bl', 'MMSE_bl', 'RAVLT_immediate_bl',\n",
       "       'RAVLT_learning_bl', 'RAVLT_forgetting_bl', 'RAVLT_perc_forgetting_bl',\n",
       "       'FAQ_bl', 'Ventricles_bl', 'Hippocampus_bl', 'WholeBrain_bl',\n",
       "       'Entorhinal_bl', 'Fusiform_bl', 'MidTemp_bl', 'ICV_bl', 'MOCA_bl',\n",
       "       'EcogPtMem_bl', 'EcogPtLang_bl', 'EcogPtVisspat_bl', 'EcogPtPlan_bl',\n",
       "       'EcogPtOrgan_bl', 'EcogPtDivatt_bl', 'EcogPtTotal_bl', 'EcogSPMem_bl',\n",
       "       'EcogSPLang_bl', 'EcogSPVisspat_bl', 'EcogSPPlan_bl', 'EcogSPOrgan_bl',\n",
       "       'EcogSPDivatt_bl', 'EcogSPTotal_bl', 'FDG_bl', 'AV45_bl', 'Years_bl',\n",
       "       'update_stamp', 'PTETHCAT_Hisp/Latino', 'PTETHCAT_Not Hisp/Latino',\n",
       "       'PTRACCAT_Am Indian/Alaskan', 'PTRACCAT_Asian', 'PTRACCAT_Black',\n",
       "       'PTRACCAT_Hawaiian/Other PI', 'PTRACCAT_More than one',\n",
       "       'PTRACCAT_White', 'PTMARRY_Divorced', 'PTMARRY_Married',\n",
       "       'PTMARRY_Never married', 'PTMARRY_Widowed', 'APOE4_0.0', 'APOE4_1.0',\n",
       "       'APOE4_2.0', 'PTGENDER_Female', 'PTGENDER_Male', 'DX_bl_AD', 'DX_bl_CN',\n",
       "       'DX_bl_EMCI', 'DX_bl_LMCI', 'DX_bl_SMC',\n",
       "       'FSVERSION_Cross-Sectional FreeSurfer (FreeSurfer Version 4.3)',\n",
       "       'FSVERSION_bl_Cross-Sectional FreeSurfer (FreeSurfer Version 4.3)',\n",
       "       'FLDSTRENG_bl_3 Tesla MRI'],\n",
       "      dtype='object')"
      ]
     },
     "execution_count": 161,
     "metadata": {},
     "output_type": "execute_result"
    }
   ],
   "source": [
    "ADNI2_dx_remove.columns"
   ]
  },
  {
   "cell_type": "code",
   "execution_count": 162,
   "metadata": {
    "collapsed": true
   },
   "outputs": [],
   "source": [
    "ADNI2_dx_remove.to_csv(path_or_buf='ADNI2_dx_remove_all_missing.csv', index=False)"
   ]
  },
  {
   "cell_type": "markdown",
   "metadata": {},
   "source": [
    "## Model-Based Imputation \n",
    "- Drop around 5% of Categorical predictors and use Linear Regression for missing continuous predictors"
   ]
  },
  {
   "cell_type": "code",
   "execution_count": 163,
   "metadata": {
    "collapsed": true
   },
   "outputs": [],
   "source": [
    "def split (data, percentage):\n",
    "    np.random.seed(9001) \n",
    "    msk = np.random.rand(len(data)) < percentage\n",
    "    train = data[msk]\n",
    "    test = data[~msk]\n",
    "    return train, test"
   ]
  },
  {
   "cell_type": "code",
   "execution_count": 164,
   "metadata": {
    "collapsed": true
   },
   "outputs": [],
   "source": [
    "ADNI2_dx_impute = ADNI2_dx.copy()"
   ]
  },
  {
   "cell_type": "code",
   "execution_count": 165,
   "metadata": {},
   "outputs": [
    {
     "data": {
      "text/plain": [
       "Index(['RID', 'PTID', 'VISCODE', 'SITE', 'COLPROT', 'ORIGPROT', 'EXAMDATE',\n",
       "       'AGE', 'PTEDUCAT', 'CDRSB', 'ADAS11', 'ADAS13', 'MMSE',\n",
       "       'RAVLT_immediate', 'RAVLT_learning', 'RAVLT_forgetting',\n",
       "       'RAVLT_perc_forgetting', 'FAQ', 'MOCA', 'EcogPtMem', 'EcogPtLang',\n",
       "       'EcogPtVisspat', 'EcogPtPlan', 'EcogPtOrgan', 'EcogPtDivatt',\n",
       "       'EcogPtTotal', 'EcogSPMem', 'EcogSPLang', 'EcogSPVisspat', 'EcogSPPlan',\n",
       "       'EcogSPOrgan', 'EcogSPDivatt', 'EcogSPTotal', 'Ventricles',\n",
       "       'Hippocampus', 'WholeBrain', 'ICV', 'DX', 'EXAMDATE_bl', 'CDRSB_bl',\n",
       "       'ADAS11_bl', 'ADAS13_bl', 'MMSE_bl', 'RAVLT_immediate_bl',\n",
       "       'RAVLT_learning_bl', 'RAVLT_forgetting_bl', 'RAVLT_perc_forgetting_bl',\n",
       "       'FAQ_bl', 'Ventricles_bl', 'Hippocampus_bl', 'WholeBrain_bl',\n",
       "       'Entorhinal_bl', 'Fusiform_bl', 'MidTemp_bl', 'ICV_bl', 'MOCA_bl',\n",
       "       'EcogPtMem_bl', 'EcogPtLang_bl', 'EcogPtVisspat_bl', 'EcogPtPlan_bl',\n",
       "       'EcogPtOrgan_bl', 'EcogPtDivatt_bl', 'EcogPtTotal_bl', 'EcogSPMem_bl',\n",
       "       'EcogSPLang_bl', 'EcogSPVisspat_bl', 'EcogSPPlan_bl', 'EcogSPOrgan_bl',\n",
       "       'EcogSPDivatt_bl', 'EcogSPTotal_bl', 'FDG_bl', 'AV45_bl', 'Years_bl',\n",
       "       'update_stamp', 'PTETHCAT_Hisp/Latino', 'PTETHCAT_Not Hisp/Latino',\n",
       "       'PTRACCAT_Am Indian/Alaskan', 'PTRACCAT_Asian', 'PTRACCAT_Black',\n",
       "       'PTRACCAT_Hawaiian/Other PI', 'PTRACCAT_More than one',\n",
       "       'PTRACCAT_White', 'PTMARRY_Divorced', 'PTMARRY_Married',\n",
       "       'PTMARRY_Never married', 'PTMARRY_Widowed', 'APOE4_0.0', 'APOE4_1.0',\n",
       "       'APOE4_2.0', 'PTGENDER_Female', 'PTGENDER_Male', 'DX_bl_AD', 'DX_bl_CN',\n",
       "       'DX_bl_EMCI', 'DX_bl_LMCI', 'DX_bl_SMC',\n",
       "       'FSVERSION_Cross-Sectional FreeSurfer (FreeSurfer Version 4.3)',\n",
       "       'FSVERSION_bl_Cross-Sectional FreeSurfer (FreeSurfer Version 4.3)',\n",
       "       'FLDSTRENG_bl_3 Tesla MRI'],\n",
       "      dtype='object')"
      ]
     },
     "execution_count": 165,
     "metadata": {},
     "output_type": "execute_result"
    }
   ],
   "source": [
    "ADNI2_dx_impute.columns"
   ]
  },
  {
   "cell_type": "code",
   "execution_count": 166,
   "metadata": {
    "collapsed": true
   },
   "outputs": [],
   "source": [
    "all_predictors = ['RID', 'PTID', 'VISCODE', 'SITE', 'COLPROT', 'ORIGPROT', 'EXAMDATE',\n",
    "       'DX_bl', 'AGE', 'PTEDUCAT', 'CDRSB', 'ADAS11', 'ADAS13', 'MMSE',\n",
    "       'RAVLT_immediate', 'RAVLT_learning', 'RAVLT_forgetting',\n",
    "       'RAVLT_perc_forgetting', 'FAQ', 'MOCA', 'EcogPtMem', 'EcogPtLang',\n",
    "       'EcogPtVisspat', 'EcogPtPlan', 'EcogPtOrgan', 'EcogPtDivatt',\n",
    "       'EcogPtTotal', 'EcogSPMem', 'EcogSPLang', 'EcogSPVisspat', 'EcogSPPlan',\n",
    "       'EcogSPOrgan', 'EcogSPDivatt', 'EcogSPTotal', 'Ventricles',\n",
    "       'Hippocampus', 'WholeBrain', 'ICV', 'DX', 'EXAMDATE_bl', 'CDRSB_bl',\n",
    "       'ADAS11_bl', 'ADAS13_bl', 'MMSE_bl', 'RAVLT_immediate_bl',\n",
    "       'RAVLT_learning_bl', 'RAVLT_forgetting_bl', 'RAVLT_perc_forgetting_bl',\n",
    "       'FAQ_bl', 'Ventricles_bl', 'Hippocampus_bl', 'WholeBrain_bl',\n",
    "       'Entorhinal_bl', 'Fusiform_bl', 'MidTemp_bl', 'ICV_bl', 'MOCA_bl',\n",
    "       'EcogPtMem_bl', 'EcogPtLang_bl', 'EcogPtVisspat_bl', 'EcogPtPlan_bl',\n",
    "       'EcogPtOrgan_bl', 'EcogPtDivatt_bl', 'EcogPtTotal_bl', 'EcogSPMem_bl',\n",
    "       'EcogSPLang_bl', 'EcogSPVisspat_bl', 'EcogSPPlan_bl', 'EcogSPOrgan_bl',\n",
    "       'EcogSPDivatt_bl', 'EcogSPTotal_bl', 'FDG_bl', 'AV45_bl', 'Years_bl',\n",
    "       'update_stamp', 'PTETHCAT_Hisp/Latino', 'PTETHCAT_Not Hisp/Latino',\n",
    "       'PTRACCAT_Am Indian/Alaskan', 'PTRACCAT_Asian', 'PTRACCAT_Black',\n",
    "       'PTRACCAT_Hawaiian/Other PI', 'PTRACCAT_More than one',\n",
    "       'PTRACCAT_White', 'PTMARRY_Divorced', 'PTMARRY_Married',\n",
    "       'PTMARRY_Never married', 'PTMARRY_Widowed', 'APOE4_0.0', 'APOE4_1.0',\n",
    "       'APOE4_2.0', 'PTGENDER_Female', 'PTGENDER_Male',\n",
    "       'FSVERSION_Cross-Sectional FreeSurfer (FreeSurfer Version 4.3)',\n",
    "       'FSVERSION_bl_Cross-Sectional FreeSurfer (FreeSurfer Version 4.3)',\n",
    "       'FLDSTRENG_bl_3 Tesla MRI']\n",
    "\n",
    "\n",
    "         \n",
    "continuous_predictors = ['AGE', \n",
    "       'PTEDUCAT', 'CDRSB_bl', 'ADAS11_bl', 'ADAS13_bl', 'MMSE_bl',\n",
    "       'RAVLT_immediate_bl', 'RAVLT_learning_bl', 'RAVLT_forgetting_bl',\n",
    "       'RAVLT_perc_forgetting_bl', 'FAQ_bl',\n",
    "       'Ventricles_bl', 'Hippocampus_bl', 'WholeBrain_bl', 'Entorhinal_bl',\n",
    "       'Fusiform_bl', 'MidTemp_bl', 'ICV_bl', 'MOCA_bl', 'EcogPtMem_bl',\n",
    "       'EcogPtLang_bl', 'EcogPtVisspat_bl', 'EcogPtPlan_bl', 'EcogPtOrgan_bl',\n",
    "       'EcogPtDivatt_bl', 'EcogPtTotal_bl', 'EcogSPMem_bl', 'EcogSPLang_bl',\n",
    "       'EcogSPVisspat_bl', 'EcogSPPlan_bl', 'EcogSPOrgan_bl',\n",
    "       'EcogSPDivatt_bl', 'EcogSPTotal_bl', 'FDG_bl', 'AV45_bl',\n",
    "        'CDRSB', 'ADAS11', 'ADAS13','MMSE','FAQ', 'MOCA', 'EcogPtMem', 'EcogPtLang',\n",
    "       'EcogPtVisspat', 'EcogPtPlan', 'EcogPtOrgan', 'EcogPtDivatt',\n",
    "       'EcogPtTotal', 'EcogSPMem', 'EcogSPLang', 'EcogSPVisspat', 'EcogSPPlan',\n",
    "       'EcogSPOrgan', 'EcogSPDivatt', 'EcogSPTotal', 'Ventricles',\n",
    "       'Hippocampus', 'WholeBrain', 'ICV','Years_bl',\n",
    "        'RAVLT_immediate', 'RAVLT_learning', 'RAVLT_forgetting',\n",
    "        'RAVLT_perc_forgetting',\n",
    "       ]"
   ]
  },
  {
   "cell_type": "code",
   "execution_count": 167,
   "metadata": {},
   "outputs": [
    {
     "data": {
      "text/plain": [
       "(4511, 99)"
      ]
     },
     "execution_count": 167,
     "metadata": {},
     "output_type": "execute_result"
    }
   ],
   "source": [
    "ADNI2_dx.shape"
   ]
  },
  {
   "cell_type": "code",
   "execution_count": 168,
   "metadata": {},
   "outputs": [],
   "source": [
    "''' Create ADNI2_missing for imputation '''\n",
    "ADNI2_dx_impute_remove_categorical = ADNI2_dx_impute[continuous_predictors]\n",
    "\n",
    "''' Create the Dataframe for imputation '''\n",
    "ADNI2_dx_missing = pd.concat([ADNI2_dx_impute_remove_categorical, ADNI2_dx_categorical], axis=1)\n"
   ]
  },
  {
   "cell_type": "code",
   "execution_count": 169,
   "metadata": {},
   "outputs": [
    {
     "name": "stdout",
     "output_type": "stream",
     "text": [
      "(4511, 64)\n",
      "(4511, 28)\n",
      "(4511, 99)\n"
     ]
    }
   ],
   "source": [
    "print(ADNI2_dx_impute_remove_categorical.shape)\n",
    "print(ADNI2_dx_categorical.shape)\n",
    "print(ADNI2_dx.shape)\n",
    "\n",
    "# I did not consider \n",
    "#'RID', 'PTID', 'VISCODE', 'SITE', 'COLPROT', 'ORIGPROT', 'EXAMDATE',  EXAMDATE_bl',"
   ]
  },
  {
   "cell_type": "code",
   "execution_count": 171,
   "metadata": {},
   "outputs": [
    {
     "data": {
      "text/html": [
       "<div>\n",
       "<style>\n",
       "    .dataframe thead tr:only-child th {\n",
       "        text-align: right;\n",
       "    }\n",
       "\n",
       "    .dataframe thead th {\n",
       "        text-align: left;\n",
       "    }\n",
       "\n",
       "    .dataframe tbody tr th {\n",
       "        vertical-align: top;\n",
       "    }\n",
       "</style>\n",
       "<table border=\"1\" class=\"dataframe\">\n",
       "  <thead>\n",
       "    <tr style=\"text-align: right;\">\n",
       "      <th></th>\n",
       "      <th>AGE</th>\n",
       "      <th>PTEDUCAT</th>\n",
       "      <th>CDRSB_bl</th>\n",
       "      <th>ADAS11_bl</th>\n",
       "      <th>ADAS13_bl</th>\n",
       "      <th>MMSE_bl</th>\n",
       "      <th>RAVLT_immediate_bl</th>\n",
       "      <th>RAVLT_learning_bl</th>\n",
       "      <th>RAVLT_forgetting_bl</th>\n",
       "      <th>RAVLT_perc_forgetting_bl</th>\n",
       "      <th>...</th>\n",
       "      <th>DX_bl_EMCI</th>\n",
       "      <th>DX_bl_LMCI</th>\n",
       "      <th>DX_bl_SMC</th>\n",
       "      <th>FSVERSION_Cross-Sectional FreeSurfer (5.1)</th>\n",
       "      <th>FSVERSION_Cross-Sectional FreeSurfer (FreeSurfer Version 4.3)</th>\n",
       "      <th>FSVERSION_bl_Cross-Sectional FreeSurfer (5.1)</th>\n",
       "      <th>FSVERSION_bl_Cross-Sectional FreeSurfer (FreeSurfer Version 4.3)</th>\n",
       "      <th>FLDSTRENG_bl_1.5 Tesla MRI</th>\n",
       "      <th>FLDSTRENG_bl_3 Tesla MRI</th>\n",
       "      <th>DX</th>\n",
       "    </tr>\n",
       "  </thead>\n",
       "  <tbody>\n",
       "    <tr>\n",
       "      <th>58</th>\n",
       "      <td>66.9</td>\n",
       "      <td>17</td>\n",
       "      <td>0.0</td>\n",
       "      <td>10.0</td>\n",
       "      <td>15.0</td>\n",
       "      <td>29</td>\n",
       "      <td>42.0</td>\n",
       "      <td>5.0</td>\n",
       "      <td>2.0</td>\n",
       "      <td>20.0</td>\n",
       "      <td>...</td>\n",
       "      <td>0</td>\n",
       "      <td>0</td>\n",
       "      <td>1</td>\n",
       "      <td>1</td>\n",
       "      <td>0</td>\n",
       "      <td>1</td>\n",
       "      <td>0</td>\n",
       "      <td>0</td>\n",
       "      <td>1</td>\n",
       "      <td>0</td>\n",
       "    </tr>\n",
       "    <tr>\n",
       "      <th>59</th>\n",
       "      <td>67.5</td>\n",
       "      <td>16</td>\n",
       "      <td>0.0</td>\n",
       "      <td>3.0</td>\n",
       "      <td>5.0</td>\n",
       "      <td>30</td>\n",
       "      <td>42.0</td>\n",
       "      <td>7.0</td>\n",
       "      <td>2.0</td>\n",
       "      <td>20.0</td>\n",
       "      <td>...</td>\n",
       "      <td>0</td>\n",
       "      <td>0</td>\n",
       "      <td>1</td>\n",
       "      <td>0</td>\n",
       "      <td>0</td>\n",
       "      <td>1</td>\n",
       "      <td>0</td>\n",
       "      <td>0</td>\n",
       "      <td>1</td>\n",
       "      <td>0</td>\n",
       "    </tr>\n",
       "    <tr>\n",
       "      <th>68</th>\n",
       "      <td>67.5</td>\n",
       "      <td>16</td>\n",
       "      <td>0.0</td>\n",
       "      <td>3.0</td>\n",
       "      <td>5.0</td>\n",
       "      <td>30</td>\n",
       "      <td>42.0</td>\n",
       "      <td>7.0</td>\n",
       "      <td>2.0</td>\n",
       "      <td>20.0</td>\n",
       "      <td>...</td>\n",
       "      <td>0</td>\n",
       "      <td>0</td>\n",
       "      <td>1</td>\n",
       "      <td>0</td>\n",
       "      <td>0</td>\n",
       "      <td>1</td>\n",
       "      <td>0</td>\n",
       "      <td>0</td>\n",
       "      <td>1</td>\n",
       "      <td>0</td>\n",
       "    </tr>\n",
       "    <tr>\n",
       "      <th>91</th>\n",
       "      <td>67.5</td>\n",
       "      <td>16</td>\n",
       "      <td>0.0</td>\n",
       "      <td>3.0</td>\n",
       "      <td>5.0</td>\n",
       "      <td>30</td>\n",
       "      <td>42.0</td>\n",
       "      <td>7.0</td>\n",
       "      <td>2.0</td>\n",
       "      <td>20.0</td>\n",
       "      <td>...</td>\n",
       "      <td>0</td>\n",
       "      <td>0</td>\n",
       "      <td>1</td>\n",
       "      <td>1</td>\n",
       "      <td>0</td>\n",
       "      <td>1</td>\n",
       "      <td>0</td>\n",
       "      <td>0</td>\n",
       "      <td>1</td>\n",
       "      <td>0</td>\n",
       "    </tr>\n",
       "    <tr>\n",
       "      <th>92</th>\n",
       "      <td>68.5</td>\n",
       "      <td>20</td>\n",
       "      <td>0.0</td>\n",
       "      <td>4.0</td>\n",
       "      <td>7.0</td>\n",
       "      <td>30</td>\n",
       "      <td>61.0</td>\n",
       "      <td>6.0</td>\n",
       "      <td>3.0</td>\n",
       "      <td>20.0</td>\n",
       "      <td>...</td>\n",
       "      <td>0</td>\n",
       "      <td>0</td>\n",
       "      <td>1</td>\n",
       "      <td>1</td>\n",
       "      <td>0</td>\n",
       "      <td>1</td>\n",
       "      <td>0</td>\n",
       "      <td>0</td>\n",
       "      <td>1</td>\n",
       "      <td>0</td>\n",
       "    </tr>\n",
       "  </tbody>\n",
       "</table>\n",
       "<p>5 rows × 93 columns</p>\n",
       "</div>"
      ],
      "text/plain": [
       "     AGE  PTEDUCAT  CDRSB_bl  ADAS11_bl  ADAS13_bl  MMSE_bl  \\\n",
       "58  66.9        17       0.0       10.0       15.0       29   \n",
       "59  67.5        16       0.0        3.0        5.0       30   \n",
       "68  67.5        16       0.0        3.0        5.0       30   \n",
       "91  67.5        16       0.0        3.0        5.0       30   \n",
       "92  68.5        20       0.0        4.0        7.0       30   \n",
       "\n",
       "    RAVLT_immediate_bl  RAVLT_learning_bl  RAVLT_forgetting_bl  \\\n",
       "58                42.0                5.0                  2.0   \n",
       "59                42.0                7.0                  2.0   \n",
       "68                42.0                7.0                  2.0   \n",
       "91                42.0                7.0                  2.0   \n",
       "92                61.0                6.0                  3.0   \n",
       "\n",
       "    RAVLT_perc_forgetting_bl ...  DX_bl_EMCI  DX_bl_LMCI  DX_bl_SMC  \\\n",
       "58                      20.0 ...           0           0          1   \n",
       "59                      20.0 ...           0           0          1   \n",
       "68                      20.0 ...           0           0          1   \n",
       "91                      20.0 ...           0           0          1   \n",
       "92                      20.0 ...           0           0          1   \n",
       "\n",
       "    FSVERSION_Cross-Sectional FreeSurfer (5.1)  \\\n",
       "58                                           1   \n",
       "59                                           0   \n",
       "68                                           0   \n",
       "91                                           1   \n",
       "92                                           1   \n",
       "\n",
       "    FSVERSION_Cross-Sectional FreeSurfer (FreeSurfer Version 4.3)  \\\n",
       "58                                                  0               \n",
       "59                                                  0               \n",
       "68                                                  0               \n",
       "91                                                  0               \n",
       "92                                                  0               \n",
       "\n",
       "    FSVERSION_bl_Cross-Sectional FreeSurfer (5.1)  \\\n",
       "58                                              1   \n",
       "59                                              1   \n",
       "68                                              1   \n",
       "91                                              1   \n",
       "92                                              1   \n",
       "\n",
       "    FSVERSION_bl_Cross-Sectional FreeSurfer (FreeSurfer Version 4.3)  \\\n",
       "58                                                  0                  \n",
       "59                                                  0                  \n",
       "68                                                  0                  \n",
       "91                                                  0                  \n",
       "92                                                  0                  \n",
       "\n",
       "    FLDSTRENG_bl_1.5 Tesla MRI  FLDSTRENG_bl_3 Tesla MRI  DX  \n",
       "58                           0                         1   0  \n",
       "59                           0                         1   0  \n",
       "68                           0                         1   0  \n",
       "91                           0                         1   0  \n",
       "92                           0                         1   0  \n",
       "\n",
       "[5 rows x 93 columns]"
      ]
     },
     "execution_count": 171,
     "metadata": {},
     "output_type": "execute_result"
    }
   ],
   "source": [
    "ADNI2_dx_missing['DX']=ADNI2_dx_impute['DX']\n",
    "ADNI2_dx_missing.head()"
   ]
  },
  {
   "cell_type": "code",
   "execution_count": 172,
   "metadata": {},
   "outputs": [
    {
     "name": "stdout",
     "output_type": "stream",
     "text": [
      "(4511, 64)\n"
     ]
    }
   ],
   "source": [
    "print(ADNI2_dx_impute_remove_categorical.shape)"
   ]
  },
  {
   "cell_type": "code",
   "execution_count": 173,
   "metadata": {},
   "outputs": [
    {
     "name": "stdout",
     "output_type": "stream",
     "text": [
      "Index(['AGE', 'PTEDUCAT', 'CDRSB_bl', 'ADAS11_bl', 'ADAS13_bl', 'MMSE_bl',\n",
      "       'RAVLT_immediate_bl', 'RAVLT_learning_bl', 'RAVLT_forgetting_bl',\n",
      "       'RAVLT_perc_forgetting_bl', 'FAQ_bl', 'Ventricles_bl', 'Hippocampus_bl',\n",
      "       'WholeBrain_bl', 'Entorhinal_bl', 'Fusiform_bl', 'MidTemp_bl', 'ICV_bl',\n",
      "       'MOCA_bl', 'EcogPtMem_bl', 'EcogPtLang_bl', 'EcogPtVisspat_bl',\n",
      "       'EcogPtPlan_bl', 'EcogPtOrgan_bl', 'EcogPtDivatt_bl', 'EcogPtTotal_bl',\n",
      "       'EcogSPMem_bl', 'EcogSPLang_bl', 'EcogSPVisspat_bl', 'EcogSPPlan_bl',\n",
      "       'EcogSPOrgan_bl', 'EcogSPDivatt_bl', 'EcogSPTotal_bl', 'FDG_bl',\n",
      "       'AV45_bl', 'CDRSB', 'ADAS11', 'ADAS13', 'MMSE', 'FAQ', 'MOCA',\n",
      "       'EcogPtMem', 'EcogPtLang', 'EcogPtVisspat', 'EcogPtPlan', 'EcogPtOrgan',\n",
      "       'EcogPtDivatt', 'EcogPtTotal', 'EcogSPMem', 'EcogSPLang',\n",
      "       'EcogSPVisspat', 'EcogSPPlan', 'EcogSPOrgan', 'EcogSPDivatt',\n",
      "       'EcogSPTotal', 'Ventricles', 'Hippocampus', 'WholeBrain', 'ICV',\n",
      "       'Years_bl', 'RAVLT_immediate', 'RAVLT_learning', 'RAVLT_forgetting',\n",
      "       'RAVLT_perc_forgetting', 'PTETHCAT_Hisp/Latino',\n",
      "       'PTETHCAT_Not Hisp/Latino', 'PTRACCAT_Am Indian/Alaskan',\n",
      "       'PTRACCAT_Asian', 'PTRACCAT_Black', 'PTRACCAT_Hawaiian/Other PI',\n",
      "       'PTRACCAT_More than one', 'PTRACCAT_White', 'PTMARRY_Divorced',\n",
      "       'PTMARRY_Married', 'PTMARRY_Never married', 'PTMARRY_Widowed',\n",
      "       'APOE4_0.0', 'APOE4_1.0', 'APOE4_2.0', 'PTGENDER_Female',\n",
      "       'PTGENDER_Male', 'DX_bl_AD', 'DX_bl_CN', 'DX_bl_EMCI', 'DX_bl_LMCI',\n",
      "       'DX_bl_SMC', 'FSVERSION_Cross-Sectional FreeSurfer (5.1)',\n",
      "       'FSVERSION_Cross-Sectional FreeSurfer (FreeSurfer Version 4.3)',\n",
      "       'FSVERSION_bl_Cross-Sectional FreeSurfer (5.1)',\n",
      "       'FSVERSION_bl_Cross-Sectional FreeSurfer (FreeSurfer Version 4.3)',\n",
      "       'FLDSTRENG_bl_1.5 Tesla MRI', 'FLDSTRENG_bl_3 Tesla MRI', 'DX'],\n",
      "      dtype='object')\n"
     ]
    }
   ],
   "source": [
    "print(ADNI2_dx_missing.columns)"
   ]
  },
  {
   "cell_type": "code",
   "execution_count": 188,
   "metadata": {
    "collapsed": true
   },
   "outputs": [],
   "source": [
    "full_dataframe =  copy(ADNI2_dx_missing)\n",
    "full_dataframe_train, full_dataframe_test = split(full_dataframe,0.75)\n",
    "ADNI2_dx_missing_train, ADNI2_dx_missing_test = split(ADNI2_dx_missing,0.75)"
   ]
  },
  {
   "cell_type": "code",
   "execution_count": 189,
   "metadata": {},
   "outputs": [
    {
     "name": "stdout",
     "output_type": "stream",
     "text": [
      "The origin number of data: 3397\n",
      "The number of data that contains missing entries: 2266\n",
      "The dimension of full dataframe: (1131, 93)\n",
      "0\n"
     ]
    }
   ],
   "source": [
    "#For train\n",
    "missing_rows = []\n",
    "for i in range(ADNI2_dx_missing_train.shape[0]):\n",
    "    if pd.isnull(ADNI2_dx_missing_train.values[i]).any():\n",
    "        missing_rows.append(i)\n",
    "full_dataframe_train = full_dataframe_train.drop(full_dataframe_train.index[missing_rows], axis=0);\n",
    "\n",
    "print('The origin number of data: {}'.format(len(ADNI2_dx_missing_train)))\n",
    "print('The number of data that contains missing entries: {}'.format(len(missing_rows)))\n",
    "print('The dimension of full dataframe: {}'.format(full_dataframe_train.shape))\n",
    "\n",
    "''' To check that full_dataframe has no missing values '''\n",
    "print(np.sum(np.sum(full_dataframe_train.isnull())))"
   ]
  },
  {
   "cell_type": "code",
   "execution_count": 190,
   "metadata": {
    "collapsed": true
   },
   "outputs": [],
   "source": [
    "''' Model-Based Imputation - Linear Regression for train'''\n",
    "\n",
    "lr = LinearRegression(fit_intercept = True)\n",
    "\n",
    "\n",
    "for i in range(ADNI2_dx_missing_train.shape[0]):\n",
    "    if ADNI2_dx_missing_train.iloc[i, :].isnull().any():\n",
    "        missing_columns = ADNI2_dx_missing_train.columns[ADNI2_dx_missing_train.iloc[i, :].isnull()]\n",
    "        #print(i, missing_columns)\n",
    "        y_imp_train = full_dataframe_train[missing_columns]\n",
    "        X_imp_train = full_dataframe_train.drop(missing_columns, 1)\n",
    "#         print(y_imp.shape)\n",
    "#         print(X_imp.shape)\n",
    "        lr.fit(X_imp_train,y_imp_train)\n",
    "        X_missing_train = ADNI2_dx_missing_train.iloc[i, :].drop(missing_columns)\n",
    "        y_hat_train = lr.predict(X_missing_train)\n",
    "        ADNI2_dx_missing_train.loc[ADNI2_dx_missing_train.index[i], missing_columns] = y_hat_train[0] \n",
    "     "
   ]
  },
  {
   "cell_type": "code",
   "execution_count": 191,
   "metadata": {},
   "outputs": [
    {
     "data": {
      "text/plain": [
       "AGE                                                                 0\n",
       "PTEDUCAT                                                            0\n",
       "CDRSB_bl                                                            0\n",
       "ADAS11_bl                                                           0\n",
       "ADAS13_bl                                                           0\n",
       "MMSE_bl                                                             0\n",
       "RAVLT_immediate_bl                                                  0\n",
       "RAVLT_learning_bl                                                   0\n",
       "RAVLT_forgetting_bl                                                 0\n",
       "RAVLT_perc_forgetting_bl                                            0\n",
       "FAQ_bl                                                              0\n",
       "Ventricles_bl                                                       0\n",
       "Hippocampus_bl                                                      0\n",
       "WholeBrain_bl                                                       0\n",
       "Entorhinal_bl                                                       0\n",
       "Fusiform_bl                                                         0\n",
       "MidTemp_bl                                                          0\n",
       "ICV_bl                                                              0\n",
       "MOCA_bl                                                             0\n",
       "EcogPtMem_bl                                                        0\n",
       "EcogPtLang_bl                                                       0\n",
       "EcogPtVisspat_bl                                                    0\n",
       "EcogPtPlan_bl                                                       0\n",
       "EcogPtOrgan_bl                                                      0\n",
       "EcogPtDivatt_bl                                                     0\n",
       "EcogPtTotal_bl                                                      0\n",
       "EcogSPMem_bl                                                        0\n",
       "EcogSPLang_bl                                                       0\n",
       "EcogSPVisspat_bl                                                    0\n",
       "EcogSPPlan_bl                                                       0\n",
       "                                                                   ..\n",
       "RAVLT_perc_forgetting                                               0\n",
       "PTETHCAT_Hisp/Latino                                                0\n",
       "PTETHCAT_Not Hisp/Latino                                            0\n",
       "PTRACCAT_Am Indian/Alaskan                                          0\n",
       "PTRACCAT_Asian                                                      0\n",
       "PTRACCAT_Black                                                      0\n",
       "PTRACCAT_Hawaiian/Other PI                                          0\n",
       "PTRACCAT_More than one                                              0\n",
       "PTRACCAT_White                                                      0\n",
       "PTMARRY_Divorced                                                    0\n",
       "PTMARRY_Married                                                     0\n",
       "PTMARRY_Never married                                               0\n",
       "PTMARRY_Widowed                                                     0\n",
       "APOE4_0.0                                                           0\n",
       "APOE4_1.0                                                           0\n",
       "APOE4_2.0                                                           0\n",
       "PTGENDER_Female                                                     0\n",
       "PTGENDER_Male                                                       0\n",
       "DX_bl_AD                                                            0\n",
       "DX_bl_CN                                                            0\n",
       "DX_bl_EMCI                                                          0\n",
       "DX_bl_LMCI                                                          0\n",
       "DX_bl_SMC                                                           0\n",
       "FSVERSION_Cross-Sectional FreeSurfer (5.1)                          0\n",
       "FSVERSION_Cross-Sectional FreeSurfer (FreeSurfer Version 4.3)       0\n",
       "FSVERSION_bl_Cross-Sectional FreeSurfer (5.1)                       0\n",
       "FSVERSION_bl_Cross-Sectional FreeSurfer (FreeSurfer Version 4.3)    0\n",
       "FLDSTRENG_bl_1.5 Tesla MRI                                          0\n",
       "FLDSTRENG_bl_3 Tesla MRI                                            0\n",
       "DX                                                                  0\n",
       "Length: 93, dtype: int64"
      ]
     },
     "execution_count": 191,
     "metadata": {},
     "output_type": "execute_result"
    }
   ],
   "source": [
    "ADNI2_dx_missing_train.isnull().sum()"
   ]
  },
  {
   "cell_type": "code",
   "execution_count": 192,
   "metadata": {},
   "outputs": [
    {
     "name": "stdout",
     "output_type": "stream",
     "text": [
      "The origin number of data: 1114\n",
      "The number of data that contains missing entries: 709\n",
      "The dimension of full dataframe: (405, 93)\n",
      "0\n"
     ]
    }
   ],
   "source": [
    "#For test\n",
    "missing_rows_test = []\n",
    "for i in range(ADNI2_dx_missing_test.shape[0]):\n",
    "    if pd.isnull(ADNI2_dx_missing_test.values[i]).any():\n",
    "        missing_rows_test.append(i)\n",
    "full_dataframe_test = full_dataframe_test.drop(full_dataframe_test.index[missing_rows_test], axis=0);\n",
    "\n",
    "print('The origin number of data: {}'.format(len(ADNI2_dx_missing_test)))\n",
    "print('The number of data that contains missing entries: {}'.format(len(missing_rows_test)))\n",
    "print('The dimension of full dataframe: {}'.format(full_dataframe_test.shape))\n",
    "\n",
    "''' To check that full_dataframe has no missing values '''\n",
    "print(np.sum(np.sum(full_dataframe_test.isnull())))"
   ]
  },
  {
   "cell_type": "code",
   "execution_count": 194,
   "metadata": {},
   "outputs": [],
   "source": [
    "#Model-Based Imputation - Linear Regression for test\n",
    "\n",
    "lr = LinearRegression(fit_intercept = True)\n",
    "\n",
    "for i in range(ADNI2_dx_missing_test.shape[0]):\n",
    "    if ADNI2_dx_missing_test.iloc[i, :].isnull().any():\n",
    "        missing_columns = ADNI2_dx_missing_test.columns[ADNI2_dx_missing_test.iloc[i, :].isnull()]\n",
    "        y_imp_test = full_dataframe_test[missing_columns]\n",
    "        X_imp_test = full_dataframe_test.drop(missing_columns, 1)\n",
    "        #print(i, missing_columns)\n",
    "#         print(y_imp.shape)\n",
    "#         print(X_imp.shape)\n",
    "        lr.fit(X_imp_test,y_imp_test)\n",
    "        X_missing_test = ADNI2_dx_missing_test.iloc[i, :].drop(missing_columns)\n",
    "        y_hat_test = lr.predict(X_missing_test)\n",
    "        ADNI2_dx_missing_test.loc[ADNI2_dx_missing_test.index[i], missing_columns] = y_hat_test[0] \n",
    "     "
   ]
  },
  {
   "cell_type": "code",
   "execution_count": 198,
   "metadata": {},
   "outputs": [
    {
     "data": {
      "text/plain": [
       "AGE                                                                 0\n",
       "PTEDUCAT                                                            0\n",
       "CDRSB_bl                                                            0\n",
       "ADAS11_bl                                                           0\n",
       "ADAS13_bl                                                           0\n",
       "MMSE_bl                                                             0\n",
       "RAVLT_immediate_bl                                                  0\n",
       "RAVLT_learning_bl                                                   0\n",
       "RAVLT_forgetting_bl                                                 0\n",
       "RAVLT_perc_forgetting_bl                                            0\n",
       "FAQ_bl                                                              0\n",
       "Ventricles_bl                                                       0\n",
       "Hippocampus_bl                                                      0\n",
       "WholeBrain_bl                                                       0\n",
       "Entorhinal_bl                                                       0\n",
       "Fusiform_bl                                                         0\n",
       "MidTemp_bl                                                          0\n",
       "ICV_bl                                                              0\n",
       "MOCA_bl                                                             0\n",
       "EcogPtMem_bl                                                        0\n",
       "EcogPtLang_bl                                                       0\n",
       "EcogPtVisspat_bl                                                    0\n",
       "EcogPtPlan_bl                                                       0\n",
       "EcogPtOrgan_bl                                                      0\n",
       "EcogPtDivatt_bl                                                     0\n",
       "EcogPtTotal_bl                                                      0\n",
       "EcogSPMem_bl                                                        0\n",
       "EcogSPLang_bl                                                       0\n",
       "EcogSPVisspat_bl                                                    0\n",
       "EcogSPPlan_bl                                                       0\n",
       "                                                                   ..\n",
       "RAVLT_perc_forgetting                                               0\n",
       "PTETHCAT_Hisp/Latino                                                0\n",
       "PTETHCAT_Not Hisp/Latino                                            0\n",
       "PTRACCAT_Am Indian/Alaskan                                          0\n",
       "PTRACCAT_Asian                                                      0\n",
       "PTRACCAT_Black                                                      0\n",
       "PTRACCAT_Hawaiian/Other PI                                          0\n",
       "PTRACCAT_More than one                                              0\n",
       "PTRACCAT_White                                                      0\n",
       "PTMARRY_Divorced                                                    0\n",
       "PTMARRY_Married                                                     0\n",
       "PTMARRY_Never married                                               0\n",
       "PTMARRY_Widowed                                                     0\n",
       "APOE4_0.0                                                           0\n",
       "APOE4_1.0                                                           0\n",
       "APOE4_2.0                                                           0\n",
       "PTGENDER_Female                                                     0\n",
       "PTGENDER_Male                                                       0\n",
       "DX_bl_AD                                                            0\n",
       "DX_bl_CN                                                            0\n",
       "DX_bl_EMCI                                                          0\n",
       "DX_bl_LMCI                                                          0\n",
       "DX_bl_SMC                                                           0\n",
       "FSVERSION_Cross-Sectional FreeSurfer (5.1)                          0\n",
       "FSVERSION_Cross-Sectional FreeSurfer (FreeSurfer Version 4.3)       0\n",
       "FSVERSION_bl_Cross-Sectional FreeSurfer (5.1)                       0\n",
       "FSVERSION_bl_Cross-Sectional FreeSurfer (FreeSurfer Version 4.3)    0\n",
       "FLDSTRENG_bl_1.5 Tesla MRI                                          0\n",
       "FLDSTRENG_bl_3 Tesla MRI                                            0\n",
       "DX                                                                  0\n",
       "Length: 93, dtype: int64"
      ]
     },
     "execution_count": 198,
     "metadata": {},
     "output_type": "execute_result"
    }
   ],
   "source": [
    "ADNI2_dx_missing_train.isnull().sum()"
   ]
  },
  {
   "cell_type": "code",
   "execution_count": 197,
   "metadata": {},
   "outputs": [
    {
     "name": "stdout",
     "output_type": "stream",
     "text": [
      "(3397, 93)\n",
      "(1114, 93)\n",
      "(1536, 99)\n"
     ]
    }
   ],
   "source": [
    "print(ADNI2_dx_missing_train.shape)\n",
    "print(ADNI2_dx_missing_test.shape)\n",
    "print(ADNI2_dx_remove.shape)"
   ]
  },
  {
   "cell_type": "code",
   "execution_count": 41,
   "metadata": {},
   "outputs": [
    {
     "data": {
      "text/plain": [
       "AGE                           0\n",
       "PTEDUCAT                      0\n",
       "CDRSB_bl                      0\n",
       "ADAS11_bl                     0\n",
       "ADAS13_bl                     0\n",
       "MMSE_bl                       0\n",
       "RAVLT_immediate_bl            0\n",
       "RAVLT_learning_bl             0\n",
       "RAVLT_forgetting_bl           0\n",
       "RAVLT_perc_forgetting_bl      0\n",
       "FAQ_bl                        0\n",
       "Ventricles_bl                 0\n",
       "Hippocampus_bl                0\n",
       "WholeBrain_bl                 0\n",
       "Entorhinal_bl                 0\n",
       "Fusiform_bl                   0\n",
       "MidTemp_bl                    0\n",
       "ICV_bl                        0\n",
       "MOCA_bl                       0\n",
       "EcogPtMem_bl                  0\n",
       "EcogPtLang_bl                 0\n",
       "EcogPtVisspat_bl              0\n",
       "EcogPtPlan_bl                 0\n",
       "EcogPtOrgan_bl                0\n",
       "EcogPtDivatt_bl               0\n",
       "EcogPtTotal_bl                0\n",
       "EcogSPMem_bl                  0\n",
       "EcogSPLang_bl                 0\n",
       "EcogSPVisspat_bl              0\n",
       "EcogSPPlan_bl                 0\n",
       "EcogSPOrgan_bl                0\n",
       "EcogSPDivatt_bl               0\n",
       "EcogSPTotal_bl                0\n",
       "FDG_bl                        0\n",
       "AV45_bl                       0\n",
       "PTETHCAT_Hisp/Latino          0\n",
       "PTETHCAT_Not Hisp/Latino      0\n",
       "PTRACCAT_Am Indian/Alaskan    0\n",
       "PTRACCAT_Asian                0\n",
       "PTRACCAT_Black                0\n",
       "PTRACCAT_Hawaiian/Other PI    0\n",
       "PTRACCAT_More than one        0\n",
       "PTRACCAT_White                0\n",
       "PTMARRY_Divorced              0\n",
       "PTMARRY_Married               0\n",
       "PTMARRY_Never married         0\n",
       "PTMARRY_Widowed               0\n",
       "APOE4_0.0                     0\n",
       "APOE4_1.0                     0\n",
       "APOE4_2.0                     0\n",
       "PTGENDER_Female               0\n",
       "PTGENDER_Male                 0\n",
       "DX_bl                         0\n",
       "dtype: int64"
      ]
     },
     "execution_count": 41,
     "metadata": {},
     "output_type": "execute_result"
    }
   ],
   "source": [
    "ADNI2_bl_missing_test.isnull().sum()"
   ]
  },
  {
   "cell_type": "code",
   "execution_count": 200,
   "metadata": {},
   "outputs": [],
   "source": [
    "ADNI2_dx_missing_train.to_csv(path_or_buf='ADNI2_dx_impute_train.csv', index=False)\n",
    "ADNI2_dx_missing_test.to_csv(path_or_buf='ADNI2_dx_impute_test.csv', index=False)"
   ]
  },
  {
   "cell_type": "code",
   "execution_count": null,
   "metadata": {
    "collapsed": true
   },
   "outputs": [],
   "source": []
  },
  {
   "cell_type": "code",
   "execution_count": null,
   "metadata": {
    "collapsed": true
   },
   "outputs": [],
   "source": []
  },
  {
   "cell_type": "code",
   "execution_count": null,
   "metadata": {
    "collapsed": true
   },
   "outputs": [],
   "source": []
  },
  {
   "cell_type": "code",
   "execution_count": null,
   "metadata": {
    "collapsed": true
   },
   "outputs": [],
   "source": []
  },
  {
   "cell_type": "code",
   "execution_count": null,
   "metadata": {
    "collapsed": true
   },
   "outputs": [],
   "source": []
  },
  {
   "cell_type": "code",
   "execution_count": null,
   "metadata": {
    "collapsed": true
   },
   "outputs": [],
   "source": []
  },
  {
   "cell_type": "code",
   "execution_count": null,
   "metadata": {
    "collapsed": true
   },
   "outputs": [],
   "source": []
  },
  {
   "cell_type": "markdown",
   "metadata": {},
   "source": [
    "# Below are More Preliminary Exploration by Carlo"
   ]
  },
  {
   "cell_type": "markdown",
   "metadata": {},
   "source": [
    "                                                 **STRATEGY**\n",
    "\n",
    "'RID',                    They should not be used for prediction, I'd keep them just for merging the prediction?\n",
    "'PTID',                   They should not be used for prediction, I'd keep them just for merging the prediction?      \n",
    "'VISCODE'                 They should not be used for prediction, I'd keep them just for merging the prediction?        'SITE'                    Shall we discard for the prediction?\n",
    "'COLPROT'                 Shall we discard for the prediction?\n",
    "'ORIGPROT'                Shall we discard for the prediction?\n",
    "'EXAMDATE'                Shall we discard for the prediction?\n",
    "'DX_bl'                   Hotone, categorical\n",
    "'AGE',                    OK, int\n",
    "'PTGENDER'                Hotone, categorical\n",
    "'PTEDUCAT'                OK, int\n",
    "'PTETHCAT',               Hotone, categorical\n",
    "'PTRACCAT',               Hotone, categorical \n",
    "'PTMARRY'                 Hotone, categorical\n",
    "'APOE4'                   Hotone, categorical   Class of protein\n",
    "'CDRSB'                   OK,float              Clinical Dementia Rating Scale–Sum of Boxes\n",
    "'ADAS11'                  OK,float              Alzheimer's Disease Assessment Scale-Cognitive Subscale\n",
    "'ADAS13'                  OK,float              Alzheimer's Disease Assessment Scale-Cognitive Subscale\n",
    "'MMSE',                   OK,float              Mini Mental State Examination\n",
    "'RAVLT_immediate'         OK,float              Rey Auditory Verbal Learning Test\n",
    "'RAVLT_learning'          OK,float              Rey Auditory Verbal Learning Test\n",
    "'RAVLT_forgetting',       OK,float              Rey Auditory Verbal Learning Test\n",
    "'RAVLT_perc_forgetting'   OK,float              Rey Auditory Verbal Learning Test\n",
    "'FAQ'                     OK,float              Functional Assessment Questionnaire\n",
    "'MOCA'                    OK,float              Montreal Cognitive Assessment (MoCA)\n",
    "'EcogPtMem'               OK,float              Cognitive\n",
    "'EcogPtLang',             OK,float              Cognitive\n",
    "'EcogPtVisspat'           OK,float              Cognitive\n",
    "'EcogPtPlan'              OK,float              Cognitive\n",
    "'EcogPtOrgan'             OK,float              Cognitive\n",
    "'EcogPtDivatt'            OK,float              Cognitive\n",
    "'EcogPtTotal'             OK,float              Cognitive\n",
    "'EcogSPMem'               OK,float              Cognitive\n",
    "'EcogSPLang'              OK,float              Cognitive\n",
    "'EcogSPVisspat'           OK,float              Cognitive\n",
    "'EcogSPPlan',             OK,float              Cognitive\n",
    "'EcogSPOrgan'             OK,float              Cognitive\n",
    "'EcogSPDivatt'            OK,float              Cognitive\n",
    "'EcogSPTotal'             OK,float              Cognitive\n",
    "'FSVERSION',              Just one value, discard\n",
    "'Hippocampus'             OK,float              Hippocampus volume\n",
    "'WholeBrain'              OK,float              Brain volume\n",
    "'ICV'                     OK,float              Intracranial volume\n",
    "'DX'                      OUR Y, ENCODING\n",
    "'EXAMDATE_bl'             Shall we discard for the prediction?\n",
    "'CDRSB_bl'                       ***FROM HERE BASELINE***\n",
    "'ADAS11_bl'\n",
    "'ADAS13_bl'\n",
    "'MMSE_bl'\n",
    "'RAVLT_immediate_bl'\n",
    "'RAVLT_learning_bl'\n",
    "'RAVLT_forgetting_bl'\n",
    "'RAVLT_perc_forgetting_bl',\n",
    "'FAQ_bl', 'FLDSTRENG_bl'\n",
    "'FSVERSION_bl'\n",
    "'Ventricles_bl',\n",
    "'Hippocampus_bl'\n",
    "'WholeBrain_bl'\n",
    "'Entorhinal_bl'\n",
    "'Fusiform_bl',\n",
    "'MidTemp_bl'\n",
    "'ICV_bl'\n",
    "'MOCA_bl'\n",
    "'EcogPtMem_bl'\n",
    "'EcogPtLang_bl',\n",
    "'EcogPtVisspat_bl'\n",
    "'EcogPtPlan_bl'\n",
    "'EcogPtOrgan_bl',\n",
    "'EcogPtDivatt_bl'\n",
    "'EcogPtTotal_bl'\n",
    "'EcogSPMem_bl'\n",
    "'EcogSPLang_bl',\n",
    "'EcogSPVisspat_bl'\n",
    "'EcogSPPlan_bl'\n",
    "'EcogSPOrgan_bl',\n",
    "'EcogSPDivatt_bl'\n",
    "'EcogSPTotal_bl'\n",
    "'FDG_bl'                   OK,float               fluorescence connect to PET\n",
    "'AV45_bl'                  OK,float               average survival\n",
    "'Years_bl',                OK,float               years form baseline\n",
    "'Month_bl'                 Shall we discard for the prediction? We already have 'Years_bl'\n",
    "'Month'                    Shall we discard for the prediction? We already have 'Years_bl'\n",
    "'M'                        Shall we discard for the prediction? We already have 'Years_bl'\n",
    "'update_stamp              Shall we discard for the prediction? "
   ]
  }
 ],
 "metadata": {
  "kernelspec": {
   "display_name": "Python 3",
   "language": "python",
   "name": "python3"
  },
  "language_info": {
   "codemirror_mode": {
    "name": "ipython",
    "version": 3
   },
   "file_extension": ".py",
   "mimetype": "text/x-python",
   "name": "python",
   "nbconvert_exporter": "python",
   "pygments_lexer": "ipython3",
   "version": "3.6.1"
  }
 },
 "nbformat": 4,
 "nbformat_minor": 2
}
