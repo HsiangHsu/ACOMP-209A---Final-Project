{
 "cells": [
  {
   "cell_type": "code",
   "execution_count": 1,
   "metadata": {},
   "outputs": [
    {
     "name": "stderr",
     "output_type": "stream",
     "text": [
      "/anaconda/lib/python3.6/site-packages/sklearn/cross_validation.py:44: DeprecationWarning: This module was deprecated in version 0.18 in favor of the model_selection module into which all the refactored classes and functions are moved. Also note that the interface of the new CV iterators are different from that of this module. This module will be removed in 0.20.\n",
      "  \"This module will be removed in 0.20.\", DeprecationWarning)\n",
      "/anaconda/lib/python3.6/site-packages/sklearn/grid_search.py:43: DeprecationWarning: This module was deprecated in version 0.18 in favor of the model_selection module into which all the refactored classes and functions are moved. This module will be removed in 0.20.\n",
      "  DeprecationWarning)\n"
     ]
    },
    {
     "data": {
      "application/javascript": [
       "IPython.notebook.set_autosave_interval(300000)"
      ]
     },
     "metadata": {},
     "output_type": "display_data"
    },
    {
     "name": "stdout",
     "output_type": "stream",
     "text": [
      "Autosaving every 300 seconds\n"
     ]
    }
   ],
   "source": [
    "# just importing a random selection of things; we can fix this later\n",
    "import numpy as np\n",
    "import pandas as pd\n",
    "import matplotlib\n",
    "import matplotlib.pyplot as plt\n",
    "import sklearn.metrics as metrics\n",
    "from sklearn.model_selection import cross_val_score\n",
    "from sklearn import tree\n",
    "from sklearn.tree import DecisionTreeClassifier\n",
    "from sklearn.ensemble import RandomForestClassifier\n",
    "from sklearn.ensemble import AdaBoostClassifier\n",
    "from sklearn.linear_model import LinearRegression, LogisticRegressionCV\n",
    "%matplotlib inline\n",
    "\n",
    "from sklearn.tree import DecisionTreeRegressor\n",
    "\n",
    "from sklearn.model_selection import cross_val_score\n",
    "\n",
    "from sklearn.metrics import accuracy_score\n",
    "from sklearn.model_selection import KFold\n",
    "from sklearn.grid_search import GridSearchCV\n",
    "\n",
    "from pprint import pprint \n",
    "\n",
    "from sklearn.ensemble import BaggingClassifier\n",
    "from sklearn import model_selection\n",
    "from random import seed\n",
    "from sklearn.model_selection import cross_val_predict\n",
    "\n",
    "from sklearn.ensemble import RandomForestClassifier\n",
    "from itertools import product\n",
    "from collections import OrderedDict\n",
    "from itertools import product\n",
    "\n",
    "from sklearn import model_selection\n",
    "from sklearn.svm import SVC\n",
    "from sklearn import neighbors\n",
    "from sklearn.ensemble import VotingClassifier\n",
    "\n",
    "from sklearn.model_selection import train_test_split\n",
    "from __future__ import print_function # For Python 2 / 3 compatability\n",
    "from sklearn.metrics import confusion_matrix\n",
    "import itertools\n",
    "\n",
    "import json\n",
    "from copy import copy\n",
    "\n",
    "import warnings\n",
    "from sklearn import preprocessing\n",
    "%autosave 300\n",
    "warnings.filterwarnings(\"ignore\")"
   ]
  },
  {
   "cell_type": "markdown",
   "metadata": {},
   "source": [
    "# Data Cleaning and Preliminary Exploration"
   ]
  },
  {
   "cell_type": "markdown",
   "metadata": {},
   "source": [
    "## Preliminary Exploration"
   ]
  },
  {
   "cell_type": "code",
   "execution_count": 2,
   "metadata": {},
   "outputs": [
    {
     "name": "stdout",
     "output_type": "stream",
     "text": [
      "(6937, 94)\n"
     ]
    }
   ],
   "source": [
    "# load ADNIMERGE.csv, the main dataset (we will add our own variables to it). \n",
    "ADNI_merge = pd.read_csv('ADNIMERGE.csv')\n",
    "ADNI_merge.head()\n",
    "\n",
    "# select only the rows that correspond to ADN2\n",
    "ADNI2= ADNI_merge[ADNI_merge['COLPROT']=='ADNI2']\n",
    "print(ADNI2.shape)\n"
   ]
  },
  {
   "cell_type": "code",
   "execution_count": 3,
   "metadata": {},
   "outputs": [],
   "source": [
    "# #### NOTE: this is new code (11.23.17) because missing values are also denoted by \"-4\" and \"-1\". \n",
    "# #### Please see the training powerpoint for more info: https://adni.loni.usc.edu/wp-content/uploads/2012/08/slide_data_training_part2_reduced-size.pdf\n",
    "\n",
    "# # checking out the number of records for patients in ADNI2 phase, compared with other phases\n",
    "# ADMCPATIENTDRUGCLASSES_20170512 = pd.read_csv('ADMCPATIENTDRUGCLASSES_20170512.csv')\n",
    "# print(len(ADMCPATIENTDRUGCLASSES_20170512['Phase']))\n",
    "# print(len(ADMCPATIENTDRUGCLASSES_20170512[ADMCPATIENTDRUGCLASSES_20170512['Phase']=='ADNI2']))\n",
    "# print(len(ADMCPATIENTDRUGCLASSES_20170512[ADMCPATIENTDRUGCLASSES_20170512['Phase']=='ADNI3']))\n",
    "# print(len(ADMCPATIENTDRUGCLASSES_20170512[ADMCPATIENTDRUGCLASSES_20170512['Phase']=='ADNIGO']))\n",
    "\n",
    "# ADMCPATIENTDRUGCLASSES_20170512.head()\n",
    "\n",
    "# drug_adni2 = ADMCPATIENTDRUGCLASSES_20170512[ADMCPATIENTDRUGCLASSES_20170512['Phase']=='ADNI2']\n",
    "# drug_adni2.shape\n",
    "\n",
    "# drug_adni2.columns\n",
    "\n",
    "# drug_adni2 = drug_adni2.rename(columns={'VISCODE2': 'VISCODE'})\n",
    "# drug_adni2.columns\n",
    "# pd.merge(ADNI2,drug_adni2, on=['RID', 'VISCODE'])"
   ]
  },
  {
   "cell_type": "code",
   "execution_count": 4,
   "metadata": {},
   "outputs": [
    {
     "name": "stdout",
     "output_type": "stream",
     "text": [
      "(6937, 94)\n"
     ]
    }
   ],
   "source": [
    "''' ADNI2 data within ADNIMERGE.csv '''\n",
    "# select only the rows that correspond to ADN2\n",
    "ADNI2= ADNI_merge[ADNI_merge['COLPROT']=='ADNI2']\n",
    "print(ADNI2.shape)\n",
    "\n"
   ]
  },
  {
   "cell_type": "code",
   "execution_count": 5,
   "metadata": {
    "collapsed": true
   },
   "outputs": [],
   "source": [
    "# It seems there were some 'unknown'..I replaced them with nan\n",
    "import numpy as np\n",
    "ADNI2 = ADNI2.replace('Unknown', np.nan)\n",
    "ADNI2 = ADNI2.replace(-1, np.nan)\n",
    "ADNI2 = ADNI2.replace(-4, np.nan)"
   ]
  },
  {
   "cell_type": "markdown",
   "metadata": {},
   "source": [
    "# From now on just bl\n"
   ]
  },
  {
   "cell_type": "code",
   "execution_count": 6,
   "metadata": {
    "collapsed": true
   },
   "outputs": [],
   "source": [
    "ADNI2_bl = ADNI2.copy()\n",
    "ADNI2_bl = ADNI2_bl[ADNI2_bl['VISCODE'] == 'bl']"
   ]
  },
  {
   "cell_type": "code",
   "execution_count": 7,
   "metadata": {},
   "outputs": [
    {
     "data": {
      "text/plain": [
       "Index(['RID', 'PTID', 'VISCODE', 'SITE', 'COLPROT', 'ORIGPROT', 'EXAMDATE',\n",
       "       'DX_bl', 'AGE', 'PTGENDER', 'PTEDUCAT', 'PTETHCAT', 'PTRACCAT',\n",
       "       'PTMARRY', 'APOE4', 'FDG', 'PIB', 'AV45', 'CDRSB', 'ADAS11', 'ADAS13',\n",
       "       'MMSE', 'RAVLT_immediate', 'RAVLT_learning', 'RAVLT_forgetting',\n",
       "       'RAVLT_perc_forgetting', 'FAQ', 'MOCA', 'EcogPtMem', 'EcogPtLang',\n",
       "       'EcogPtVisspat', 'EcogPtPlan', 'EcogPtOrgan', 'EcogPtDivatt',\n",
       "       'EcogPtTotal', 'EcogSPMem', 'EcogSPLang', 'EcogSPVisspat', 'EcogSPPlan',\n",
       "       'EcogSPOrgan', 'EcogSPDivatt', 'EcogSPTotal', 'FLDSTRENG', 'FSVERSION',\n",
       "       'Ventricles', 'Hippocampus', 'WholeBrain', 'Entorhinal', 'Fusiform',\n",
       "       'MidTemp', 'ICV', 'DX', 'EXAMDATE_bl', 'CDRSB_bl', 'ADAS11_bl',\n",
       "       'ADAS13_bl', 'MMSE_bl', 'RAVLT_immediate_bl', 'RAVLT_learning_bl',\n",
       "       'RAVLT_forgetting_bl', 'RAVLT_perc_forgetting_bl', 'FAQ_bl',\n",
       "       'FLDSTRENG_bl', 'FSVERSION_bl', 'Ventricles_bl', 'Hippocampus_bl',\n",
       "       'WholeBrain_bl', 'Entorhinal_bl', 'Fusiform_bl', 'MidTemp_bl', 'ICV_bl',\n",
       "       'MOCA_bl', 'EcogPtMem_bl', 'EcogPtLang_bl', 'EcogPtVisspat_bl',\n",
       "       'EcogPtPlan_bl', 'EcogPtOrgan_bl', 'EcogPtDivatt_bl', 'EcogPtTotal_bl',\n",
       "       'EcogSPMem_bl', 'EcogSPLang_bl', 'EcogSPVisspat_bl', 'EcogSPPlan_bl',\n",
       "       'EcogSPOrgan_bl', 'EcogSPDivatt_bl', 'EcogSPTotal_bl', 'FDG_bl',\n",
       "       'PIB_bl', 'AV45_bl', 'Years_bl', 'Month_bl', 'Month', 'M',\n",
       "       'update_stamp'],\n",
       "      dtype='object')"
      ]
     },
     "execution_count": 7,
     "metadata": {},
     "output_type": "execute_result"
    }
   ],
   "source": [
    "ADNI2_bl.columns"
   ]
  },
  {
   "cell_type": "code",
   "execution_count": 8,
   "metadata": {},
   "outputs": [
    {
     "data": {
      "text/plain": [
       "(789, 94)"
      ]
     },
     "execution_count": 8,
     "metadata": {},
     "output_type": "execute_result"
    }
   ],
   "source": [
    "ADNI2_bl.shape"
   ]
  },
  {
   "cell_type": "code",
   "execution_count": 9,
   "metadata": {
    "collapsed": true
   },
   "outputs": [],
   "source": [
    "#Drop the ones w/o bl\n",
    "#I kept 'RID', 'PTID', 'VISCODE', 'COLPROT','DX_bl'\n",
    "#'AGE', 'PTGENDER', 'PTEDUCAT', 'PTETHCAT', 'PTRACCAT',\n",
    "#'PTMARRY', 'APOE4', 'FDG', , ADAS11_bl',\n",
    "# 'ADAS13_bl', 'CDRSB_bl', 'MMSE_bl',\n",
    "#'RAVLT_immediate_bl', 'RAVLT_learning_bl',\n",
    "#'RAVLT_forgetting_bl', 'RAVLT_perc_forgetting_bl', 'FAQ_bl',\n",
    "#'FLDSTRENG_bl', , 'Ventricles_bl', 'Hippocampus_bl',\n",
    "#'WholeBrain_bl', 'Entorhinal_bl', 'Fusiform_bl', 'MidTemp_bl', 'ICV_bl',\n",
    "#'MOCA_bl', 'EcogPtMem_bl', 'EcogPtLang_bl', 'EcogPtVisspat_bl',\n",
    "#'EcogPtPlan_bl', 'EcogPtOrgan_bl', 'EcogPtDivatt_bl', 'EcogPtTotal_bl',\n",
    "#'EcogSPMem_bl', 'EcogSPLang_bl', 'EcogSPVisspat_bl', 'EcogSPPlan_bl',\n",
    "#'EcogSPOrgan_bl', 'EcogSPDivatt_bl', 'EcogSPTotal_bl', 'FDG_bl',\n",
    "#'PIB_bl', 'AV45_bl'\n",
    "\n",
    "\n",
    "ADNI2_bl= ADNI2_bl.drop(labels = [ 'SITE', 'ORIGPROT', 'EXAMDATE',\n",
    "         'AV45', 'CDRSB', 'ADAS11', 'ADAS13','PIB',\n",
    "       'MMSE', 'RAVLT_immediate', 'RAVLT_learning', 'RAVLT_forgetting',\n",
    "       'RAVLT_perc_forgetting', 'FAQ', 'MOCA', 'EcogPtMem', 'EcogPtLang',\n",
    "       'EcogPtVisspat', 'EcogPtPlan', 'EcogPtOrgan', 'EcogPtDivatt',\n",
    "       'EcogPtTotal', 'EcogSPMem', 'EcogSPLang', 'EcogSPVisspat', 'EcogSPPlan',\n",
    "       'EcogSPOrgan', 'EcogSPDivatt', 'EcogSPTotal', 'FLDSTRENG', 'FSVERSION',\n",
    "       'Ventricles', 'Hippocampus', 'WholeBrain', 'Entorhinal', 'Fusiform',\n",
    "       'MidTemp', 'ICV', 'DX', 'EXAMDATE_bl',   'Years_bl', 'Month_bl', 'Month', 'M',\n",
    "       'update_stamp', 'FSVERSION_bl', 'FLDSTRENG_bl'],axis=1)\n",
    "\n",
    "# Drop beacuse same values 'FSVERSION_bl', 'FLDSTRENG_bl'"
   ]
  },
  {
   "cell_type": "code",
   "execution_count": 10,
   "metadata": {
    "scrolled": false
   },
   "outputs": [
    {
     "name": "stdout",
     "output_type": "stream",
     "text": [
      "PIB_bl                      1.000000\n",
      "Entorhinal_bl               0.136882\n",
      "Fusiform_bl                 0.136882\n",
      "MidTemp_bl                  0.136882\n",
      "Hippocampus_bl              0.112801\n",
      "Ventricles_bl               0.081115\n",
      "EcogSPOrgan_bl              0.050697\n",
      "WholeBrain_bl               0.046895\n",
      "EcogSPDivatt_bl             0.032953\n",
      "EcogPtOrgan_bl              0.030418\n",
      "AV45_bl                     0.029151\n",
      "EcogSPVisspat_bl            0.026616\n",
      "EcogSPPlan_bl               0.022814\n",
      "FDG                         0.019011\n",
      "FDG_bl                      0.019011\n",
      "ICV_bl                      0.017744\n",
      "RAVLT_forgetting_bl         0.016477\n",
      "RAVLT_learning_bl           0.013942\n",
      "APOE4                       0.013942\n",
      "EcogPtDivatt_bl             0.013942\n",
      "EcogSPTotal_bl              0.013942\n",
      "EcogSPMem_bl                0.012674\n",
      "MOCA_bl                     0.012674\n",
      "EcogSPLang_bl               0.011407\n",
      "EcogPtVisspat_bl            0.010139\n",
      "FAQ_bl                      0.007605\n",
      "ADAS13_bl                   0.007605\n",
      "EcogPtPlan_bl               0.006337\n",
      "EcogPtLang_bl               0.005070\n",
      "EcogPtTotal_bl              0.005070\n",
      "PTETHCAT                    0.005070\n",
      "ADAS11_bl                   0.005070\n",
      "EcogPtMem_bl                0.003802\n",
      "RAVLT_perc_forgetting_bl    0.003802\n",
      "PTMARRY                     0.002535\n",
      "RAVLT_immediate_bl          0.002535\n",
      "PTRACCAT                    0.001267\n",
      "CDRSB_bl                    0.000000\n",
      "MMSE_bl                     0.000000\n",
      "PTEDUCAT                    0.000000\n",
      "PTGENDER                    0.000000\n",
      "AGE                         0.000000\n",
      "DX_bl                       0.000000\n",
      "COLPROT                     0.000000\n",
      "VISCODE                     0.000000\n",
      "PTID                        0.000000\n",
      "RID                         0.000000\n",
      "dtype: float64\n"
     ]
    }
   ],
   "source": [
    "# calculate the % of each column that is NaNs and print in descending order\n",
    "print((ADNI2_bl.isnull().sum()/len(ADNI2_bl['DX_bl'])).sort_values(ascending=False))"
   ]
  },
  {
   "cell_type": "code",
   "execution_count": 11,
   "metadata": {
    "collapsed": true
   },
   "outputs": [],
   "source": [
    "#Drop 50% or more missing\n",
    "ADNI2_bl= ADNI2_bl.drop(['PIB_bl'], axis=1)"
   ]
  },
  {
   "cell_type": "code",
   "execution_count": 12,
   "metadata": {
    "collapsed": true
   },
   "outputs": [],
   "source": [
    "encode = preprocessing.LabelEncoder()\n",
    "ADNI2_bl.loc[:, 'DX_bl'] = encode.fit_transform(ADNI2_bl['DX_bl'])"
   ]
  },
  {
   "cell_type": "code",
   "execution_count": 13,
   "metadata": {},
   "outputs": [
    {
     "name": "stdout",
     "output_type": "stream",
     "text": [
      "(789, 46)\n"
     ]
    },
    {
     "data": {
      "text/plain": [
       "Index(['RID', 'PTID', 'VISCODE', 'COLPROT', 'DX_bl', 'AGE', 'PTGENDER',\n",
       "       'PTEDUCAT', 'PTETHCAT', 'PTRACCAT', 'PTMARRY', 'APOE4', 'FDG',\n",
       "       'CDRSB_bl', 'ADAS11_bl', 'ADAS13_bl', 'MMSE_bl', 'RAVLT_immediate_bl',\n",
       "       'RAVLT_learning_bl', 'RAVLT_forgetting_bl', 'RAVLT_perc_forgetting_bl',\n",
       "       'FAQ_bl', 'Ventricles_bl', 'Hippocampus_bl', 'WholeBrain_bl',\n",
       "       'Entorhinal_bl', 'Fusiform_bl', 'MidTemp_bl', 'ICV_bl', 'MOCA_bl',\n",
       "       'EcogPtMem_bl', 'EcogPtLang_bl', 'EcogPtVisspat_bl', 'EcogPtPlan_bl',\n",
       "       'EcogPtOrgan_bl', 'EcogPtDivatt_bl', 'EcogPtTotal_bl', 'EcogSPMem_bl',\n",
       "       'EcogSPLang_bl', 'EcogSPVisspat_bl', 'EcogSPPlan_bl', 'EcogSPOrgan_bl',\n",
       "       'EcogSPDivatt_bl', 'EcogSPTotal_bl', 'FDG_bl', 'AV45_bl'],\n",
       "      dtype='object')"
      ]
     },
     "execution_count": 13,
     "metadata": {},
     "output_type": "execute_result"
    }
   ],
   "source": [
    "ADNI2_bl.head()\n",
    "print(ADNI2_bl.shape)\n",
    "ADNI2_bl.columns"
   ]
  },
  {
   "cell_type": "code",
   "execution_count": 14,
   "metadata": {},
   "outputs": [
    {
     "name": "stdout",
     "output_type": "stream",
     "text": [
      "(771, 58)\n"
     ]
    }
   ],
   "source": [
    "#hot-one encoding for categoricla and clean\n",
    "\n",
    "categorical_predictors = ['PTETHCAT', 'PTRACCAT', 'PTMARRY','APOE4', 'PTGENDER']\n",
    "\n",
    "\n",
    "\n",
    "''' Remove all categorical data with nan (only ~0.5%) '''\n",
    "missing_rows = np.nonzero(np.sum(ADNI2_bl[categorical_predictors].isnull(), axis=1))\n",
    "ADNI2_bl = ADNI2_bl.drop(ADNI2_bl.index[missing_rows[0]])\n",
    "\n",
    "'''' Hot-One Encoding of Categorical Predictors '''\n",
    "ADNI2_bl_categorical = pd.get_dummies(ADNI2_bl[categorical_predictors] , columns=categorical_predictors, prefix = categorical_predictors , drop_first=False)\n",
    "ADNI2_bl= pd.get_dummies(ADNI2_bl, columns=categorical_predictors, prefix = categorical_predictors , drop_first=False)\n",
    "print(ADNI2_bl.shape)\n"
   ]
  },
  {
   "cell_type": "code",
   "execution_count": 15,
   "metadata": {},
   "outputs": [
    {
     "name": "stdout",
     "output_type": "stream",
     "text": [
      "Index(['RID', 'PTID', 'VISCODE', 'COLPROT', 'DX_bl', 'AGE', 'PTEDUCAT', 'FDG',\n",
      "       'CDRSB_bl', 'ADAS11_bl', 'ADAS13_bl', 'MMSE_bl', 'RAVLT_immediate_bl',\n",
      "       'RAVLT_learning_bl', 'RAVLT_forgetting_bl', 'RAVLT_perc_forgetting_bl',\n",
      "       'FAQ_bl', 'Ventricles_bl', 'Hippocampus_bl', 'WholeBrain_bl',\n",
      "       'Entorhinal_bl', 'Fusiform_bl', 'MidTemp_bl', 'ICV_bl', 'MOCA_bl',\n",
      "       'EcogPtMem_bl', 'EcogPtLang_bl', 'EcogPtVisspat_bl', 'EcogPtPlan_bl',\n",
      "       'EcogPtOrgan_bl', 'EcogPtDivatt_bl', 'EcogPtTotal_bl', 'EcogSPMem_bl',\n",
      "       'EcogSPLang_bl', 'EcogSPVisspat_bl', 'EcogSPPlan_bl', 'EcogSPOrgan_bl',\n",
      "       'EcogSPDivatt_bl', 'EcogSPTotal_bl', 'FDG_bl', 'AV45_bl',\n",
      "       'PTETHCAT_Hisp/Latino', 'PTETHCAT_Not Hisp/Latino',\n",
      "       'PTRACCAT_Am Indian/Alaskan', 'PTRACCAT_Asian', 'PTRACCAT_Black',\n",
      "       'PTRACCAT_Hawaiian/Other PI', 'PTRACCAT_More than one',\n",
      "       'PTRACCAT_White', 'PTMARRY_Divorced', 'PTMARRY_Married',\n",
      "       'PTMARRY_Never married', 'PTMARRY_Widowed', 'APOE4_0.0', 'APOE4_1.0',\n",
      "       'APOE4_2.0', 'PTGENDER_Female', 'PTGENDER_Male'],\n",
      "      dtype='object')\n"
     ]
    }
   ],
   "source": [
    "print(ADNI2_bl.columns)"
   ]
  },
  {
   "cell_type": "markdown",
   "metadata": {},
   "source": [
    "### Removing All Missing Data"
   ]
  },
  {
   "cell_type": "code",
   "execution_count": 16,
   "metadata": {
    "collapsed": true
   },
   "outputs": [],
   "source": [
    "# ADNI2_bl_remove_all_missing = ADNI2_bl.copy()\n",
    "# for column in ADNI2_bl.columns:\n",
    "#     if ADNI2_bl[column].isnull().any():\n",
    "#         ADNI2_remove_all_missing = ADNI2_bl.drop(labels=column, axis=1)"
   ]
  },
  {
   "cell_type": "code",
   "execution_count": 17,
   "metadata": {},
   "outputs": [
    {
     "name": "stdout",
     "output_type": "stream",
     "text": [
      "Shape before delteing missing (771, 58)\n",
      "Shape before delteing missing (497, 58)\n",
      "Data contains NaN? False\n"
     ]
    }
   ],
   "source": [
    "ADNI2_bl_remove = ADNI2_bl.copy()\n",
    "print('Shape before delteing missing', ADNI2_bl_remove.shape)\n",
    "ADNI2_bl_remove.dropna(axis=0, inplace=True)\n",
    "print('Shape before delteing missing', ADNI2_bl_remove.shape) \n",
    "print('Data contains NaN?', ADNI2_bl_remove.isnull().any().any())"
   ]
  },
  {
   "cell_type": "code",
   "execution_count": 18,
   "metadata": {},
   "outputs": [
    {
     "data": {
      "text/plain": [
       "RID                           0\n",
       "PTID                          0\n",
       "VISCODE                       0\n",
       "COLPROT                       0\n",
       "DX_bl                         0\n",
       "AGE                           0\n",
       "PTEDUCAT                      0\n",
       "FDG                           0\n",
       "CDRSB_bl                      0\n",
       "ADAS11_bl                     0\n",
       "ADAS13_bl                     0\n",
       "MMSE_bl                       0\n",
       "RAVLT_immediate_bl            0\n",
       "RAVLT_learning_bl             0\n",
       "RAVLT_forgetting_bl           0\n",
       "RAVLT_perc_forgetting_bl      0\n",
       "FAQ_bl                        0\n",
       "Ventricles_bl                 0\n",
       "Hippocampus_bl                0\n",
       "WholeBrain_bl                 0\n",
       "Entorhinal_bl                 0\n",
       "Fusiform_bl                   0\n",
       "MidTemp_bl                    0\n",
       "ICV_bl                        0\n",
       "MOCA_bl                       0\n",
       "EcogPtMem_bl                  0\n",
       "EcogPtLang_bl                 0\n",
       "EcogPtVisspat_bl              0\n",
       "EcogPtPlan_bl                 0\n",
       "EcogPtOrgan_bl                0\n",
       "EcogPtDivatt_bl               0\n",
       "EcogPtTotal_bl                0\n",
       "EcogSPMem_bl                  0\n",
       "EcogSPLang_bl                 0\n",
       "EcogSPVisspat_bl              0\n",
       "EcogSPPlan_bl                 0\n",
       "EcogSPOrgan_bl                0\n",
       "EcogSPDivatt_bl               0\n",
       "EcogSPTotal_bl                0\n",
       "FDG_bl                        0\n",
       "AV45_bl                       0\n",
       "PTETHCAT_Hisp/Latino          0\n",
       "PTETHCAT_Not Hisp/Latino      0\n",
       "PTRACCAT_Am Indian/Alaskan    0\n",
       "PTRACCAT_Asian                0\n",
       "PTRACCAT_Black                0\n",
       "PTRACCAT_Hawaiian/Other PI    0\n",
       "PTRACCAT_More than one        0\n",
       "PTRACCAT_White                0\n",
       "PTMARRY_Divorced              0\n",
       "PTMARRY_Married               0\n",
       "PTMARRY_Never married         0\n",
       "PTMARRY_Widowed               0\n",
       "APOE4_0.0                     0\n",
       "APOE4_1.0                     0\n",
       "APOE4_2.0                     0\n",
       "PTGENDER_Female               0\n",
       "PTGENDER_Male                 0\n",
       "dtype: int64"
      ]
     },
     "execution_count": 18,
     "metadata": {},
     "output_type": "execute_result"
    }
   ],
   "source": [
    "ADNI2_bl_remove.isnull().sum()"
   ]
  },
  {
   "cell_type": "code",
   "execution_count": 19,
   "metadata": {},
   "outputs": [
    {
     "data": {
      "text/html": [
       "<div>\n",
       "<style>\n",
       "    .dataframe thead tr:only-child th {\n",
       "        text-align: right;\n",
       "    }\n",
       "\n",
       "    .dataframe thead th {\n",
       "        text-align: left;\n",
       "    }\n",
       "\n",
       "    .dataframe tbody tr th {\n",
       "        vertical-align: top;\n",
       "    }\n",
       "</style>\n",
       "<table border=\"1\" class=\"dataframe\">\n",
       "  <thead>\n",
       "    <tr style=\"text-align: right;\">\n",
       "      <th></th>\n",
       "      <th>RID</th>\n",
       "      <th>PTID</th>\n",
       "      <th>VISCODE</th>\n",
       "      <th>COLPROT</th>\n",
       "      <th>DX_bl</th>\n",
       "      <th>AGE</th>\n",
       "      <th>PTEDUCAT</th>\n",
       "      <th>FDG</th>\n",
       "      <th>CDRSB_bl</th>\n",
       "      <th>ADAS11_bl</th>\n",
       "      <th>...</th>\n",
       "      <th>PTRACCAT_White</th>\n",
       "      <th>PTMARRY_Divorced</th>\n",
       "      <th>PTMARRY_Married</th>\n",
       "      <th>PTMARRY_Never married</th>\n",
       "      <th>PTMARRY_Widowed</th>\n",
       "      <th>APOE4_0.0</th>\n",
       "      <th>APOE4_1.0</th>\n",
       "      <th>APOE4_2.0</th>\n",
       "      <th>PTGENDER_Female</th>\n",
       "      <th>PTGENDER_Male</th>\n",
       "    </tr>\n",
       "  </thead>\n",
       "  <tbody>\n",
       "    <tr>\n",
       "      <th>91</th>\n",
       "      <td>5280</td>\n",
       "      <td>100_S_5280</td>\n",
       "      <td>bl</td>\n",
       "      <td>ADNI2</td>\n",
       "      <td>4</td>\n",
       "      <td>67.5</td>\n",
       "      <td>16</td>\n",
       "      <td>1.25195</td>\n",
       "      <td>0.0</td>\n",
       "      <td>3.0</td>\n",
       "      <td>...</td>\n",
       "      <td>0</td>\n",
       "      <td>0</td>\n",
       "      <td>0</td>\n",
       "      <td>1</td>\n",
       "      <td>0</td>\n",
       "      <td>1</td>\n",
       "      <td>0</td>\n",
       "      <td>0</td>\n",
       "      <td>0</td>\n",
       "      <td>1</td>\n",
       "    </tr>\n",
       "    <tr>\n",
       "      <th>92</th>\n",
       "      <td>5279</td>\n",
       "      <td>082_S_5279</td>\n",
       "      <td>bl</td>\n",
       "      <td>ADNI2</td>\n",
       "      <td>4</td>\n",
       "      <td>68.5</td>\n",
       "      <td>20</td>\n",
       "      <td>1.50629</td>\n",
       "      <td>0.0</td>\n",
       "      <td>4.0</td>\n",
       "      <td>...</td>\n",
       "      <td>1</td>\n",
       "      <td>0</td>\n",
       "      <td>1</td>\n",
       "      <td>0</td>\n",
       "      <td>0</td>\n",
       "      <td>1</td>\n",
       "      <td>0</td>\n",
       "      <td>0</td>\n",
       "      <td>0</td>\n",
       "      <td>1</td>\n",
       "    </tr>\n",
       "    <tr>\n",
       "      <th>142</th>\n",
       "      <td>5278</td>\n",
       "      <td>082_S_5278</td>\n",
       "      <td>bl</td>\n",
       "      <td>ADNI2</td>\n",
       "      <td>4</td>\n",
       "      <td>80.2</td>\n",
       "      <td>19</td>\n",
       "      <td>1.22045</td>\n",
       "      <td>0.0</td>\n",
       "      <td>3.0</td>\n",
       "      <td>...</td>\n",
       "      <td>1</td>\n",
       "      <td>0</td>\n",
       "      <td>0</td>\n",
       "      <td>1</td>\n",
       "      <td>0</td>\n",
       "      <td>0</td>\n",
       "      <td>1</td>\n",
       "      <td>0</td>\n",
       "      <td>0</td>\n",
       "      <td>1</td>\n",
       "    </tr>\n",
       "    <tr>\n",
       "      <th>174</th>\n",
       "      <td>5277</td>\n",
       "      <td>027_S_5277</td>\n",
       "      <td>bl</td>\n",
       "      <td>ADNI2</td>\n",
       "      <td>4</td>\n",
       "      <td>71.8</td>\n",
       "      <td>15</td>\n",
       "      <td>1.42276</td>\n",
       "      <td>0.5</td>\n",
       "      <td>4.0</td>\n",
       "      <td>...</td>\n",
       "      <td>1</td>\n",
       "      <td>0</td>\n",
       "      <td>0</td>\n",
       "      <td>0</td>\n",
       "      <td>1</td>\n",
       "      <td>0</td>\n",
       "      <td>1</td>\n",
       "      <td>0</td>\n",
       "      <td>1</td>\n",
       "      <td>0</td>\n",
       "    </tr>\n",
       "    <tr>\n",
       "      <th>360</th>\n",
       "      <td>5272</td>\n",
       "      <td>053_S_5272</td>\n",
       "      <td>bl</td>\n",
       "      <td>ADNI2</td>\n",
       "      <td>4</td>\n",
       "      <td>69.9</td>\n",
       "      <td>8</td>\n",
       "      <td>1.38841</td>\n",
       "      <td>0.0</td>\n",
       "      <td>5.0</td>\n",
       "      <td>...</td>\n",
       "      <td>1</td>\n",
       "      <td>0</td>\n",
       "      <td>1</td>\n",
       "      <td>0</td>\n",
       "      <td>0</td>\n",
       "      <td>1</td>\n",
       "      <td>0</td>\n",
       "      <td>0</td>\n",
       "      <td>1</td>\n",
       "      <td>0</td>\n",
       "    </tr>\n",
       "  </tbody>\n",
       "</table>\n",
       "<p>5 rows × 58 columns</p>\n",
       "</div>"
      ],
      "text/plain": [
       "      RID        PTID VISCODE COLPROT  DX_bl   AGE  PTEDUCAT      FDG  \\\n",
       "91   5280  100_S_5280      bl   ADNI2      4  67.5        16  1.25195   \n",
       "92   5279  082_S_5279      bl   ADNI2      4  68.5        20  1.50629   \n",
       "142  5278  082_S_5278      bl   ADNI2      4  80.2        19  1.22045   \n",
       "174  5277  027_S_5277      bl   ADNI2      4  71.8        15  1.42276   \n",
       "360  5272  053_S_5272      bl   ADNI2      4  69.9         8  1.38841   \n",
       "\n",
       "     CDRSB_bl  ADAS11_bl      ...        PTRACCAT_White  PTMARRY_Divorced  \\\n",
       "91        0.0        3.0      ...                     0                 0   \n",
       "92        0.0        4.0      ...                     1                 0   \n",
       "142       0.0        3.0      ...                     1                 0   \n",
       "174       0.5        4.0      ...                     1                 0   \n",
       "360       0.0        5.0      ...                     1                 0   \n",
       "\n",
       "     PTMARRY_Married  PTMARRY_Never married  PTMARRY_Widowed  APOE4_0.0  \\\n",
       "91                 0                      1                0          1   \n",
       "92                 1                      0                0          1   \n",
       "142                0                      1                0          0   \n",
       "174                0                      0                1          0   \n",
       "360                1                      0                0          1   \n",
       "\n",
       "     APOE4_1.0  APOE4_2.0  PTGENDER_Female  PTGENDER_Male  \n",
       "91           0          0                0              1  \n",
       "92           0          0                0              1  \n",
       "142          1          0                0              1  \n",
       "174          1          0                1              0  \n",
       "360          0          0                1              0  \n",
       "\n",
       "[5 rows x 58 columns]"
      ]
     },
     "execution_count": 19,
     "metadata": {},
     "output_type": "execute_result"
    }
   ],
   "source": [
    "ADNI2_bl_remove.head()"
   ]
  },
  {
   "cell_type": "code",
   "execution_count": 20,
   "metadata": {},
   "outputs": [
    {
     "data": {
      "text/plain": [
       "(497, 58)"
      ]
     },
     "execution_count": 20,
     "metadata": {},
     "output_type": "execute_result"
    }
   ],
   "source": [
    "ADNI2_bl_remove.shape"
   ]
  },
  {
   "cell_type": "code",
   "execution_count": 21,
   "metadata": {},
   "outputs": [
    {
     "data": {
      "text/plain": [
       "Index(['RID', 'PTID', 'VISCODE', 'COLPROT', 'DX_bl', 'AGE', 'PTEDUCAT', 'FDG',\n",
       "       'CDRSB_bl', 'ADAS11_bl', 'ADAS13_bl', 'MMSE_bl', 'RAVLT_immediate_bl',\n",
       "       'RAVLT_learning_bl', 'RAVLT_forgetting_bl', 'RAVLT_perc_forgetting_bl',\n",
       "       'FAQ_bl', 'Ventricles_bl', 'Hippocampus_bl', 'WholeBrain_bl',\n",
       "       'Entorhinal_bl', 'Fusiform_bl', 'MidTemp_bl', 'ICV_bl', 'MOCA_bl',\n",
       "       'EcogPtMem_bl', 'EcogPtLang_bl', 'EcogPtVisspat_bl', 'EcogPtPlan_bl',\n",
       "       'EcogPtOrgan_bl', 'EcogPtDivatt_bl', 'EcogPtTotal_bl', 'EcogSPMem_bl',\n",
       "       'EcogSPLang_bl', 'EcogSPVisspat_bl', 'EcogSPPlan_bl', 'EcogSPOrgan_bl',\n",
       "       'EcogSPDivatt_bl', 'EcogSPTotal_bl', 'FDG_bl', 'AV45_bl',\n",
       "       'PTETHCAT_Hisp/Latino', 'PTETHCAT_Not Hisp/Latino',\n",
       "       'PTRACCAT_Am Indian/Alaskan', 'PTRACCAT_Asian', 'PTRACCAT_Black',\n",
       "       'PTRACCAT_Hawaiian/Other PI', 'PTRACCAT_More than one',\n",
       "       'PTRACCAT_White', 'PTMARRY_Divorced', 'PTMARRY_Married',\n",
       "       'PTMARRY_Never married', 'PTMARRY_Widowed', 'APOE4_0.0', 'APOE4_1.0',\n",
       "       'APOE4_2.0', 'PTGENDER_Female', 'PTGENDER_Male'],\n",
       "      dtype='object')"
      ]
     },
     "execution_count": 21,
     "metadata": {},
     "output_type": "execute_result"
    }
   ],
   "source": [
    "ADNI2_bl_remove.columns"
   ]
  },
  {
   "cell_type": "code",
   "execution_count": 22,
   "metadata": {
    "collapsed": true
   },
   "outputs": [],
   "source": [
    "ADNI2_bl_remove.to_csv(path_or_buf='ADNI2_bl_remove_all_missing.csv', index=False)"
   ]
  },
  {
   "cell_type": "markdown",
   "metadata": {},
   "source": [
    "## Model-Based Imputation \n",
    "- Drop around 5% of Categorical predictors and use Linear Regression for missing continuous predictors"
   ]
  },
  {
   "cell_type": "code",
   "execution_count": 23,
   "metadata": {
    "collapsed": true
   },
   "outputs": [],
   "source": [
    "def split (data, percentage):\n",
    "    np.random.seed(9001) \n",
    "    msk = np.random.rand(len(data)) < percentage\n",
    "    train = data[msk]\n",
    "    test = data[~msk]\n",
    "    return train, test"
   ]
  },
  {
   "cell_type": "code",
   "execution_count": 24,
   "metadata": {
    "collapsed": true
   },
   "outputs": [],
   "source": [
    "ADNI2_bl_impute = ADNI2_bl.copy()\n",
    "ADNI2_bl_impute = ADNI2_bl_impute.drop(['VISCODE'], axis=1)"
   ]
  },
  {
   "cell_type": "code",
   "execution_count": 25,
   "metadata": {},
   "outputs": [
    {
     "data": {
      "text/plain": [
       "Index(['RID', 'PTID', 'COLPROT', 'DX_bl', 'AGE', 'PTEDUCAT', 'FDG', 'CDRSB_bl',\n",
       "       'ADAS11_bl', 'ADAS13_bl', 'MMSE_bl', 'RAVLT_immediate_bl',\n",
       "       'RAVLT_learning_bl', 'RAVLT_forgetting_bl', 'RAVLT_perc_forgetting_bl',\n",
       "       'FAQ_bl', 'Ventricles_bl', 'Hippocampus_bl', 'WholeBrain_bl',\n",
       "       'Entorhinal_bl', 'Fusiform_bl', 'MidTemp_bl', 'ICV_bl', 'MOCA_bl',\n",
       "       'EcogPtMem_bl', 'EcogPtLang_bl', 'EcogPtVisspat_bl', 'EcogPtPlan_bl',\n",
       "       'EcogPtOrgan_bl', 'EcogPtDivatt_bl', 'EcogPtTotal_bl', 'EcogSPMem_bl',\n",
       "       'EcogSPLang_bl', 'EcogSPVisspat_bl', 'EcogSPPlan_bl', 'EcogSPOrgan_bl',\n",
       "       'EcogSPDivatt_bl', 'EcogSPTotal_bl', 'FDG_bl', 'AV45_bl',\n",
       "       'PTETHCAT_Hisp/Latino', 'PTETHCAT_Not Hisp/Latino',\n",
       "       'PTRACCAT_Am Indian/Alaskan', 'PTRACCAT_Asian', 'PTRACCAT_Black',\n",
       "       'PTRACCAT_Hawaiian/Other PI', 'PTRACCAT_More than one',\n",
       "       'PTRACCAT_White', 'PTMARRY_Divorced', 'PTMARRY_Married',\n",
       "       'PTMARRY_Never married', 'PTMARRY_Widowed', 'APOE4_0.0', 'APOE4_1.0',\n",
       "       'APOE4_2.0', 'PTGENDER_Female', 'PTGENDER_Male'],\n",
       "      dtype='object')"
      ]
     },
     "execution_count": 25,
     "metadata": {},
     "output_type": "execute_result"
    }
   ],
   "source": [
    "ADNI2_bl_impute.columns"
   ]
  },
  {
   "cell_type": "code",
   "execution_count": 26,
   "metadata": {
    "collapsed": true
   },
   "outputs": [],
   "source": [
    "all_predictors = ['RID', 'PTID', 'VISCODE', 'COLPROT', 'DX_bl', 'AGE', 'PTGENDER',\n",
    "       'PTEDUCAT', 'CDRSB_bl', 'ADAS11_bl', 'ADAS13_bl', 'MMSE_bl',\n",
    "       'RAVLT_immediate_bl', 'RAVLT_learning_bl', 'RAVLT_forgetting_bl',\n",
    "       'RAVLT_perc_forgetting_bl', 'FAQ_bl',\n",
    "       'Ventricles_bl', 'Hippocampus_bl', 'WholeBrain_bl', 'Entorhinal_bl',\n",
    "       'Fusiform_bl', 'MidTemp_bl', 'ICV_bl', 'MOCA_bl', 'EcogPtMem_bl',\n",
    "       'EcogPtLang_bl', 'EcogPtVisspat_bl', 'EcogPtPlan_bl', 'EcogPtOrgan_bl',\n",
    "       'EcogPtDivatt_bl', 'EcogPtTotal_bl', 'EcogSPMem_bl', 'EcogSPLang_bl',\n",
    "       'EcogSPVisspat_bl', 'EcogSPPlan_bl', 'EcogSPOrgan_bl',\n",
    "       'EcogSPDivatt_bl', 'EcogSPTotal_bl', 'FDG_bl', 'AV45_bl',\n",
    "       'PTETHCAT_Hisp/Latino', 'PTETHCAT_Not Hisp/Latino',\n",
    "       'PTRACCAT_Am Indian/Alaskan', 'PTRACCAT_Asian', 'PTRACCAT_Black',\n",
    "       'PTRACCAT_Hawaiian/Other PI', 'PTRACCAT_More than one',\n",
    "       'PTRACCAT_White', 'PTMARRY_Divorced', 'PTMARRY_Married',\n",
    "       'PTMARRY_Never married', 'PTMARRY_Widowed', 'APOE4_0.0', 'APOE4_1.0',\n",
    "       'APOE4_2.0']\n",
    "\n",
    "#For the continuos I had to remove\n",
    "#'RID', 'PTID', 'VISCODE', 'COLPROT', 'DX_bl', \n",
    "#'PTETHCAT_Hisp/Latino', 'PTETHCAT_Not Hisp/Latino',\n",
    "#'PTRACCAT_Am Indian/Alaskan', 'PTRACCAT_Asian', 'PTRACCAT_Black',\n",
    "#'PTRACCAT_Hawaiian/Other PI', 'PTRACCAT_More than one',\n",
    "#'PTRACCAT_White', 'PTMARRY_Divorced', 'PTMARRY_Married',\n",
    "#'PTMARRY_Never married', 'PTMARRY_Widowed', 'APOE4_0.0', 'APOE4_1.0',\n",
    "#'APOE4_2.0'\n",
    "    \n",
    "continuous_predictors = ['AGE', \n",
    "       'PTEDUCAT', 'CDRSB_bl', 'ADAS11_bl', 'ADAS13_bl', 'MMSE_bl',\n",
    "       'RAVLT_immediate_bl', 'RAVLT_learning_bl', 'RAVLT_forgetting_bl',\n",
    "       'RAVLT_perc_forgetting_bl', 'FAQ_bl',\n",
    "       'Ventricles_bl', 'Hippocampus_bl', 'WholeBrain_bl', 'Entorhinal_bl',\n",
    "       'Fusiform_bl', 'MidTemp_bl', 'ICV_bl', 'MOCA_bl', 'EcogPtMem_bl',\n",
    "       'EcogPtLang_bl', 'EcogPtVisspat_bl', 'EcogPtPlan_bl', 'EcogPtOrgan_bl',\n",
    "       'EcogPtDivatt_bl', 'EcogPtTotal_bl', 'EcogSPMem_bl', 'EcogSPLang_bl',\n",
    "       'EcogSPVisspat_bl', 'EcogSPPlan_bl', 'EcogSPOrgan_bl',\n",
    "       'EcogSPDivatt_bl', 'EcogSPTotal_bl', 'FDG_bl', 'AV45_bl',\n",
    "       ]"
   ]
  },
  {
   "cell_type": "code",
   "execution_count": 27,
   "metadata": {
    "collapsed": true
   },
   "outputs": [],
   "source": [
    "''' Create ADNI2_missing for imputation '''\n",
    "ADNI2_bl_impute_remove_categorical = ADNI2_bl_impute[continuous_predictors]\n",
    "\n",
    "''' Create the Dataframe for imputation '''\n",
    "ADNI2_bl_missing = pd.concat([ADNI2_bl_impute_remove_categorical, ADNI2_bl_categorical], axis=1)\n"
   ]
  },
  {
   "cell_type": "code",
   "execution_count": 28,
   "metadata": {},
   "outputs": [
    {
     "name": "stdout",
     "output_type": "stream",
     "text": [
      "(771, 35)\n",
      "(771, 17)\n"
     ]
    }
   ],
   "source": [
    "print(ADNI2_bl_impute_remove_categorical.shape)\n",
    "print(ADNI2_bl_categorical.shape)"
   ]
  },
  {
   "cell_type": "code",
   "execution_count": 29,
   "metadata": {},
   "outputs": [
    {
     "data": {
      "text/html": [
       "<div>\n",
       "<style>\n",
       "    .dataframe thead tr:only-child th {\n",
       "        text-align: right;\n",
       "    }\n",
       "\n",
       "    .dataframe thead th {\n",
       "        text-align: left;\n",
       "    }\n",
       "\n",
       "    .dataframe tbody tr th {\n",
       "        vertical-align: top;\n",
       "    }\n",
       "</style>\n",
       "<table border=\"1\" class=\"dataframe\">\n",
       "  <thead>\n",
       "    <tr style=\"text-align: right;\">\n",
       "      <th></th>\n",
       "      <th>AGE</th>\n",
       "      <th>PTEDUCAT</th>\n",
       "      <th>CDRSB_bl</th>\n",
       "      <th>ADAS11_bl</th>\n",
       "      <th>ADAS13_bl</th>\n",
       "      <th>MMSE_bl</th>\n",
       "      <th>RAVLT_immediate_bl</th>\n",
       "      <th>RAVLT_learning_bl</th>\n",
       "      <th>RAVLT_forgetting_bl</th>\n",
       "      <th>RAVLT_perc_forgetting_bl</th>\n",
       "      <th>...</th>\n",
       "      <th>PTMARRY_Divorced</th>\n",
       "      <th>PTMARRY_Married</th>\n",
       "      <th>PTMARRY_Never married</th>\n",
       "      <th>PTMARRY_Widowed</th>\n",
       "      <th>APOE4_0.0</th>\n",
       "      <th>APOE4_1.0</th>\n",
       "      <th>APOE4_2.0</th>\n",
       "      <th>PTGENDER_Female</th>\n",
       "      <th>PTGENDER_Male</th>\n",
       "      <th>DX_bl</th>\n",
       "    </tr>\n",
       "  </thead>\n",
       "  <tbody>\n",
       "    <tr>\n",
       "      <th>58</th>\n",
       "      <td>66.9</td>\n",
       "      <td>17</td>\n",
       "      <td>0.0</td>\n",
       "      <td>10.0</td>\n",
       "      <td>15.0</td>\n",
       "      <td>29</td>\n",
       "      <td>42.0</td>\n",
       "      <td>5.0</td>\n",
       "      <td>2.0</td>\n",
       "      <td>20.0000</td>\n",
       "      <td>...</td>\n",
       "      <td>0</td>\n",
       "      <td>1</td>\n",
       "      <td>0</td>\n",
       "      <td>0</td>\n",
       "      <td>0</td>\n",
       "      <td>1</td>\n",
       "      <td>0</td>\n",
       "      <td>0</td>\n",
       "      <td>1</td>\n",
       "      <td>4</td>\n",
       "    </tr>\n",
       "    <tr>\n",
       "      <th>91</th>\n",
       "      <td>67.5</td>\n",
       "      <td>16</td>\n",
       "      <td>0.0</td>\n",
       "      <td>3.0</td>\n",
       "      <td>5.0</td>\n",
       "      <td>30</td>\n",
       "      <td>42.0</td>\n",
       "      <td>7.0</td>\n",
       "      <td>2.0</td>\n",
       "      <td>20.0000</td>\n",
       "      <td>...</td>\n",
       "      <td>0</td>\n",
       "      <td>0</td>\n",
       "      <td>1</td>\n",
       "      <td>0</td>\n",
       "      <td>1</td>\n",
       "      <td>0</td>\n",
       "      <td>0</td>\n",
       "      <td>0</td>\n",
       "      <td>1</td>\n",
       "      <td>4</td>\n",
       "    </tr>\n",
       "    <tr>\n",
       "      <th>92</th>\n",
       "      <td>68.5</td>\n",
       "      <td>20</td>\n",
       "      <td>0.0</td>\n",
       "      <td>4.0</td>\n",
       "      <td>7.0</td>\n",
       "      <td>30</td>\n",
       "      <td>61.0</td>\n",
       "      <td>6.0</td>\n",
       "      <td>3.0</td>\n",
       "      <td>20.0000</td>\n",
       "      <td>...</td>\n",
       "      <td>0</td>\n",
       "      <td>1</td>\n",
       "      <td>0</td>\n",
       "      <td>0</td>\n",
       "      <td>1</td>\n",
       "      <td>0</td>\n",
       "      <td>0</td>\n",
       "      <td>0</td>\n",
       "      <td>1</td>\n",
       "      <td>4</td>\n",
       "    </tr>\n",
       "    <tr>\n",
       "      <th>142</th>\n",
       "      <td>80.2</td>\n",
       "      <td>19</td>\n",
       "      <td>0.0</td>\n",
       "      <td>3.0</td>\n",
       "      <td>10.0</td>\n",
       "      <td>29</td>\n",
       "      <td>36.0</td>\n",
       "      <td>8.0</td>\n",
       "      <td>7.0</td>\n",
       "      <td>63.6364</td>\n",
       "      <td>...</td>\n",
       "      <td>0</td>\n",
       "      <td>0</td>\n",
       "      <td>1</td>\n",
       "      <td>0</td>\n",
       "      <td>0</td>\n",
       "      <td>1</td>\n",
       "      <td>0</td>\n",
       "      <td>0</td>\n",
       "      <td>1</td>\n",
       "      <td>4</td>\n",
       "    </tr>\n",
       "    <tr>\n",
       "      <th>174</th>\n",
       "      <td>71.8</td>\n",
       "      <td>15</td>\n",
       "      <td>0.5</td>\n",
       "      <td>4.0</td>\n",
       "      <td>6.0</td>\n",
       "      <td>28</td>\n",
       "      <td>44.0</td>\n",
       "      <td>8.0</td>\n",
       "      <td>4.0</td>\n",
       "      <td>40.0000</td>\n",
       "      <td>...</td>\n",
       "      <td>0</td>\n",
       "      <td>0</td>\n",
       "      <td>0</td>\n",
       "      <td>1</td>\n",
       "      <td>0</td>\n",
       "      <td>1</td>\n",
       "      <td>0</td>\n",
       "      <td>1</td>\n",
       "      <td>0</td>\n",
       "      <td>4</td>\n",
       "    </tr>\n",
       "  </tbody>\n",
       "</table>\n",
       "<p>5 rows × 53 columns</p>\n",
       "</div>"
      ],
      "text/plain": [
       "      AGE  PTEDUCAT  CDRSB_bl  ADAS11_bl  ADAS13_bl  MMSE_bl  \\\n",
       "58   66.9        17       0.0       10.0       15.0       29   \n",
       "91   67.5        16       0.0        3.0        5.0       30   \n",
       "92   68.5        20       0.0        4.0        7.0       30   \n",
       "142  80.2        19       0.0        3.0       10.0       29   \n",
       "174  71.8        15       0.5        4.0        6.0       28   \n",
       "\n",
       "     RAVLT_immediate_bl  RAVLT_learning_bl  RAVLT_forgetting_bl  \\\n",
       "58                 42.0                5.0                  2.0   \n",
       "91                 42.0                7.0                  2.0   \n",
       "92                 61.0                6.0                  3.0   \n",
       "142                36.0                8.0                  7.0   \n",
       "174                44.0                8.0                  4.0   \n",
       "\n",
       "     RAVLT_perc_forgetting_bl  ...    PTMARRY_Divorced  PTMARRY_Married  \\\n",
       "58                    20.0000  ...                   0                1   \n",
       "91                    20.0000  ...                   0                0   \n",
       "92                    20.0000  ...                   0                1   \n",
       "142                   63.6364  ...                   0                0   \n",
       "174                   40.0000  ...                   0                0   \n",
       "\n",
       "     PTMARRY_Never married  PTMARRY_Widowed  APOE4_0.0  APOE4_1.0  APOE4_2.0  \\\n",
       "58                       0                0          0          1          0   \n",
       "91                       1                0          1          0          0   \n",
       "92                       0                0          1          0          0   \n",
       "142                      1                0          0          1          0   \n",
       "174                      0                1          0          1          0   \n",
       "\n",
       "     PTGENDER_Female  PTGENDER_Male  DX_bl  \n",
       "58                 0              1      4  \n",
       "91                 0              1      4  \n",
       "92                 0              1      4  \n",
       "142                0              1      4  \n",
       "174                1              0      4  \n",
       "\n",
       "[5 rows x 53 columns]"
      ]
     },
     "execution_count": 29,
     "metadata": {},
     "output_type": "execute_result"
    }
   ],
   "source": [
    "ADNI2_bl_missing['DX_bl']=ADNI2_bl_impute['DX_bl']\n",
    "ADNI2_bl_missing.head()"
   ]
  },
  {
   "cell_type": "code",
   "execution_count": 30,
   "metadata": {},
   "outputs": [
    {
     "name": "stdout",
     "output_type": "stream",
     "text": [
      "(771, 35)\n"
     ]
    }
   ],
   "source": [
    "print(ADNI2_bl_impute_remove_categorical.shape)"
   ]
  },
  {
   "cell_type": "code",
   "execution_count": 31,
   "metadata": {},
   "outputs": [
    {
     "name": "stdout",
     "output_type": "stream",
     "text": [
      "Index(['AGE', 'PTEDUCAT', 'CDRSB_bl', 'ADAS11_bl', 'ADAS13_bl', 'MMSE_bl',\n",
      "       'RAVLT_immediate_bl', 'RAVLT_learning_bl', 'RAVLT_forgetting_bl',\n",
      "       'RAVLT_perc_forgetting_bl', 'FAQ_bl', 'Ventricles_bl', 'Hippocampus_bl',\n",
      "       'WholeBrain_bl', 'Entorhinal_bl', 'Fusiform_bl', 'MidTemp_bl', 'ICV_bl',\n",
      "       'MOCA_bl', 'EcogPtMem_bl', 'EcogPtLang_bl', 'EcogPtVisspat_bl',\n",
      "       'EcogPtPlan_bl', 'EcogPtOrgan_bl', 'EcogPtDivatt_bl', 'EcogPtTotal_bl',\n",
      "       'EcogSPMem_bl', 'EcogSPLang_bl', 'EcogSPVisspat_bl', 'EcogSPPlan_bl',\n",
      "       'EcogSPOrgan_bl', 'EcogSPDivatt_bl', 'EcogSPTotal_bl', 'FDG_bl',\n",
      "       'AV45_bl', 'PTETHCAT_Hisp/Latino', 'PTETHCAT_Not Hisp/Latino',\n",
      "       'PTRACCAT_Am Indian/Alaskan', 'PTRACCAT_Asian', 'PTRACCAT_Black',\n",
      "       'PTRACCAT_Hawaiian/Other PI', 'PTRACCAT_More than one',\n",
      "       'PTRACCAT_White', 'PTMARRY_Divorced', 'PTMARRY_Married',\n",
      "       'PTMARRY_Never married', 'PTMARRY_Widowed', 'APOE4_0.0', 'APOE4_1.0',\n",
      "       'APOE4_2.0', 'PTGENDER_Female', 'PTGENDER_Male', 'DX_bl'],\n",
      "      dtype='object')\n"
     ]
    }
   ],
   "source": [
    "print(ADNI2_bl_missing.columns)"
   ]
  },
  {
   "cell_type": "code",
   "execution_count": 32,
   "metadata": {
    "collapsed": true
   },
   "outputs": [],
   "source": [
    "full_dataframe =  copy(ADNI2_bl_missing)\n",
    "full_dataframe_train, full_dataframe_test = split(full_dataframe,0.75)\n",
    "ADNI2_bl_missing_train, ADNI2_bl_missing_test = split(ADNI2_bl_missing,0.75)"
   ]
  },
  {
   "cell_type": "code",
   "execution_count": 33,
   "metadata": {},
   "outputs": [
    {
     "name": "stdout",
     "output_type": "stream",
     "text": [
      "The origin number of data: 575\n",
      "The number of data that contains missing entries: 206\n",
      "The dimension of full dataframe: (369, 53)\n",
      "0\n"
     ]
    }
   ],
   "source": [
    "#For train\n",
    "missing_rows = []\n",
    "for i in range(ADNI2_bl_missing_train.shape[0]):\n",
    "    if pd.isnull(ADNI2_bl_missing_train.values[i]).any():\n",
    "        missing_rows.append(i)\n",
    "full_dataframe_train = full_dataframe_train.drop(full_dataframe_train.index[missing_rows], axis=0);\n",
    "\n",
    "print('The origin number of data: {}'.format(len(ADNI2_bl_missing_train)))\n",
    "print('The number of data that contains missing entries: {}'.format(len(missing_rows)))\n",
    "print('The dimension of full dataframe: {}'.format(full_dataframe_train.shape))\n",
    "\n",
    "''' To check that full_dataframe has no missing values '''\n",
    "print(np.sum(np.sum(full_dataframe_train.isnull())))"
   ]
  },
  {
   "cell_type": "code",
   "execution_count": 34,
   "metadata": {
    "collapsed": true
   },
   "outputs": [],
   "source": [
    "''' Model-Based Imputation - Linear Regression for train'''\n",
    "\n",
    "lr = LinearRegression(fit_intercept = True)\n",
    "\n",
    "\n",
    "for i in range(ADNI2_bl_missing_train.shape[0]):\n",
    "    if ADNI2_bl_missing_train.iloc[i, :].isnull().any():\n",
    "        missing_columns = ADNI2_bl_missing_train.columns[ADNI2_bl_missing_train.iloc[i, :].isnull()]\n",
    "        #print(i, missing_columns)\n",
    "        y_imp_train = full_dataframe_train[missing_columns]\n",
    "        X_imp_train = full_dataframe_train.drop(missing_columns, 1)\n",
    "#         print(y_imp.shape)\n",
    "#         print(X_imp.shape)\n",
    "        lr.fit(X_imp_train,y_imp_train)\n",
    "        X_missing_train = ADNI2_bl_missing_train.iloc[i, :].drop(missing_columns)\n",
    "        y_hat_train = lr.predict(X_missing_train)\n",
    "        ADNI2_bl_missing_train.loc[ADNI2_bl_missing_train.index[i], missing_columns] = y_hat_train[0] \n",
    "     "
   ]
  },
  {
   "cell_type": "code",
   "execution_count": 35,
   "metadata": {},
   "outputs": [
    {
     "data": {
      "text/plain": [
       "AGE                           0\n",
       "PTEDUCAT                      0\n",
       "CDRSB_bl                      0\n",
       "ADAS11_bl                     0\n",
       "ADAS13_bl                     0\n",
       "MMSE_bl                       0\n",
       "RAVLT_immediate_bl            0\n",
       "RAVLT_learning_bl             0\n",
       "RAVLT_forgetting_bl           0\n",
       "RAVLT_perc_forgetting_bl      0\n",
       "FAQ_bl                        0\n",
       "Ventricles_bl                 0\n",
       "Hippocampus_bl                0\n",
       "WholeBrain_bl                 0\n",
       "Entorhinal_bl                 0\n",
       "Fusiform_bl                   0\n",
       "MidTemp_bl                    0\n",
       "ICV_bl                        0\n",
       "MOCA_bl                       0\n",
       "EcogPtMem_bl                  0\n",
       "EcogPtLang_bl                 0\n",
       "EcogPtVisspat_bl              0\n",
       "EcogPtPlan_bl                 0\n",
       "EcogPtOrgan_bl                0\n",
       "EcogPtDivatt_bl               0\n",
       "EcogPtTotal_bl                0\n",
       "EcogSPMem_bl                  0\n",
       "EcogSPLang_bl                 0\n",
       "EcogSPVisspat_bl              0\n",
       "EcogSPPlan_bl                 0\n",
       "EcogSPOrgan_bl                0\n",
       "EcogSPDivatt_bl               0\n",
       "EcogSPTotal_bl                0\n",
       "FDG_bl                        0\n",
       "AV45_bl                       0\n",
       "PTETHCAT_Hisp/Latino          0\n",
       "PTETHCAT_Not Hisp/Latino      0\n",
       "PTRACCAT_Am Indian/Alaskan    0\n",
       "PTRACCAT_Asian                0\n",
       "PTRACCAT_Black                0\n",
       "PTRACCAT_Hawaiian/Other PI    0\n",
       "PTRACCAT_More than one        0\n",
       "PTRACCAT_White                0\n",
       "PTMARRY_Divorced              0\n",
       "PTMARRY_Married               0\n",
       "PTMARRY_Never married         0\n",
       "PTMARRY_Widowed               0\n",
       "APOE4_0.0                     0\n",
       "APOE4_1.0                     0\n",
       "APOE4_2.0                     0\n",
       "PTGENDER_Female               0\n",
       "PTGENDER_Male                 0\n",
       "DX_bl                         0\n",
       "dtype: int64"
      ]
     },
     "execution_count": 35,
     "metadata": {},
     "output_type": "execute_result"
    }
   ],
   "source": [
    "ADNI2_bl_missing_train.isnull().sum()"
   ]
  },
  {
   "cell_type": "code",
   "execution_count": 36,
   "metadata": {},
   "outputs": [
    {
     "name": "stdout",
     "output_type": "stream",
     "text": [
      "The origin number of data: 196\n",
      "The number of data that contains missing entries: 206\n",
      "The dimension of full dataframe: (128, 53)\n",
      "0\n"
     ]
    }
   ],
   "source": [
    "#For test\n",
    "missing_rows_test = []\n",
    "for i in range(ADNI2_bl_missing_test.shape[0]):\n",
    "    if pd.isnull(ADNI2_bl_missing_test.values[i]).any():\n",
    "        missing_rows_test.append(i)\n",
    "full_dataframe_test = full_dataframe_test.drop(full_dataframe_test.index[missing_rows_test], axis=0);\n",
    "\n",
    "print('The origin number of data: {}'.format(len(ADNI2_bl_missing_test)))\n",
    "print('The number of data that contains missing entries: {}'.format(len(missing_rows)))\n",
    "print('The dimension of full dataframe: {}'.format(full_dataframe_test.shape))\n",
    "\n",
    "''' To check that full_dataframe has no missing values '''\n",
    "print(np.sum(np.sum(full_dataframe_test.isnull())))"
   ]
  },
  {
   "cell_type": "code",
   "execution_count": 37,
   "metadata": {
    "collapsed": true
   },
   "outputs": [],
   "source": [
    "#Model-Based Imputation - Linear Regression for test\n",
    "#Iused the same model as in the train\n",
    "\n",
    "lr = LinearRegression(fit_intercept = True)\n",
    "\n",
    "for i in range(ADNI2_bl_missing_test.shape[0]):\n",
    "    if ADNI2_bl_missing_test.iloc[i, :].isnull().any():\n",
    "        missing_columns = ADNI2_bl_missing_test.columns[ADNI2_bl_missing_test.iloc[i, :].isnull()]\n",
    "        y_imp_test = full_dataframe_test[missing_columns]\n",
    "        X_imp_test = full_dataframe_test.drop(missing_columns, 1)\n",
    "        #print(i, missing_columns)\n",
    "#         print(y_imp.shape)\n",
    "#         print(X_imp.shape)\n",
    "        lr.fit(X_imp_test,y_imp_test)\n",
    "        X_missing_test = ADNI2_bl_missing_test.iloc[i, :].drop(missing_columns)\n",
    "        y_hat_test = lr.predict(X_missing_test)\n",
    "        ADNI2_bl_missing_test.loc[ADNI2_bl_missing_test.index[i], missing_columns] = y_hat_test[0] \n",
    "     "
   ]
  },
  {
   "cell_type": "code",
   "execution_count": 38,
   "metadata": {},
   "outputs": [
    {
     "name": "stdout",
     "output_type": "stream",
     "text": [
      "(575, 53)\n",
      "(196, 53)\n",
      "(196, 53)\n",
      "(497, 58)\n"
     ]
    }
   ],
   "source": [
    "print(ADNI2_bl_missing_train.shape)\n",
    "print(ADNI2_bl_missing_test.shape)\n",
    "print(ADNI2_bl_missing_test.shape)\n",
    "print(ADNI2_bl_remove.shape)"
   ]
  },
  {
   "cell_type": "code",
   "execution_count": 39,
   "metadata": {},
   "outputs": [
    {
     "name": "stdout",
     "output_type": "stream",
     "text": [
      "(575, 53)\n",
      "(196, 53)\n"
     ]
    }
   ],
   "source": [
    "print(ADNI2_bl_missing_train.shape)\n",
    "print(ADNI2_bl_missing_test.shape)"
   ]
  },
  {
   "cell_type": "code",
   "execution_count": 40,
   "metadata": {},
   "outputs": [
    {
     "data": {
      "text/plain": [
       "AGE                           0\n",
       "PTEDUCAT                      0\n",
       "CDRSB_bl                      0\n",
       "ADAS11_bl                     0\n",
       "ADAS13_bl                     0\n",
       "MMSE_bl                       0\n",
       "RAVLT_immediate_bl            0\n",
       "RAVLT_learning_bl             0\n",
       "RAVLT_forgetting_bl           0\n",
       "RAVLT_perc_forgetting_bl      0\n",
       "FAQ_bl                        0\n",
       "Ventricles_bl                 0\n",
       "Hippocampus_bl                0\n",
       "WholeBrain_bl                 0\n",
       "Entorhinal_bl                 0\n",
       "Fusiform_bl                   0\n",
       "MidTemp_bl                    0\n",
       "ICV_bl                        0\n",
       "MOCA_bl                       0\n",
       "EcogPtMem_bl                  0\n",
       "EcogPtLang_bl                 0\n",
       "EcogPtVisspat_bl              0\n",
       "EcogPtPlan_bl                 0\n",
       "EcogPtOrgan_bl                0\n",
       "EcogPtDivatt_bl               0\n",
       "EcogPtTotal_bl                0\n",
       "EcogSPMem_bl                  0\n",
       "EcogSPLang_bl                 0\n",
       "EcogSPVisspat_bl              0\n",
       "EcogSPPlan_bl                 0\n",
       "EcogSPOrgan_bl                0\n",
       "EcogSPDivatt_bl               0\n",
       "EcogSPTotal_bl                0\n",
       "FDG_bl                        0\n",
       "AV45_bl                       0\n",
       "PTETHCAT_Hisp/Latino          0\n",
       "PTETHCAT_Not Hisp/Latino      0\n",
       "PTRACCAT_Am Indian/Alaskan    0\n",
       "PTRACCAT_Asian                0\n",
       "PTRACCAT_Black                0\n",
       "PTRACCAT_Hawaiian/Other PI    0\n",
       "PTRACCAT_More than one        0\n",
       "PTRACCAT_White                0\n",
       "PTMARRY_Divorced              0\n",
       "PTMARRY_Married               0\n",
       "PTMARRY_Never married         0\n",
       "PTMARRY_Widowed               0\n",
       "APOE4_0.0                     0\n",
       "APOE4_1.0                     0\n",
       "APOE4_2.0                     0\n",
       "PTGENDER_Female               0\n",
       "PTGENDER_Male                 0\n",
       "DX_bl                         0\n",
       "dtype: int64"
      ]
     },
     "execution_count": 40,
     "metadata": {},
     "output_type": "execute_result"
    }
   ],
   "source": [
    "ADNI2_bl_missing_train.isnull().sum()"
   ]
  },
  {
   "cell_type": "code",
   "execution_count": 41,
   "metadata": {},
   "outputs": [
    {
     "data": {
      "text/plain": [
       "AGE                           0\n",
       "PTEDUCAT                      0\n",
       "CDRSB_bl                      0\n",
       "ADAS11_bl                     0\n",
       "ADAS13_bl                     0\n",
       "MMSE_bl                       0\n",
       "RAVLT_immediate_bl            0\n",
       "RAVLT_learning_bl             0\n",
       "RAVLT_forgetting_bl           0\n",
       "RAVLT_perc_forgetting_bl      0\n",
       "FAQ_bl                        0\n",
       "Ventricles_bl                 0\n",
       "Hippocampus_bl                0\n",
       "WholeBrain_bl                 0\n",
       "Entorhinal_bl                 0\n",
       "Fusiform_bl                   0\n",
       "MidTemp_bl                    0\n",
       "ICV_bl                        0\n",
       "MOCA_bl                       0\n",
       "EcogPtMem_bl                  0\n",
       "EcogPtLang_bl                 0\n",
       "EcogPtVisspat_bl              0\n",
       "EcogPtPlan_bl                 0\n",
       "EcogPtOrgan_bl                0\n",
       "EcogPtDivatt_bl               0\n",
       "EcogPtTotal_bl                0\n",
       "EcogSPMem_bl                  0\n",
       "EcogSPLang_bl                 0\n",
       "EcogSPVisspat_bl              0\n",
       "EcogSPPlan_bl                 0\n",
       "EcogSPOrgan_bl                0\n",
       "EcogSPDivatt_bl               0\n",
       "EcogSPTotal_bl                0\n",
       "FDG_bl                        0\n",
       "AV45_bl                       0\n",
       "PTETHCAT_Hisp/Latino          0\n",
       "PTETHCAT_Not Hisp/Latino      0\n",
       "PTRACCAT_Am Indian/Alaskan    0\n",
       "PTRACCAT_Asian                0\n",
       "PTRACCAT_Black                0\n",
       "PTRACCAT_Hawaiian/Other PI    0\n",
       "PTRACCAT_More than one        0\n",
       "PTRACCAT_White                0\n",
       "PTMARRY_Divorced              0\n",
       "PTMARRY_Married               0\n",
       "PTMARRY_Never married         0\n",
       "PTMARRY_Widowed               0\n",
       "APOE4_0.0                     0\n",
       "APOE4_1.0                     0\n",
       "APOE4_2.0                     0\n",
       "PTGENDER_Female               0\n",
       "PTGENDER_Male                 0\n",
       "DX_bl                         0\n",
       "dtype: int64"
      ]
     },
     "execution_count": 41,
     "metadata": {},
     "output_type": "execute_result"
    }
   ],
   "source": [
    "ADNI2_bl_missing_test.isnull().sum()"
   ]
  },
  {
   "cell_type": "code",
   "execution_count": 43,
   "metadata": {
    "collapsed": true
   },
   "outputs": [],
   "source": [
    "ADNI2_bl_missing_train.to_csv(path_or_buf='ADNI2_bl_impute_train.csv', index=False)\n",
    "ADNI2_bl_missing_test.to_csv(path_or_buf='ADNI2_bl_impute_test.csv', index=False)"
   ]
  },
  {
   "cell_type": "code",
   "execution_count": null,
   "metadata": {
    "collapsed": true
   },
   "outputs": [],
   "source": []
  },
  {
   "cell_type": "code",
   "execution_count": null,
   "metadata": {
    "collapsed": true
   },
   "outputs": [],
   "source": []
  },
  {
   "cell_type": "code",
   "execution_count": null,
   "metadata": {
    "collapsed": true
   },
   "outputs": [],
   "source": []
  },
  {
   "cell_type": "code",
   "execution_count": null,
   "metadata": {
    "collapsed": true
   },
   "outputs": [],
   "source": []
  },
  {
   "cell_type": "code",
   "execution_count": null,
   "metadata": {
    "collapsed": true
   },
   "outputs": [],
   "source": []
  },
  {
   "cell_type": "code",
   "execution_count": null,
   "metadata": {
    "collapsed": true
   },
   "outputs": [],
   "source": []
  },
  {
   "cell_type": "code",
   "execution_count": null,
   "metadata": {
    "collapsed": true
   },
   "outputs": [],
   "source": []
  },
  {
   "cell_type": "markdown",
   "metadata": {},
   "source": [
    "# Below are More Preliminary Exploration by Carlo"
   ]
  },
  {
   "cell_type": "markdown",
   "metadata": {},
   "source": [
    "                                                 **STRATEGY**\n",
    "\n",
    "'RID',                    They should not be used for prediction, I'd keep them just for merging the prediction?\n",
    "'PTID',                   They should not be used for prediction, I'd keep them just for merging the prediction?      \n",
    "'VISCODE'                 They should not be used for prediction, I'd keep them just for merging the prediction?        'SITE'                    Shall we discard for the prediction?\n",
    "'COLPROT'                 Shall we discard for the prediction?\n",
    "'ORIGPROT'                Shall we discard for the prediction?\n",
    "'EXAMDATE'                Shall we discard for the prediction?\n",
    "'DX_bl'                   Hotone, categorical\n",
    "'AGE',                    OK, int\n",
    "'PTGENDER'                Hotone, categorical\n",
    "'PTEDUCAT'                OK, int\n",
    "'PTETHCAT',               Hotone, categorical\n",
    "'PTRACCAT',               Hotone, categorical \n",
    "'PTMARRY'                 Hotone, categorical\n",
    "'APOE4'                   Hotone, categorical   Class of protein\n",
    "'CDRSB'                   OK,float              Clinical Dementia Rating Scale–Sum of Boxes\n",
    "'ADAS11'                  OK,float              Alzheimer's Disease Assessment Scale-Cognitive Subscale\n",
    "'ADAS13'                  OK,float              Alzheimer's Disease Assessment Scale-Cognitive Subscale\n",
    "'MMSE',                   OK,float              Mini Mental State Examination\n",
    "'RAVLT_immediate'         OK,float              Rey Auditory Verbal Learning Test\n",
    "'RAVLT_learning'          OK,float              Rey Auditory Verbal Learning Test\n",
    "'RAVLT_forgetting',       OK,float              Rey Auditory Verbal Learning Test\n",
    "'RAVLT_perc_forgetting'   OK,float              Rey Auditory Verbal Learning Test\n",
    "'FAQ'                     OK,float              Functional Assessment Questionnaire\n",
    "'MOCA'                    OK,float              Montreal Cognitive Assessment (MoCA)\n",
    "'EcogPtMem'               OK,float              Cognitive\n",
    "'EcogPtLang',             OK,float              Cognitive\n",
    "'EcogPtVisspat'           OK,float              Cognitive\n",
    "'EcogPtPlan'              OK,float              Cognitive\n",
    "'EcogPtOrgan'             OK,float              Cognitive\n",
    "'EcogPtDivatt'            OK,float              Cognitive\n",
    "'EcogPtTotal'             OK,float              Cognitive\n",
    "'EcogSPMem'               OK,float              Cognitive\n",
    "'EcogSPLang'              OK,float              Cognitive\n",
    "'EcogSPVisspat'           OK,float              Cognitive\n",
    "'EcogSPPlan',             OK,float              Cognitive\n",
    "'EcogSPOrgan'             OK,float              Cognitive\n",
    "'EcogSPDivatt'            OK,float              Cognitive\n",
    "'EcogSPTotal'             OK,float              Cognitive\n",
    "'FSVERSION',              Just one value, discard\n",
    "'Hippocampus'             OK,float              Hippocampus volume\n",
    "'WholeBrain'              OK,float              Brain volume\n",
    "'ICV'                     OK,float              Intracranial volume\n",
    "'DX'                      OUR Y, ENCODING\n",
    "'EXAMDATE_bl'             Shall we discard for the prediction?\n",
    "'CDRSB_bl'                       ***FROM HERE BASELINE***\n",
    "'ADAS11_bl'\n",
    "'ADAS13_bl'\n",
    "'MMSE_bl'\n",
    "'RAVLT_immediate_bl'\n",
    "'RAVLT_learning_bl'\n",
    "'RAVLT_forgetting_bl'\n",
    "'RAVLT_perc_forgetting_bl',\n",
    "'FAQ_bl', 'FLDSTRENG_bl'\n",
    "'FSVERSION_bl'\n",
    "'Ventricles_bl',\n",
    "'Hippocampus_bl'\n",
    "'WholeBrain_bl'\n",
    "'Entorhinal_bl'\n",
    "'Fusiform_bl',\n",
    "'MidTemp_bl'\n",
    "'ICV_bl'\n",
    "'MOCA_bl'\n",
    "'EcogPtMem_bl'\n",
    "'EcogPtLang_bl',\n",
    "'EcogPtVisspat_bl'\n",
    "'EcogPtPlan_bl'\n",
    "'EcogPtOrgan_bl',\n",
    "'EcogPtDivatt_bl'\n",
    "'EcogPtTotal_bl'\n",
    "'EcogSPMem_bl'\n",
    "'EcogSPLang_bl',\n",
    "'EcogSPVisspat_bl'\n",
    "'EcogSPPlan_bl'\n",
    "'EcogSPOrgan_bl',\n",
    "'EcogSPDivatt_bl'\n",
    "'EcogSPTotal_bl'\n",
    "'FDG_bl'                   OK,float               fluorescence connect to PET\n",
    "'AV45_bl'                  OK,float               average survival\n",
    "'Years_bl',                OK,float               years form baseline\n",
    "'Month_bl'                 Shall we discard for the prediction? We already have 'Years_bl'\n",
    "'Month'                    Shall we discard for the prediction? We already have 'Years_bl'\n",
    "'M'                        Shall we discard for the prediction? We already have 'Years_bl'\n",
    "'update_stamp              Shall we discard for the prediction? "
   ]
  }
 ],
 "metadata": {
  "kernelspec": {
   "display_name": "Python 3",
   "language": "python",
   "name": "python3"
  },
  "language_info": {
   "codemirror_mode": {
    "name": "ipython",
    "version": 3
   },
   "file_extension": ".py",
   "mimetype": "text/x-python",
   "name": "python",
   "nbconvert_exporter": "python",
   "pygments_lexer": "ipython3",
   "version": "3.6.1"
  }
 },
 "nbformat": 4,
 "nbformat_minor": 2
}
