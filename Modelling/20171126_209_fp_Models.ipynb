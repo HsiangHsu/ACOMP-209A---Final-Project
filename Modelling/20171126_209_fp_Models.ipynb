{
 "cells": [
  {
   "cell_type": "code",
   "execution_count": 1,
   "metadata": {},
   "outputs": [
    {
     "name": "stderr",
     "output_type": "stream",
     "text": [
      "/anaconda/lib/python3.6/site-packages/sklearn/cross_validation.py:44: DeprecationWarning: This module was deprecated in version 0.18 in favor of the model_selection module into which all the refactored classes and functions are moved. Also note that the interface of the new CV iterators are different from that of this module. This module will be removed in 0.20.\n",
      "  \"This module will be removed in 0.20.\", DeprecationWarning)\n",
      "/anaconda/lib/python3.6/site-packages/sklearn/grid_search.py:43: DeprecationWarning: This module was deprecated in version 0.18 in favor of the model_selection module into which all the refactored classes and functions are moved. This module will be removed in 0.20.\n",
      "  DeprecationWarning)\n"
     ]
    },
    {
     "data": {
      "application/javascript": [
       "IPython.notebook.set_autosave_interval(300000)"
      ]
     },
     "metadata": {},
     "output_type": "display_data"
    },
    {
     "name": "stdout",
     "output_type": "stream",
     "text": [
      "Autosaving every 300 seconds\n"
     ]
    }
   ],
   "source": [
    "# just importing a random selection of things; we can fix this later\n",
    "import numpy as np\n",
    "import pandas as pd\n",
    "import matplotlib\n",
    "import matplotlib.pyplot as plt\n",
    "import sklearn.metrics as metrics\n",
    "from sklearn.model_selection import cross_val_score\n",
    "from sklearn import tree\n",
    "from sklearn.tree import DecisionTreeClassifier\n",
    "from sklearn.ensemble import RandomForestClassifier\n",
    "from sklearn.ensemble import AdaBoostClassifier\n",
    "from sklearn.linear_model import LogisticRegressionCV\n",
    "%matplotlib inline\n",
    "\n",
    "from sklearn.tree import DecisionTreeRegressor\n",
    "\n",
    "from sklearn.model_selection import cross_val_score\n",
    "\n",
    "from sklearn.metrics import accuracy_score\n",
    "from sklearn.model_selection import KFold\n",
    "from sklearn.grid_search import GridSearchCV\n",
    "\n",
    "from pprint import pprint \n",
    "\n",
    "from sklearn.ensemble import BaggingClassifier\n",
    "from sklearn import model_selection\n",
    "from random import seed\n",
    "from sklearn.model_selection import cross_val_predict\n",
    "\n",
    "from sklearn.ensemble import RandomForestClassifier\n",
    "from itertools import product\n",
    "from collections import OrderedDict\n",
    "from itertools import product\n",
    "\n",
    "from sklearn import model_selection\n",
    "from sklearn.svm import SVC\n",
    "from sklearn import neighbors\n",
    "from sklearn.ensemble import VotingClassifier\n",
    "\n",
    "from sklearn.model_selection import train_test_split\n",
    "from __future__ import print_function # For Python 2 / 3 compatability\n",
    "from sklearn.metrics import confusion_matrix\n",
    "import itertools\n",
    "\n",
    "import warnings\n",
    "from sklearn import preprocessing\n",
    "%autosave 300\n",
    "warnings.filterwarnings(\"ignore\")"
   ]
  },
  {
   "cell_type": "markdown",
   "metadata": {
    "collapsed": true
   },
   "source": [
    "<font color = magenta> \n",
    "# 112617 MODELS"
   ]
  },
  {
   "cell_type": "code",
   "execution_count": 2,
   "metadata": {
    "collapsed": true
   },
   "outputs": [],
   "source": [
    "with open(\"ADNI2_clean_remove_all_missing.json\") as json_file: \n",
    "    ADNI2_clean_remove_all_missing_load = pd.read_json(path_or_buf='ADNI2_clean_remove_all_missing.json')"
   ]
  },
  {
   "cell_type": "markdown",
   "metadata": {},
   "source": [
    "## Logistic Regression model using Hsiang's file (ADNI2_clean_remove_all_missing_load)\n",
    "### File is loaded from the json in the cells above. \n",
    "#### Note for now we are using 'DX_bl' as the response variable, though we should change this later to be 'DX'"
   ]
  },
  {
   "cell_type": "code",
   "execution_count": 3,
   "metadata": {
    "scrolled": true
   },
   "outputs": [
    {
     "data": {
      "text/plain": [
       "array(['AGE', 'CDRSB_bl', 'COLPROT', 'DX_bl', 'EXAMDATE', 'EXAMDATE_bl',\n",
       "       'M', 'MMSE_bl', 'Month', 'Month_bl', 'ORIGPROT', 'PTEDUCAT',\n",
       "       'PTGENDER', 'PTID', 'RID', 'SITE', 'VISCODE', 'Years_bl',\n",
       "       'update_stamp'], dtype=object)"
      ]
     },
     "execution_count": 3,
     "metadata": {},
     "output_type": "execute_result"
    }
   ],
   "source": [
    "ADNI2_clean_remove_all_missing_load.columns.values"
   ]
  },
  {
   "cell_type": "code",
   "execution_count": 4,
   "metadata": {},
   "outputs": [
    {
     "data": {
      "text/html": [
       "<div>\n",
       "<style>\n",
       "    .dataframe thead tr:only-child th {\n",
       "        text-align: right;\n",
       "    }\n",
       "\n",
       "    .dataframe thead th {\n",
       "        text-align: left;\n",
       "    }\n",
       "\n",
       "    .dataframe tbody tr th {\n",
       "        vertical-align: top;\n",
       "    }\n",
       "</style>\n",
       "<table border=\"1\" class=\"dataframe\">\n",
       "  <thead>\n",
       "    <tr style=\"text-align: right;\">\n",
       "      <th></th>\n",
       "      <th>AGE</th>\n",
       "      <th>CDRSB_bl</th>\n",
       "      <th>COLPROT</th>\n",
       "      <th>DX_bl</th>\n",
       "      <th>EXAMDATE</th>\n",
       "      <th>EXAMDATE_bl</th>\n",
       "      <th>M</th>\n",
       "      <th>MMSE_bl</th>\n",
       "      <th>Month</th>\n",
       "      <th>Month_bl</th>\n",
       "      <th>ORIGPROT</th>\n",
       "      <th>PTEDUCAT</th>\n",
       "      <th>PTGENDER</th>\n",
       "      <th>PTID</th>\n",
       "      <th>RID</th>\n",
       "      <th>SITE</th>\n",
       "      <th>VISCODE</th>\n",
       "      <th>Years_bl</th>\n",
       "      <th>update_stamp</th>\n",
       "    </tr>\n",
       "  </thead>\n",
       "  <tbody>\n",
       "    <tr>\n",
       "      <th>10000</th>\n",
       "      <td>55.0</td>\n",
       "      <td>1.0</td>\n",
       "      <td>ADNI2</td>\n",
       "      <td>LMCI</td>\n",
       "      <td>2012-01-26</td>\n",
       "      <td>2011-07-27</td>\n",
       "      <td>6</td>\n",
       "      <td>28</td>\n",
       "      <td>6</td>\n",
       "      <td>6.00000</td>\n",
       "      <td>ADNI2</td>\n",
       "      <td>14</td>\n",
       "      <td>Female</td>\n",
       "      <td>035_S_4114</td>\n",
       "      <td>4114</td>\n",
       "      <td>35</td>\n",
       "      <td>m06</td>\n",
       "      <td>0.501027</td>\n",
       "      <td>2017-10-06 23:19:54.0</td>\n",
       "    </tr>\n",
       "    <tr>\n",
       "      <th>10001</th>\n",
       "      <td>55.0</td>\n",
       "      <td>1.0</td>\n",
       "      <td>ADNI2</td>\n",
       "      <td>LMCI</td>\n",
       "      <td>2011-11-02</td>\n",
       "      <td>2011-07-27</td>\n",
       "      <td>3</td>\n",
       "      <td>28</td>\n",
       "      <td>3</td>\n",
       "      <td>3.21311</td>\n",
       "      <td>ADNI2</td>\n",
       "      <td>14</td>\n",
       "      <td>Female</td>\n",
       "      <td>035_S_4114</td>\n",
       "      <td>4114</td>\n",
       "      <td>35</td>\n",
       "      <td>m03</td>\n",
       "      <td>0.268309</td>\n",
       "      <td>2017-08-29 23:07:16.0</td>\n",
       "    </tr>\n",
       "    <tr>\n",
       "      <th>10002</th>\n",
       "      <td>55.0</td>\n",
       "      <td>1.0</td>\n",
       "      <td>ADNI2</td>\n",
       "      <td>LMCI</td>\n",
       "      <td>2011-07-27</td>\n",
       "      <td>2011-07-27</td>\n",
       "      <td>0</td>\n",
       "      <td>28</td>\n",
       "      <td>0</td>\n",
       "      <td>0.00000</td>\n",
       "      <td>ADNI2</td>\n",
       "      <td>14</td>\n",
       "      <td>Female</td>\n",
       "      <td>035_S_4114</td>\n",
       "      <td>4114</td>\n",
       "      <td>35</td>\n",
       "      <td>bl</td>\n",
       "      <td>0.000000</td>\n",
       "      <td>2017-10-06 23:19:54.0</td>\n",
       "    </tr>\n",
       "    <tr>\n",
       "      <th>10003</th>\n",
       "      <td>70.8</td>\n",
       "      <td>0.0</td>\n",
       "      <td>ADNI2</td>\n",
       "      <td>CN</td>\n",
       "      <td>2015-07-29</td>\n",
       "      <td>2011-07-22</td>\n",
       "      <td>48</td>\n",
       "      <td>30</td>\n",
       "      <td>48</td>\n",
       "      <td>48.13110</td>\n",
       "      <td>ADNI2</td>\n",
       "      <td>18</td>\n",
       "      <td>Female</td>\n",
       "      <td>011_S_4105</td>\n",
       "      <td>4105</td>\n",
       "      <td>11</td>\n",
       "      <td>m48</td>\n",
       "      <td>4.019170</td>\n",
       "      <td>2017-10-06 23:19:54.0</td>\n",
       "    </tr>\n",
       "    <tr>\n",
       "      <th>10004</th>\n",
       "      <td>70.8</td>\n",
       "      <td>0.0</td>\n",
       "      <td>ADNI2</td>\n",
       "      <td>CN</td>\n",
       "      <td>2014-01-16</td>\n",
       "      <td>2011-07-22</td>\n",
       "      <td>30</td>\n",
       "      <td>30</td>\n",
       "      <td>30</td>\n",
       "      <td>29.80330</td>\n",
       "      <td>ADNI2</td>\n",
       "      <td>18</td>\n",
       "      <td>Female</td>\n",
       "      <td>011_S_4105</td>\n",
       "      <td>4105</td>\n",
       "      <td>11</td>\n",
       "      <td>m30</td>\n",
       "      <td>2.488710</td>\n",
       "      <td>2017-08-29 23:07:16.0</td>\n",
       "    </tr>\n",
       "  </tbody>\n",
       "</table>\n",
       "</div>"
      ],
      "text/plain": [
       "        AGE  CDRSB_bl COLPROT DX_bl    EXAMDATE EXAMDATE_bl   M  MMSE_bl  \\\n",
       "10000  55.0       1.0   ADNI2  LMCI  2012-01-26  2011-07-27   6       28   \n",
       "10001  55.0       1.0   ADNI2  LMCI  2011-11-02  2011-07-27   3       28   \n",
       "10002  55.0       1.0   ADNI2  LMCI  2011-07-27  2011-07-27   0       28   \n",
       "10003  70.8       0.0   ADNI2    CN  2015-07-29  2011-07-22  48       30   \n",
       "10004  70.8       0.0   ADNI2    CN  2014-01-16  2011-07-22  30       30   \n",
       "\n",
       "       Month  Month_bl ORIGPROT  PTEDUCAT PTGENDER        PTID   RID  SITE  \\\n",
       "10000      6   6.00000    ADNI2        14   Female  035_S_4114  4114    35   \n",
       "10001      3   3.21311    ADNI2        14   Female  035_S_4114  4114    35   \n",
       "10002      0   0.00000    ADNI2        14   Female  035_S_4114  4114    35   \n",
       "10003     48  48.13110    ADNI2        18   Female  011_S_4105  4105    11   \n",
       "10004     30  29.80330    ADNI2        18   Female  011_S_4105  4105    11   \n",
       "\n",
       "      VISCODE  Years_bl           update_stamp  \n",
       "10000     m06  0.501027  2017-10-06 23:19:54.0  \n",
       "10001     m03  0.268309  2017-08-29 23:07:16.0  \n",
       "10002      bl  0.000000  2017-10-06 23:19:54.0  \n",
       "10003     m48  4.019170  2017-10-06 23:19:54.0  \n",
       "10004     m30  2.488710  2017-08-29 23:07:16.0  "
      ]
     },
     "execution_count": 4,
     "metadata": {},
     "output_type": "execute_result"
    }
   ],
   "source": [
    "ADNI2_clean_remove_all_missing_load.head()"
   ]
  },
  {
   "cell_type": "markdown",
   "metadata": {},
   "source": [
    "### First, preprocess the variables \n",
    "#### (encoding or dummy for categorical; standardize both categ. and continuous)"
   ]
  },
  {
   "cell_type": "code",
   "execution_count": 5,
   "metadata": {
    "collapsed": true
   },
   "outputs": [],
   "source": [
    "# list of continuous predictors, which will be standardized\n",
    "pred_continuous = ['Years_bl','AGE', 'CDRSB_bl', 'PTEDUCAT', 'MMSE_bl']  # 'CDRSB_bl' has 17 values\n",
    "\n",
    "# list of the categorical variables, which will be encoded and standardized\n",
    "pred_categ_for_dummies = ['PTGENDER']\n",
    "\n",
    "# identify response variable - we will do encoding (not dummy) for this variable\n",
    "response_variable = ['DX_bl']\n",
    "\n",
    "# list of non-predictor variables that we are excluding for prediction\n",
    "# note: some of these we may need for merging databases later\n",
    "excluded_variables = ['VISCODE', 'EXAMDATE','EXAMDATE_bl', 'SITE', 'COLPROT',\n",
    "                        'M',  # this is the same as 'Month'  \n",
    "                        'ORIGPROT', # all are ADNI2\n",
    "                        'PTID', 'RID', 'Month', 'Month_bl', 'update_stamp']"
   ]
  },
  {
   "cell_type": "code",
   "execution_count": 6,
   "metadata": {
    "collapsed": true
   },
   "outputs": [],
   "source": [
    "# make a copy of the dataframe that was loaded from the JSON \n",
    "ADNI2_clean_remove_all_missing_processed = ADNI2_clean_remove_all_missing_load.copy()\n",
    "ADNI2_clean_remove_all_missing_processed = ADNI2_clean_remove_all_missing_processed.drop(excluded_variables,\n",
    "                                                axis=1)"
   ]
  },
  {
   "cell_type": "code",
   "execution_count": 7,
   "metadata": {},
   "outputs": [
    {
     "name": "stdout",
     "output_type": "stream",
     "text": [
      "All unique values of DX_bl:  ['LMCI' 'CN' 'EMCI' 'AD' 'SMC']\n",
      "Note: In the next cell below, encoded the column DX_bl....the result is not necessarily ordinal\n"
     ]
    }
   ],
   "source": [
    "print('All unique values of DX_bl: ', ADNI2_clean_remove_all_missing_processed['DX_bl'].unique())\n",
    "print('Note: In the next cell below, encoded the column DX_bl....the result is not necessarily ordinal')"
   ]
  },
  {
   "cell_type": "code",
   "execution_count": 8,
   "metadata": {
    "collapsed": true
   },
   "outputs": [],
   "source": [
    "#encoding\n",
    "from sklearn import preprocessing\n",
    "encode = preprocessing.LabelEncoder()\n",
    "ADNI2_clean_remove_all_missing_load.loc[:, 'DX_bl'] = encode.fit_transform(ADNI2_clean_remove_all_missing_load['DX_bl'])\n"
   ]
  },
  {
   "cell_type": "code",
   "execution_count": 9,
   "metadata": {},
   "outputs": [
    {
     "name": "stdout",
     "output_type": "stream",
     "text": [
      "(6937, 7)\n"
     ]
    },
    {
     "data": {
      "text/html": [
       "<div>\n",
       "<style>\n",
       "    .dataframe thead tr:only-child th {\n",
       "        text-align: right;\n",
       "    }\n",
       "\n",
       "    .dataframe thead th {\n",
       "        text-align: left;\n",
       "    }\n",
       "\n",
       "    .dataframe tbody tr th {\n",
       "        vertical-align: top;\n",
       "    }\n",
       "</style>\n",
       "<table border=\"1\" class=\"dataframe\">\n",
       "  <thead>\n",
       "    <tr style=\"text-align: right;\">\n",
       "      <th></th>\n",
       "      <th>AGE</th>\n",
       "      <th>CDRSB_bl</th>\n",
       "      <th>DX_bl</th>\n",
       "      <th>MMSE_bl</th>\n",
       "      <th>PTEDUCAT</th>\n",
       "      <th>PTGENDER</th>\n",
       "      <th>Years_bl</th>\n",
       "    </tr>\n",
       "  </thead>\n",
       "  <tbody>\n",
       "    <tr>\n",
       "      <th>10000</th>\n",
       "      <td>55.0</td>\n",
       "      <td>1.0</td>\n",
       "      <td>LMCI</td>\n",
       "      <td>28</td>\n",
       "      <td>14</td>\n",
       "      <td>Female</td>\n",
       "      <td>0.501027</td>\n",
       "    </tr>\n",
       "    <tr>\n",
       "      <th>10001</th>\n",
       "      <td>55.0</td>\n",
       "      <td>1.0</td>\n",
       "      <td>LMCI</td>\n",
       "      <td>28</td>\n",
       "      <td>14</td>\n",
       "      <td>Female</td>\n",
       "      <td>0.268309</td>\n",
       "    </tr>\n",
       "    <tr>\n",
       "      <th>10002</th>\n",
       "      <td>55.0</td>\n",
       "      <td>1.0</td>\n",
       "      <td>LMCI</td>\n",
       "      <td>28</td>\n",
       "      <td>14</td>\n",
       "      <td>Female</td>\n",
       "      <td>0.000000</td>\n",
       "    </tr>\n",
       "    <tr>\n",
       "      <th>10003</th>\n",
       "      <td>70.8</td>\n",
       "      <td>0.0</td>\n",
       "      <td>CN</td>\n",
       "      <td>30</td>\n",
       "      <td>18</td>\n",
       "      <td>Female</td>\n",
       "      <td>4.019170</td>\n",
       "    </tr>\n",
       "    <tr>\n",
       "      <th>10004</th>\n",
       "      <td>70.8</td>\n",
       "      <td>0.0</td>\n",
       "      <td>CN</td>\n",
       "      <td>30</td>\n",
       "      <td>18</td>\n",
       "      <td>Female</td>\n",
       "      <td>2.488710</td>\n",
       "    </tr>\n",
       "  </tbody>\n",
       "</table>\n",
       "</div>"
      ],
      "text/plain": [
       "        AGE  CDRSB_bl DX_bl  MMSE_bl  PTEDUCAT PTGENDER  Years_bl\n",
       "10000  55.0       1.0  LMCI       28        14   Female  0.501027\n",
       "10001  55.0       1.0  LMCI       28        14   Female  0.268309\n",
       "10002  55.0       1.0  LMCI       28        14   Female  0.000000\n",
       "10003  70.8       0.0    CN       30        18   Female  4.019170\n",
       "10004  70.8       0.0    CN       30        18   Female  2.488710"
      ]
     },
     "execution_count": 9,
     "metadata": {},
     "output_type": "execute_result"
    }
   ],
   "source": [
    "print(ADNI2_clean_remove_all_missing_processed.shape)\n",
    "ADNI2_clean_remove_all_missing_processed.head()"
   ]
  },
  {
   "cell_type": "code",
   "execution_count": 10,
   "metadata": {
    "collapsed": true
   },
   "outputs": [],
   "source": [
    "#get dummies for categorical\n",
    "ADNI2_clean_remove_all_missing_processed = pd.get_dummies(ADNI2_clean_remove_all_missing_processed,\n",
    "                                         prefix = pred_categ_for_dummies,\n",
    "                                         columns = pred_categ_for_dummies,\n",
    "                                         drop_first = True)"
   ]
  },
  {
   "cell_type": "code",
   "execution_count": 11,
   "metadata": {
    "collapsed": true
   },
   "outputs": [],
   "source": [
    "# split into train and test set \n",
    "np.random.seed(9001)\n",
    "train_percentage = 0.75\n",
    "msk = np.random.rand(len(ADNI2_clean_remove_all_missing_processed)) < train_percentage\n",
    "data_train = ADNI2_clean_remove_all_missing_processed[msk]\n",
    "data_test = ADNI2_clean_remove_all_missing_processed[~msk]"
   ]
  },
  {
   "cell_type": "code",
   "execution_count": 12,
   "metadata": {},
   "outputs": [
    {
     "name": "stdout",
     "output_type": "stream",
     "text": [
      "(5246, 7)\n",
      "(1691, 7)\n"
     ]
    }
   ],
   "source": [
    "# sanity check: shape of datasets\n",
    "print(data_train.shape)\n",
    "print(data_test.shape)"
   ]
  },
  {
   "cell_type": "code",
   "execution_count": 13,
   "metadata": {
    "collapsed": true
   },
   "outputs": [],
   "source": [
    "# standardization \n",
    "def standardize_test_train(df,cols,df2):\n",
    "    result = df.copy()\n",
    "    result2 = df2.copy() \n",
    "    for col in cols:\n",
    "        dfmean = df[col].mean()\n",
    "        dfstd = df[col].std()\n",
    "        result2[col] = (df2[col]-dfmean)/dfstd\n",
    "        result[col] = (df[col]-dfmean)/dfstd\n",
    "    return result, result2\n",
    "\n",
    "standardized_cols = pred_continuous.copy()\n",
    "std_data_train, std_data_test = standardize_test_train(data_train, standardized_cols, data_test)\n",
    "\n",
    "X_train = std_data_train.loc[:, std_data_train.columns != 'DX_bl']\n",
    "y_train = std_data_train['DX_bl']\n",
    "X_test = std_data_test.loc[:, std_data_test.columns != 'DX_bl']\n",
    "y_test = std_data_test['DX_bl']"
   ]
  },
  {
   "cell_type": "code",
   "execution_count": 14,
   "metadata": {},
   "outputs": [
    {
     "name": "stdout",
     "output_type": "stream",
     "text": [
      "(5246, 6)\n",
      "(5246,)\n",
      "(1691, 6)\n",
      "(1691,)\n",
      "Index(['AGE', 'CDRSB_bl', 'MMSE_bl', 'PTEDUCAT', 'Years_bl', 'PTGENDER_Male'], dtype='object')\n",
      "Index(['AGE', 'CDRSB_bl', 'MMSE_bl', 'PTEDUCAT', 'Years_bl', 'PTGENDER_Male'], dtype='object')\n"
     ]
    }
   ],
   "source": [
    "# sanity check: size of the train and test sets\n",
    "print(X_train.shape)\n",
    "print(y_train.shape)\n",
    "print(X_test.shape)\n",
    "print(y_test.shape)\n",
    "\n",
    "print(X_train.columns)\n",
    "print(X_test.columns)\n"
   ]
  },
  {
   "cell_type": "code",
   "execution_count": 15,
   "metadata": {
    "collapsed": true
   },
   "outputs": [],
   "source": [
    "## Logistic regression - prelim model \n",
    "\n",
    "#Models\n",
    "from sklearn import discriminant_analysis\n",
    "from sklearn.neighbors import KNeighborsClassifier as KNN\n",
    "\n",
    "\n",
    "# CV Log Regression over the rest\n",
    "log_ovr = LogisticRegressionCV(Cs=10, cv = 5, multi_class='ovr')\n",
    "log_ovr.fit(X_train, y_train)\n",
    "\n",
    "# CV Log Regression multinomila\n",
    "log_multi = LogisticRegressionCV(Cs=10, cv = 5, multi_class = 'multinomial')\n",
    "log_multi.fit(X_train, y_train)\n",
    "\n",
    "#Linear discriminant analysis\n",
    "LDA = discriminant_analysis.LinearDiscriminantAnalysis()\n",
    "LDA.fit(X_train, y_train)\n",
    "\n",
    "#Quadratic discriminant analysis\n",
    "QDA = discriminant_analysis.QuadraticDiscriminantAnalysis()\n",
    "QDA.fit(X_train, y_train)\n",
    "\n",
    "# CV k-nearest neighbour\n",
    "knn = KNN()\n",
    "param=np.arange(1,20)\n",
    "param_grid = dict(n_neighbors=param)\n",
    "gs = GridSearchCV(KNN(), param_grid, cv=5, n_jobs=2)\n",
    "gs.fit(X_train, y_train)\n",
    "knn = gs.best_estimator_\n",
    "\n",
    "#CV tree classifier\n",
    "n_estimators =np.arange(1, 20)\n",
    "param_grid = dict(max_depth=n_estimators)\n",
    "gs = GridSearchCV(DecisionTreeClassifier(), param_grid, cv=5, n_jobs=2)\n",
    "gs.fit(X_train, y_train)\n",
    "tree = gs.best_estimator_\n",
    "\n",
    "#CV Random forest\n",
    "max_features = np.arange(1,len(X_train.columns))              #number of predictors at ech split\n",
    "max_depth = np.arange(1,20)                                   #max depth\n",
    "rf = RandomForestClassifier(n_estimators=50, max_depth=None)\n",
    "param_grid = dict(max_features=max_features)\n",
    "gs = GridSearchCV(rf, param_grid, cv=5, n_jobs=2)\n",
    "gs.fit(X_train, y_train)\n",
    "rf = gs.best_estimator_\n",
    "\n",
    "#Adaboost\n",
    "max_depth = np.arange(1,5)\n",
    "numb_estimators = [10*x for x in range(1,10)]\n",
    "\n",
    "param_grid = {'base_estimator__max_depth':max_depth,\n",
    "              'n_estimators':numb_estimators}\n",
    "DTC = DecisionTreeClassifier()\n",
    "ada = AdaBoostClassifier(base_estimator = DTC, learning_rate=.05)\n",
    "gs = GridSearchCV(ada, param_grid, cv=5, n_jobs=2)\n",
    "gs.fit(X_train, y_train)\n",
    "ada = gs.best_estimator_"
   ]
  },
  {
   "cell_type": "code",
   "execution_count": 16,
   "metadata": {},
   "outputs": [
    {
     "name": "stdout",
     "output_type": "stream",
     "text": [
      "RandomForestClassifier(bootstrap=True, class_weight=None, criterion='gini',\n",
      "            max_depth=None, max_features=2, max_leaf_nodes=None,\n",
      "            min_impurity_split=1e-07, min_samples_leaf=1,\n",
      "            min_samples_split=2, min_weight_fraction_leaf=0.0,\n",
      "            n_estimators=50, n_jobs=1, oob_score=False, random_state=None,\n",
      "            verbose=0, warm_start=False)\n"
     ]
    }
   ],
   "source": [
    "print(rf)"
   ]
  },
  {
   "cell_type": "code",
   "execution_count": 17,
   "metadata": {},
   "outputs": [
    {
     "name": "stdout",
     "output_type": "stream",
     "text": [
      "logistic OVR train accurcy is 0.724\n",
      "logistic OVR test accurcy is 0.698\n",
      "\n",
      "\n",
      "logistic Multi train accurcy is 0.744\n",
      "logistic Multi test accurcy is 0.720\n",
      "\n",
      "\n",
      "LDA train accurcy is 0.692\n",
      "LDA test accurcy is 0.667\n",
      "\n",
      "\n",
      "QDA train accurcy is 0.750\n",
      "QDA test accurcy is 0.745\n",
      "\n",
      "\n",
      "KNN train accurcy is 0.784\n",
      "KNN test accurcy is 0.764\n",
      "\n",
      "\n",
      "tree train accurcy is 0.829\n",
      "tree test accurcy is 0.769\n",
      "\n",
      "\n",
      "Random forest train accurcy is 1.000\n",
      "Random forest test accurcy is 0.930\n",
      "\n",
      "\n",
      "AdaBoost train accurcy is 0.766\n",
      "AdaBoost test accurcy is 0.740\n",
      "\n",
      "\n"
     ]
    }
   ],
   "source": [
    "models = [log_ovr, log_multi, LDA, QDA, knn, tree, rf, ada]\n",
    "models_name = ['logistic OVR', 'logistic Multi', 'LDA', 'QDA', 'KNN', 'tree', 'Random forest', 'AdaBoost']\n",
    "\n",
    "test_score =[]\n",
    "zipped = zip(models, models_name)\n",
    "for i,r in zipped:\n",
    "    print(r+' train accurcy is %0.3f' % (i.score (X_train,y_train)))\n",
    "    print(r+' test accurcy is %0.3f' % (i.score (X_test,y_test)))\n",
    "    print(\"\\n\")\n",
    "    test_score.append(i.score (X_test,y_test))"
   ]
  },
  {
   "cell_type": "code",
   "execution_count": 20,
   "metadata": {},
   "outputs": [
    {
     "data": {
      "image/png": "[encoded data removed]",
      "text/plain": [
       "<matplotlib.figure.Figure at 0x11cdf3ba8>"
      ]
     },
     "metadata": {},
     "output_type": "display_data"
    }
   ],
   "source": [
    "x_pos = np.arange(len(models_name))\n",
    "fig, ax = plt.subplots(1, 1, figsize=(20, 10))\n",
    "ax.bar(x_pos, test_score, align='center', alpha=0.5)\n",
    "ax.set_xticklabels(models_name, size=10)\n",
    "ax.set_xticks(x_pos)\n",
    "ax.set_ylabel('Accuracy')\n",
    "ax.set_title('Models Test accuracy')\n",
    "plt.setp(ax.xaxis.get_majorticklabels(), rotation=45);"
   ]
  },
  {
   "cell_type": "code",
   "execution_count": null,
   "metadata": {
    "collapsed": true
   },
   "outputs": [],
   "source": []
  },
  {
   "cell_type": "code",
   "execution_count": null,
   "metadata": {
    "collapsed": true
   },
   "outputs": [],
   "source": []
  },
  {
   "cell_type": "code",
   "execution_count": null,
   "metadata": {
    "collapsed": true
   },
   "outputs": [],
   "source": []
  },
  {
   "cell_type": "code",
   "execution_count": null,
   "metadata": {
    "collapsed": true
   },
   "outputs": [],
   "source": []
  },
  {
   "cell_type": "code",
   "execution_count": null,
   "metadata": {
    "collapsed": true
   },
   "outputs": [],
   "source": []
  },
  {
   "cell_type": "code",
   "execution_count": null,
   "metadata": {
    "collapsed": true
   },
   "outputs": [],
   "source": []
  },
  {
   "cell_type": "code",
   "execution_count": null,
   "metadata": {
    "collapsed": true
   },
   "outputs": [],
   "source": []
  },
  {
   "cell_type": "code",
   "execution_count": null,
   "metadata": {
    "collapsed": true
   },
   "outputs": [],
   "source": []
  },
  {
   "cell_type": "code",
   "execution_count": null,
   "metadata": {
    "collapsed": true
   },
   "outputs": [],
   "source": []
  },
  {
   "cell_type": "code",
   "execution_count": null,
   "metadata": {
    "collapsed": true
   },
   "outputs": [],
   "source": []
  },
  {
   "cell_type": "code",
   "execution_count": null,
   "metadata": {
    "collapsed": true
   },
   "outputs": [],
   "source": []
  },
  {
   "cell_type": "code",
   "execution_count": null,
   "metadata": {
    "collapsed": true
   },
   "outputs": [],
   "source": []
  },
  {
   "cell_type": "code",
   "execution_count": null,
   "metadata": {
    "collapsed": true
   },
   "outputs": [],
   "source": []
  },
  {
   "cell_type": "code",
   "execution_count": null,
   "metadata": {
    "collapsed": true
   },
   "outputs": [],
   "source": []
  },
  {
   "cell_type": "code",
   "execution_count": 19,
   "metadata": {
    "scrolled": true
   },
   "outputs": [
    {
     "ename": "NameError",
     "evalue": "name 'logistic_model' is not defined",
     "output_type": "error",
     "traceback": [
      "\u001b[0;31m---------------------------------------------------------------------------\u001b[0m",
      "\u001b[0;31mNameError\u001b[0m                                 Traceback (most recent call last)",
      "\u001b[0;32m<ipython-input-19-ae129bbeda4b>\u001b[0m in \u001b[0;36m<module>\u001b[0;34m()\u001b[0m\n\u001b[0;32m----> 1\u001b[0;31m \u001b[0mlogistic_model\u001b[0m\u001b[0;34m.\u001b[0m\u001b[0mcoef_\u001b[0m\u001b[0;34m\u001b[0m\u001b[0m\n\u001b[0m",
      "\u001b[0;31mNameError\u001b[0m: name 'logistic_model' is not defined"
     ]
    }
   ],
   "source": [
    "logistic_model.coef_"
   ]
  },
  {
   "cell_type": "code",
   "execution_count": null,
   "metadata": {},
   "outputs": [],
   "source": [
    "''' Multiclass Logistic Regression with quadratic terms '''\n",
    "\n",
    "from sklearn.preprocessing import PolynomialFeatures\n",
    "\n",
    "poly = PolynomialFeatures(degree = 2)\n",
    "X_train_poly = poly.fit_transform(X_train)\n",
    "X_test_poly = poly.fit_transform(X_test)\n",
    "\n",
    "logr_ovr_q = LogisticRegressionCV(Cs=10, cv=5, fit_intercept=True, penalty='l2', refit=True, multi_class='ovr')\n",
    "logr_ovr_q.fit(X_train_poly, y_train)\n",
    "y_hat_ovr_train = logr_ovr_q.predict(X_train_poly)\n",
    "\n",
    "logr_m_q = LogisticRegressionCV(Cs=10, cv=5, fit_intercept=True, penalty='l2', refit=True, multi_class='multinomial')\n",
    "logr_m_q.fit(X_train_poly, y_train)\n",
    "\n",
    "print('=== Comparing Accuracy between OvR and Multinomial Logistic Regression with Quadratic Terms ===\\n')\n",
    "print('--- One-vs-Rest Logistic Regression')\n",
    "print('The accuracy on the training set = {0:6f}'.format(accuracy_score(y_train, logr_ovr_q.predict(X_train_poly))))\n",
    "print('The accuracy on the test set = {0:6f}\\n'.format(accuracy_score(y_test, logr_ovr_q.predict(X_test_poly))))\n",
    "print('--- Multinomial Logistic Regression')\n",
    "print('The accuracy on the training set = {0:6f}'.format(accuracy_score(y_train, logr_m_q.predict(X_train_poly))))\n",
    "print('The accuracy on the test set = {0:6f}'.format(accuracy_score(y_test, logr_m_q.predict(X_test_poly))))"
   ]
  },
  {
   "cell_type": "code",
   "execution_count": null,
   "metadata": {},
   "outputs": [],
   "source": [
    "''' calculate the precision (applicable because we have 2 classes)'''\n",
    "from sklearn.metrics import classification_report\n",
    "print(classification_report(y_train, y_hat_ovr_train>0.5))"
   ]
  },
  {
   "cell_type": "markdown",
   "metadata": {},
   "source": [
    "### Compare with Linear Regression fit to only continuous, with ordinal transformation of response variable"
   ]
  },
  {
   "cell_type": "code",
   "execution_count": null,
   "metadata": {},
   "outputs": [],
   "source": [
    "''' first, identify the order of response variable values '''\n",
    "\n",
    "# What we did previously: 3 = LMCI, 1 = CN, 2 = EMCI, 0 = AD, 4= SMC\n",
    "print('original unique response values: ', ADNI2_clean_remove_all_missing_load['DX_bl'].unique())\n",
    "print('encoded values: ',ADNI2_clean_remove_all_missing_processed['DX_bl'].unique())\n",
    "\n",
    "# THE TRUE ORDINAL ORDER OF DX should be: CN, SMC, EMCI, LMCI, AD \n",
    "# (source: https://www.ncbi.nlm.nih.gov/pmc/articles/PMC4643840/pdf/nihms705478.pdf)\n",
    "print('The response value order should really be: 3 = LMCI, 0 = CN, 2 = EMCI, 4 = AD, 1 = SMC')\n",
    "# So we need to change CN from 1 to 0, AD from 0 to 4, SMC from 4 to 1 in y_train and y_test\n",
    "# EMCI and LMCI stay the same\n",
    "\n",
    "print('So we convert y_train and y_test to ordinal values in the next cell.')"
   ]
  },
  {
   "cell_type": "code",
   "execution_count": null,
   "metadata": {
    "collapsed": true
   },
   "outputs": [],
   "source": [
    "''' make copies the training and test datasets for this linear regression model '''\n",
    "\n",
    "# train set\n",
    "X_train_linear_regr = X_train.copy()\n",
    "# drop the predictor for gender, since this isn't continuous\n",
    "X_train_linear_regr = X_train_linear_regr.drop(['PTGENDER_Male'], axis =1)\n",
    "y_train_linear_regr = y_train.copy()\n",
    "\n",
    "# test set\n",
    "X_test_linear_regr = X_test.copy()\n",
    "# drop the predictor for gender\n",
    "X_test_linear_regr = X_test_linear_regr.drop(['PTGENDER_Male'], axis =1)\n",
    "y_test_linear_regr = y_test.copy()\n",
    "\n",
    "\n",
    "''' convert response variable to ordinal ''' \n",
    "\n",
    "# convert y_train to ordinal \n",
    "for row in y_train_linear_regr:\n",
    "    # convert CN from 1 to 0\n",
    "    if row == 1:\n",
    "        row = 0\n",
    "    # convert AD from 0 to 4\n",
    "    if row == 0:\n",
    "        row = 4\n",
    "    # convert SMC from 4 to 1\n",
    "    if row == 4:\n",
    "        row = 1\n",
    "        \n",
    "# convert y_test to ordinal \n",
    "for row in y_test_linear_regr:\n",
    "    # convert CN from 1 to 0\n",
    "    if row == 1:\n",
    "        row = 0\n",
    "    # convert AD from 0 to 4\n",
    "    if row == 0:\n",
    "        row = 4\n",
    "    # convert SMC from 4 to 1\n",
    "    if row == 4:\n",
    "        row = 1"
   ]
  },
  {
   "cell_type": "code",
   "execution_count": null,
   "metadata": {},
   "outputs": [],
   "source": [
    "import statsmodels.api as sm\n",
    "from statsmodels.api import OLS\n",
    "\n",
    "# add column to house intercept\n",
    "X_train_linreg_wcons = sm.add_constant(X_train_linear_regr)\n",
    "X_test_linreg_wcons = sm.add_constant(X_test_linear_regr)\n",
    "\n",
    "# fit\n",
    "ols = OLS(endog = y_train_linear_regr, exog = X_train_linreg_wcons).fit()\n",
    "ols.summary()"
   ]
  },
  {
   "cell_type": "code",
   "execution_count": null,
   "metadata": {},
   "outputs": [],
   "source": [
    "# predictions\n",
    "y_hat_ols_train = ols.predict(X_train_linreg_wcons)\n",
    "y_hat_ols_test = ols.predict(X_test_linreg_wcons)\n",
    "\n",
    "# accuracy\n",
    "print(\"ols single predictor accuracy in train = %0.3f\" % accuracy_score(y_train_linear_regr, y_hat_ols_train>0.5))\n",
    "print(\"ols single predictor accuracy in test = %0.3f\\n\" % accuracy_score(y_test_linear_regr, y_hat_ols_test>0.5))\n",
    "\n",
    "# classification report\n",
    "print('classification report:\\n\\n', classification_report(y_train, y_hat_ols_train >0.5))"
   ]
  },
  {
   "cell_type": "code",
   "execution_count": null,
   "metadata": {
    "collapsed": true
   },
   "outputs": [],
   "source": []
  },
  {
   "cell_type": "code",
   "execution_count": null,
   "metadata": {
    "collapsed": true
   },
   "outputs": [],
   "source": []
  },
  {
   "cell_type": "code",
   "execution_count": null,
   "metadata": {
    "collapsed": true
   },
   "outputs": [],
   "source": []
  },
  {
   "cell_type": "code",
   "execution_count": null,
   "metadata": {
    "collapsed": true
   },
   "outputs": [],
   "source": []
  },
  {
   "cell_type": "code",
   "execution_count": null,
   "metadata": {
    "collapsed": true
   },
   "outputs": [],
   "source": []
  },
  {
   "cell_type": "code",
   "execution_count": null,
   "metadata": {
    "collapsed": true
   },
   "outputs": [],
   "source": []
  }
 ],
 "metadata": {
  "kernelspec": {
   "display_name": "Python 3",
   "language": "python",
   "name": "python3"
  },
  "language_info": {
   "codemirror_mode": {
    "name": "ipython",
    "version": 3
   },
   "file_extension": ".py",
   "mimetype": "text/x-python",
   "name": "python",
   "nbconvert_exporter": "python",
   "pygments_lexer": "ipython3",
   "version": "3.6.1"
  }
 },
 "nbformat": 4,
 "nbformat_minor": 2
}
