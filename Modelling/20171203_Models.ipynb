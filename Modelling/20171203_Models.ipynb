{
 "cells": [
  {
   "cell_type": "code",
   "execution_count": 16,
   "metadata": {
    "collapsed": true
   },
   "outputs": [],
   "source": [
    "import numpy as np\n",
    "import pandas as pd\n",
    "import matplotlib\n",
    "import matplotlib.pyplot as plt\n",
    "import sklearn.metrics as metrics\n",
    "from sklearn.model_selection import cross_val_score\n",
    "\n",
    "from sklearn.linear_model import LogisticRegression\n",
    "\n",
    "from sklearn import tree\n",
    "from sklearn.tree import DecisionTreeClassifier\n",
    "from sklearn.ensemble import RandomForestClassifier\n",
    "from sklearn.ensemble import AdaBoostClassifier\n",
    "from sklearn.linear_model import LogisticRegressionCV\n",
    "%matplotlib inline\n",
    "\n",
    "from sklearn.tree import DecisionTreeRegressor\n",
    "from sklearn.model_selection import cross_val_score\n",
    "\n",
    "from sklearn.metrics import accuracy_score\n",
    "from sklearn.model_selection import KFold\n",
    "from sklearn.grid_search import GridSearchCV\n",
    "\n",
    "from pprint import pprint \n",
    "\n",
    "from sklearn.ensemble import BaggingClassifier\n",
    "from sklearn import model_selection\n",
    "from random import seed\n",
    "from sklearn.model_selection import cross_val_predict\n",
    "\n",
    "from sklearn.ensemble import RandomForestClassifier\n",
    "from itertools import product\n",
    "from collections import OrderedDict\n",
    "from itertools import product\n",
    "\n",
    "from sklearn import model_selection\n",
    "from sklearn.svm import SVC\n",
    "from sklearn import neighbors\n",
    "from sklearn.ensemble import VotingClassifier\n",
    "\n",
    "from sklearn.model_selection import train_test_split\n",
    "from __future__ import print_function # For Python 2 / 3 compatability\n",
    "from sklearn.metrics import confusion_matrix\n",
    "import itertools\n",
    "\n",
    "from sklearn.decomposition import PCA\n",
    "\n",
    "from sklearn import discriminant_analysis\n",
    "from sklearn.neighbors import KNeighborsClassifier as KNN\n",
    "\n",
    "import warnings\n",
    "warnings.filterwarnings(\"ignore\")"
   ]
  },
  {
   "cell_type": "markdown",
   "metadata": {},
   "source": [
    "#### Load prepared dataset"
   ]
  },
  {
   "cell_type": "code",
   "execution_count": 17,
   "metadata": {},
   "outputs": [
    {
     "name": "stdout",
     "output_type": "stream",
     "text": [
      "ADNI2_impute shape:  (497, 58)\n",
      "ADNI2 impute train shape:  (575, 53)\n",
      "ADNI2 impute shape:  (196, 53)\n"
     ]
    }
   ],
   "source": [
    "ADNI2_remove = pd.read_csv('ADNI2_bl_remove_all_missing.csv')\n",
    "print(\"ADNI2_impute shape: \", ADNI2_remove.shape)\n",
    "\n",
    "ADNI2_impute_train = pd.read_csv('ADNI2_bl_impute_train.csv')\n",
    "print(\"ADNI2 impute train shape: \", ADNI2_impute_train.shape)\n",
    "\n",
    "ADNI2_impute_test = pd.read_csv('ADNI2_bl_impute_test.csv')\n",
    "print(\"ADNI2 impute shape: \", ADNI2_impute_test.shape)"
   ]
  },
  {
   "cell_type": "code",
   "execution_count": 18,
   "metadata": {},
   "outputs": [
    {
     "data": {
      "text/plain": [
       "Index(['AGE', 'PTEDUCAT', 'CDRSB_bl', 'ADAS11_bl', 'ADAS13_bl', 'MMSE_bl',\n",
       "       'RAVLT_immediate_bl', 'RAVLT_learning_bl', 'RAVLT_forgetting_bl',\n",
       "       'RAVLT_perc_forgetting_bl', 'FAQ_bl', 'Ventricles_bl', 'Hippocampus_bl',\n",
       "       'WholeBrain_bl', 'Entorhinal_bl', 'Fusiform_bl', 'MidTemp_bl', 'ICV_bl',\n",
       "       'MOCA_bl', 'EcogPtMem_bl', 'EcogPtLang_bl', 'EcogPtVisspat_bl',\n",
       "       'EcogPtPlan_bl', 'EcogPtOrgan_bl', 'EcogPtDivatt_bl', 'EcogPtTotal_bl',\n",
       "       'EcogSPMem_bl', 'EcogSPLang_bl', 'EcogSPVisspat_bl', 'EcogSPPlan_bl',\n",
       "       'EcogSPOrgan_bl', 'EcogSPDivatt_bl', 'EcogSPTotal_bl', 'FDG_bl',\n",
       "       'AV45_bl', 'PTETHCAT_Hisp/Latino', 'PTETHCAT_Not Hisp/Latino',\n",
       "       'PTRACCAT_Am Indian/Alaskan', 'PTRACCAT_Asian', 'PTRACCAT_Black',\n",
       "       'PTRACCAT_Hawaiian/Other PI', 'PTRACCAT_More than one',\n",
       "       'PTRACCAT_White', 'PTMARRY_Divorced', 'PTMARRY_Married',\n",
       "       'PTMARRY_Never married', 'PTMARRY_Widowed', 'APOE4_0.0', 'APOE4_1.0',\n",
       "       'APOE4_2.0', 'PTGENDER_Female', 'PTGENDER_Male', 'DX_bl'],\n",
       "      dtype='object')"
      ]
     },
     "execution_count": 18,
     "metadata": {},
     "output_type": "execute_result"
    }
   ],
   "source": [
    "ADNI2_impute_train.columns"
   ]
  },
  {
   "cell_type": "code",
   "execution_count": 19,
   "metadata": {},
   "outputs": [
    {
     "data": {
      "text/plain": [
       "Index(['RID', 'PTID', 'VISCODE', 'COLPROT', 'DX_bl', 'AGE', 'PTEDUCAT', 'FDG',\n",
       "       'CDRSB_bl', 'ADAS11_bl', 'ADAS13_bl', 'MMSE_bl', 'RAVLT_immediate_bl',\n",
       "       'RAVLT_learning_bl', 'RAVLT_forgetting_bl', 'RAVLT_perc_forgetting_bl',\n",
       "       'FAQ_bl', 'Ventricles_bl', 'Hippocampus_bl', 'WholeBrain_bl',\n",
       "       'Entorhinal_bl', 'Fusiform_bl', 'MidTemp_bl', 'ICV_bl', 'MOCA_bl',\n",
       "       'EcogPtMem_bl', 'EcogPtLang_bl', 'EcogPtVisspat_bl', 'EcogPtPlan_bl',\n",
       "       'EcogPtOrgan_bl', 'EcogPtDivatt_bl', 'EcogPtTotal_bl', 'EcogSPMem_bl',\n",
       "       'EcogSPLang_bl', 'EcogSPVisspat_bl', 'EcogSPPlan_bl', 'EcogSPOrgan_bl',\n",
       "       'EcogSPDivatt_bl', 'EcogSPTotal_bl', 'FDG_bl', 'AV45_bl',\n",
       "       'PTETHCAT_Hisp/Latino', 'PTETHCAT_Not Hisp/Latino',\n",
       "       'PTRACCAT_Am Indian/Alaskan', 'PTRACCAT_Asian', 'PTRACCAT_Black',\n",
       "       'PTRACCAT_Hawaiian/Other PI', 'PTRACCAT_More than one',\n",
       "       'PTRACCAT_White', 'PTMARRY_Divorced', 'PTMARRY_Married',\n",
       "       'PTMARRY_Never married', 'PTMARRY_Widowed', 'APOE4_0.0', 'APOE4_1.0',\n",
       "       'APOE4_2.0', 'PTGENDER_Female', 'PTGENDER_Male'],\n",
       "      dtype='object')"
      ]
     },
     "execution_count": 19,
     "metadata": {},
     "output_type": "execute_result"
    }
   ],
   "source": [
    "ADNI2_remove.columns"
   ]
  },
  {
   "cell_type": "markdown",
   "metadata": {},
   "source": [
    "#### Narrow down to baseline-only data, and prepare X_train, y_train, X_test, and y_test"
   ]
  },
  {
   "cell_type": "code",
   "execution_count": 20,
   "metadata": {},
   "outputs": [],
   "source": [
    "#DROP_COL_IMPUTE = ['RID', 'PTID', 'VISCODE', 'COLPROT']\n",
    "\n",
    "\n",
    "DROP_COL_REMOVE = ['PTID', 'RID', 'VISCODE', 'COLPROT']\n",
    "\n",
    "df_remove = ADNI2_remove.drop(DROP_COL_REMOVE, axis=1)\n",
    "\n",
    "\n",
    "#df_impute = ADNI2_impute.drop(DROP_COL_IMPUTE, axis=1)\n"
   ]
  },
  {
   "cell_type": "code",
   "execution_count": 21,
   "metadata": {},
   "outputs": [
    {
     "name": "stdout",
     "output_type": "stream",
     "text": [
      "For REMOVE:\n",
      "(360, 53)\n",
      "(360,)\n",
      "(137, 53)\n",
      "(137,)\n",
      "\n",
      "For IMPUTE:\n",
      "(575, 52)\n",
      "(575,)\n",
      "(196, 52)\n",
      "(196,)\n"
     ]
    }
   ],
   "source": [
    "np.random.seed(9001)\n",
    "train_percentage = 0.75\n",
    "msk = np.random.rand(len(df_remove)) < train_percentage\n",
    "remove_train = df_remove[msk]\n",
    "remove_test  = df_remove[~msk]\n",
    "\n",
    "\n",
    "X_train_remove = remove_train.drop(\"DX_bl\", axis=1)\n",
    "y_train_remove = remove_train[\"DX_bl\"]\n",
    "X_test_remove  = remove_test.drop(\"DX_bl\", axis=1)\n",
    "y_test_remove  = remove_test[\"DX_bl\"]\n",
    "\n",
    "X_train_impute = ADNI2_impute_train.drop(\"DX_bl\", axis=1)\n",
    "y_train_impute = ADNI2_impute_train[\"DX_bl\"]\n",
    "X_test_impute  = ADNI2_impute_test.drop(\"DX_bl\", axis=1)\n",
    "y_test_impute  = ADNI2_impute_test[\"DX_bl\"]\n",
    "\n",
    "print(\"For REMOVE:\")\n",
    "print(X_train_remove.shape)\n",
    "print(y_train_remove.shape)\n",
    "print(X_test_remove.shape)\n",
    "print(y_test_remove.shape)\n",
    "\n",
    "print(\"\\nFor IMPUTE:\")\n",
    "print(X_train_impute.shape)\n",
    "print(y_train_impute.shape)\n",
    "print(X_test_impute.shape)\n",
    "print(y_test_impute.shape)"
   ]
  },
  {
   "cell_type": "code",
   "execution_count": 22,
   "metadata": {},
   "outputs": [
    {
     "name": "stdout",
     "output_type": "stream",
     "text": [
      "0\n",
      "0\n",
      "0\n",
      "0\n",
      "0\n",
      "0\n",
      "0\n",
      "0\n"
     ]
    }
   ],
   "source": [
    "print(np.sum(X_train_impute.columns.isnull()))\n",
    "print(np.sum(X_test_impute.columns.isnull()))\n",
    "print(np.sum(y_train_impute.isnull()))\n",
    "print(np.sum(y_test_impute.isnull()))\n",
    "print(np.sum(X_train_remove.columns.isnull()))\n",
    "print(np.sum(X_test_remove.columns.isnull()))\n",
    "print(np.sum(y_train_remove.isnull()))\n",
    "print(np.sum(y_test_remove.isnull()))"
   ]
  },
  {
   "cell_type": "markdown",
   "metadata": {},
   "source": [
    "#### Running models on the remove-all-nan dataset"
   ]
  },
  {
   "cell_type": "code",
   "execution_count": 23,
   "metadata": {},
   "outputs": [
    {
     "name": "stdout",
     "output_type": "stream",
     "text": [
      "The number of principal components that contribute 90% of the variance: 1\n"
     ]
    },
    {
     "data": {
      "text/plain": [
       "SVC(C=1.0, cache_size=200, class_weight=None, coef0=0.0,\n",
       "  decision_function_shape='ovr', degree=3, gamma='auto', kernel='sigmoid',\n",
       "  max_iter=-1, probability=False, random_state=None, shrinking=True,\n",
       "  tol=0.001, verbose=False)"
      ]
     },
     "execution_count": 23,
     "metadata": {},
     "output_type": "execute_result"
    }
   ],
   "source": [
    "# CV Log Regression over the rest\n",
    "log_ovr_remove = LogisticRegressionCV(Cs=10, cv = 5, multi_class='ovr')\n",
    "log_ovr_remove.fit(X_train_remove, y_train_remove)\n",
    "\n",
    "# CV Log Regression multinomila\n",
    "log_multi_remove = LogisticRegressionCV(Cs=10, cv = 5, multi_class = 'multinomial')\n",
    "log_multi_remove.fit(X_train_remove, y_train_remove)\n",
    "\n",
    "#Linear discriminant analysis\n",
    "LDA_remove = discriminant_analysis.LinearDiscriminantAnalysis()\n",
    "LDA_remove.fit(X_train_remove, y_train_remove)\n",
    "\n",
    "#Quadratic discriminant analysis\n",
    "QDA_remove = discriminant_analysis.QuadraticDiscriminantAnalysis()\n",
    "QDA_remove.fit(X_train_remove, y_train_remove)\n",
    "\n",
    "# CV k-nearest neighbour\n",
    "knn = KNN()\n",
    "param=np.arange(1,20)\n",
    "param_grid = dict(n_neighbors=param)\n",
    "gs = GridSearchCV(KNN(), param_grid, cv=5, n_jobs=2)\n",
    "gs.fit(X_train_remove, y_train_remove)\n",
    "knn_remove = gs.best_estimator_\n",
    "\n",
    "#CV tree classifier\n",
    "n_estimators =np.arange(1, 20)\n",
    "param_grid = dict(max_depth=n_estimators)\n",
    "gs = GridSearchCV(DecisionTreeClassifier(), param_grid, cv=5, n_jobs=2)\n",
    "gs.fit(X_train_remove, y_train_remove)\n",
    "tree_remove = gs.best_estimator_\n",
    "\n",
    "#CV Random forest\n",
    "max_features = np.arange(1,len(X_train_remove.columns))              #number of predictors at ech split\n",
    "max_depth = np.arange(1,20)                                   #max depth\n",
    "rf = RandomForestClassifier(n_estimators=50, max_depth=None)\n",
    "param_grid = dict(max_features=max_features)\n",
    "gs = GridSearchCV(rf, param_grid, cv=5, n_jobs=-1)\n",
    "gs.fit(X_train_remove, y_train_remove)\n",
    "rf_remove = gs.best_estimator_\n",
    "\n",
    "#Adaboost\n",
    "max_depth = np.arange(1,5)\n",
    "numb_estimators = [10*x for x in range(1,10)]\n",
    "\n",
    "param_grid = {'base_estimator__max_depth':max_depth,\n",
    "              'n_estimators':numb_estimators}\n",
    "DTC = DecisionTreeClassifier()\n",
    "ada = AdaBoostClassifier(base_estimator = DTC, learning_rate=.05)\n",
    "gs = GridSearchCV(ada, param_grid, cv=5, n_jobs=2)\n",
    "gs.fit(X_train_remove, y_train_remove)\n",
    "ada_remove = gs.best_estimator_\n",
    "\n",
    "# PCA\n",
    "pca = PCA(n_components = X_train_remove.shape[1])\n",
    "pca.fit(X_train_remove)\n",
    "X_train_pca = pca.transform(X_train_remove)\n",
    "var_ratio = pca.explained_variance_ratio_\n",
    "pca_dict = {}\n",
    "var_sum = 0\n",
    "pca_counter = 0\n",
    "for i in range(len(var_ratio)): \n",
    "    if var_sum < 0.9:\n",
    "        pca_dict[('pc %d'%i)] = X_train_pca[:, i] \n",
    "        var_sum = var_sum + var_ratio[i] \n",
    "        pca_counter = pca_counter + 1\n",
    "dfpca = pd.DataFrame(data = pca_dict)\n",
    "print('The number of principal components that contribute 90% of the variance: {}'.format(pca_counter))\n",
    "\n",
    "X_train_remove_pca = dfpca.values\n",
    "log_ovr_remove_pca = LogisticRegressionCV(Cs=10, cv = 5, multi_class='ovr')\n",
    "log_ovr_remove_pca.fit(X_train_remove_pca, y_train_remove)\n",
    "\n",
    "\n",
    "# SVM\n",
    "# Linear\n",
    "sv_remove_linear = SVC(kernel='linear', decision_function_shape='ovr')\n",
    "sv_remove_linear.fit(X_train_remove, y_train_remove)\n",
    "\n",
    "# # Poly\n",
    "# sv_remove_poly = SVC(kernel='poly', degree=2, decision_function_shape='ovr')\n",
    "# sv_remove_poly.fit(X_train_remove, y_train_remove)\n",
    "\n",
    "# RBF\n",
    "sv_remove_rbf = SVC(kernel='rbf', decision_function_shape='ovr')\n",
    "sv_remove_rbf.fit(X_train_remove, y_train_remove)\n",
    "\n",
    "# Sigmoid\n",
    "sv_remove_sig = SVC(kernel='sigmoid', decision_function_shape='ovr')\n",
    "sv_remove_sig.fit(X_train_remove, y_train_remove)"
   ]
  },
  {
   "cell_type": "code",
   "execution_count": 24,
   "metadata": {},
   "outputs": [
    {
     "name": "stdout",
     "output_type": "stream",
     "text": [
      "For models running on remove-all-nan dataset:\n",
      "=============================================\n",
      "logistic OVR train accurcy is 0.433\n",
      "logistic OVR test accurcy is 0.350\n",
      "\n",
      "\n",
      "logistic Multi train accurcy is 0.422\n",
      "logistic Multi test accurcy is 0.307\n",
      "\n",
      "\n",
      "LDA train accurcy is 0.767\n",
      "LDA test accurcy is 0.591\n",
      "\n",
      "\n",
      "QDA train accurcy is 0.467\n",
      "QDA test accurcy is 0.292\n",
      "\n",
      "\n",
      "KNN train accurcy is 0.408\n",
      "KNN test accurcy is 0.270\n",
      "\n",
      "\n",
      "tree train accurcy is 0.736\n",
      "tree test accurcy is 0.635\n",
      "\n",
      "\n",
      "Random forest train accurcy is 1.000\n",
      "Random forest test accurcy is 0.635\n",
      "\n",
      "\n",
      "AdaBoost train accurcy is 0.686\n",
      "AdaBoost test accurcy is 0.577\n",
      "\n",
      "\n",
      "Linear SVM train accurcy is 0.431\n",
      "Linear SVM test accurcy is 0.307\n",
      "\n",
      "\n",
      "RBF SVM train accurcy is 1.000\n",
      "RBF SVM test accurcy is 0.241\n",
      "\n",
      "\n",
      "Sigmoid SVM train accurcy is 0.292\n",
      "Sigmoid SVM test accurcy is 0.241\n",
      "\n",
      "\n",
      "PCA (3) train accurcy is 0.267\n",
      "PCA (3) test accurcy is 0.219\n",
      "\n",
      "\n"
     ]
    }
   ],
   "source": [
    "models_remove = [log_ovr_remove, log_multi_remove, LDA_remove, QDA_remove, knn_remove,\n",
    "                 tree_remove, rf_remove, ada_remove, sv_remove_linear, \n",
    "                 #sv_remove_poly, \n",
    "                 sv_remove_rbf, \n",
    "                 sv_remove_sig, log_ovr_remove_pca]\n",
    "models_name = ['logistic OVR', 'logistic Multi', 'LDA', 'QDA', 'KNN', 'tree', 'Random forest', 'AdaBoost',\n",
    "               'Linear SVM', \n",
    "               #'Polynomial SVM (Degree = 2)',\n",
    "               'RBF SVM', 'Sigmoid SVM', 'PCA (3)']\n",
    "\n",
    "test_score_remove =[]\n",
    "train_score_remove =[]\n",
    "zipped = zip(models_remove, models_name)\n",
    "print(\"For models running on remove-all-nan dataset:\")\n",
    "print(\"=============================================\")\n",
    "for i,r in zipped:\n",
    "    if r != 'PCA (3)':\n",
    "        print(r+' train accurcy is %0.3f' % (i.score (X_train_remove,y_train_remove)))\n",
    "        print(r+' test accurcy is %0.3f' % (i.score (X_test_remove,y_test_remove)))\n",
    "        print(\"\\n\")\n",
    "        test_score_remove.append(i.score (X_test_remove,y_test_remove))\n",
    "        train_score_remove.append(i.score (X_train_remove,y_train_remove))\n",
    "    else:\n",
    "        X_test_pca = pca.transform(X_test_remove)\n",
    "        X_test_remove_pca = X_test_pca[:, 0:pca_counter]\n",
    "        print(r+' train accurcy is %0.3f' % (i.score (X_train_remove_pca,y_train_remove)))\n",
    "        print(r+' test accurcy is %0.3f' % (i.score (X_test_remove_pca,y_test_remove)))\n",
    "        print(\"\\n\")\n",
    "        #test_score_remove.append(i.score (X_train_remove_pca,y_test_remove))"
   ]
  },
  {
   "cell_type": "code",
   "execution_count": 104,
   "metadata": {},
   "outputs": [
    {
     "data": {
      "image/png": "[encoded data removed]",
      "text/plain": [
       "<matplotlib.figure.Figure at 0x11a4205c0>"
      ]
     },
     "metadata": {},
     "output_type": "display_data"
    }
   ],
   "source": [
    "x_pos = np.arange(len(models_name)-1)\n",
    "width = 0.4\n",
    "fig, ax = plt.subplots(1, 1, figsize=(20, 10))\n",
    "ax.bar(x_pos, train_score_remove, width, alpha=0.5, label=\"Train\")\n",
    "ax.bar([p + width for p in x_pos], test_score_remove, width, alpha=0.5, label=\"Test\")\n",
    "ax.set_xticklabels(models_name, size=10)\n",
    "ax.set_xticks(x_pos+width/2)\n",
    "ax.set_ylabel('Accuracy')\n",
    "ax.set_title('Models Accuracy')\n",
    "plt.setp(ax.xaxis.get_majorticklabels(), rotation=45)\n",
    "ax.legend();"
   ]
  },
  {
   "cell_type": "markdown",
   "metadata": {},
   "source": [
    "#### Running models on the imputed dataset"
   ]
  },
  {
   "cell_type": "code",
   "execution_count": 25,
   "metadata": {},
   "outputs": [
    {
     "name": "stdout",
     "output_type": "stream",
     "text": [
      "SVM\n"
     ]
    },
    {
     "data": {
      "text/plain": [
       "SVC(C=1.0, cache_size=200, class_weight=None, coef0=0.0,\n",
       "  decision_function_shape='ovr', degree=3, gamma='auto', kernel='sigmoid',\n",
       "  max_iter=-1, probability=False, random_state=None, shrinking=True,\n",
       "  tol=0.001, verbose=False)"
      ]
     },
     "execution_count": 25,
     "metadata": {},
     "output_type": "execute_result"
    }
   ],
   "source": [
    "# CV Log Regression over the rest\n",
    "log_ovr_impute = LogisticRegressionCV(Cs=10, cv = 5, multi_class='ovr')\n",
    "log_ovr_impute.fit(X_train_impute, y_train_impute)\n",
    "\n",
    "# CV Log Regression multinomila\n",
    "log_multi_impute = LogisticRegressionCV(Cs=10, cv = 5, multi_class = 'multinomial')\n",
    "log_multi_impute.fit(X_train_impute, y_train_impute)\n",
    "\n",
    "#Linear discriminant analysis\n",
    "LDA_impute = discriminant_analysis.LinearDiscriminantAnalysis()\n",
    "LDA_impute.fit(X_train_impute, y_train_impute)\n",
    "\n",
    "#Quadratic discriminant analysis\n",
    "QDA_impute = discriminant_analysis.QuadraticDiscriminantAnalysis()\n",
    "QDA_impute.fit(X_train_impute, y_train_impute)\n",
    "\n",
    "# CV k-nearest neighbour\n",
    "knn = KNN()\n",
    "param=np.arange(1,20)\n",
    "param_grid = dict(n_neighbors=param)\n",
    "gs = GridSearchCV(KNN(), param_grid, cv=5, n_jobs=2)\n",
    "gs.fit(X_train_impute, y_train_impute)\n",
    "knn_impute = gs.best_estimator_\n",
    "\n",
    "#CV tree classifier\n",
    "n_estimators =np.arange(1, 20)\n",
    "param_grid = dict(max_depth=n_estimators)\n",
    "gs = GridSearchCV(DecisionTreeClassifier(), param_grid, cv=5, n_jobs=2)\n",
    "gs.fit(X_train_impute, y_train_impute)\n",
    "tree_impute = gs.best_estimator_\n",
    "\n",
    "#CV Random forest\n",
    "max_features = np.arange(1,len(X_train_impute.columns))              #number of predictors at ech split\n",
    "max_depth = np.arange(1,20)                                   #max depth\n",
    "rf = RandomForestClassifier(n_estimators=50, max_depth=None)\n",
    "param_grid = dict(max_features=max_features)\n",
    "gs = GridSearchCV(rf, param_grid, cv=5, n_jobs=2)\n",
    "gs.fit(X_train_impute, y_train_impute)\n",
    "rf_impute = gs.best_estimator_\n",
    "\n",
    "#Adaboost\n",
    "max_depth = np.arange(1,5)\n",
    "numb_estimators = [10*x for x in range(1,10)]\n",
    "\n",
    "param_grid = {'base_estimator__max_depth':max_depth,\n",
    "              'n_estimators':numb_estimators}\n",
    "DTC = DecisionTreeClassifier()\n",
    "ada = AdaBoostClassifier(base_estimator = DTC, learning_rate=.05)\n",
    "gs = GridSearchCV(ada, param_grid, cv=5, n_jobs=2)\n",
    "gs.fit(X_train_impute, y_train_impute)\n",
    "ada_impute = gs.best_estimator_\n",
    "\n",
    "print('SVM')\n",
    "# SVM\n",
    "# Linear\n",
    "sv_impute_linear = SVC(kernel='linear', decision_function_shape='ovr')\n",
    "sv_impute_linear.fit(X_train_impute, y_train_impute)\n",
    "'''\n",
    "# Poly\n",
    "sv_impute_poly = SVC(kernel='poly', degree=2, decision_function_shape='ovr')\n",
    "sv_impute_poly.fit(X_train_impute, y_train_impute)\n",
    "'''\n",
    "# RBF\n",
    "sv_impute_rbf = SVC(kernel='rbf', decision_function_shape='ovr')\n",
    "sv_impute_rbf.fit(X_train_impute, y_train_impute)\n",
    "\n",
    "# Sigmoid\n",
    "sv_impute_sig = SVC(kernel='sigmoid', decision_function_shape='ovr')\n",
    "sv_impute_sig.fit(X_train_impute, y_train_impute)"
   ]
  },
  {
   "cell_type": "code",
   "execution_count": 27,
   "metadata": {},
   "outputs": [
    {
     "name": "stdout",
     "output_type": "stream",
     "text": [
      "For models running on imputed dataset:\n",
      "=============================================\n",
      "logistic OVR train accurcy is 0.409\n",
      "logistic OVR test accurcy is 0.403\n",
      "\n",
      "\n",
      "logistic Multi train accurcy is 0.374\n",
      "logistic Multi test accurcy is 0.423\n",
      "\n",
      "\n",
      "LDA train accurcy is 0.720\n",
      "LDA test accurcy is 0.617\n",
      "\n",
      "\n",
      "QDA train accurcy is 0.470\n",
      "QDA test accurcy is 0.352\n",
      "\n",
      "\n",
      "KNN train accurcy is 0.443\n",
      "KNN test accurcy is 0.276\n",
      "\n",
      "\n",
      "tree train accurcy is 0.758\n",
      "tree test accurcy is 0.602\n",
      "\n",
      "\n",
      "Random forest train accurcy is 1.000\n",
      "Random forest test accurcy is 0.622\n",
      "\n",
      "\n",
      "AdaBoost train accurcy is 0.767\n",
      "AdaBoost test accurcy is 0.602\n",
      "\n",
      "\n",
      "Linear SVM train accurcy is 0.395\n",
      "Linear SVM test accurcy is 0.388\n",
      "\n",
      "\n",
      "RBF SVM train accurcy is 1.000\n",
      "RBF SVM test accurcy is 0.219\n",
      "\n",
      "\n",
      "Sigmoid SVM train accurcy is 0.247\n",
      "Sigmoid SVM test accurcy is 0.219\n",
      "\n",
      "\n"
     ]
    }
   ],
   "source": [
    "models_impute = [log_ovr_impute, log_multi_impute, LDA_impute, QDA_impute, knn_impute,\\\n",
    "          tree_impute, rf_impute, ada_impute, sv_impute_linear, sv_impute_rbf, sv_impute_sig]\n",
    "models_name = ['logistic OVR', 'logistic Multi', 'LDA', 'QDA', 'KNN', 'tree', 'Random forest', 'AdaBoost',\n",
    "               'Linear SVM', 'RBF SVM', 'Sigmoid SVM']\n",
    "\n",
    "test_score_impute =[]\n",
    "train_score_impute =[]\n",
    "zipped = zip(models_impute, models_name)\n",
    "print(\"For models running on imputed dataset:\")\n",
    "print(\"=============================================\")\n",
    "for i,r in zipped:\n",
    "    print(r+' train accurcy is %0.3f' % (i.score (X_train_impute,y_train_impute)))\n",
    "    print(r+' test accurcy is %0.3f' % (i.score (X_test_impute,y_test_impute)))\n",
    "    print(\"\\n\")\n",
    "    test_score_impute.append(i.score (X_test_impute,y_test_impute))\n",
    "    train_score_impute.append(i.score (X_train_impute,y_train_impute))"
   ]
  },
  {
   "cell_type": "code",
   "execution_count": 28,
   "metadata": {},
   "outputs": [
    {
     "data": {
      "image/png": "[encoded data removed]",
      "text/plain": [
       "<matplotlib.figure.Figure at 0x1101393c8>"
      ]
     },
     "metadata": {},
     "output_type": "display_data"
    }
   ],
   "source": [
    "x_pos = np.arange(len(models_name))\n",
    "width = 0.4\n",
    "fig, ax = plt.subplots(1, 1, figsize=(20, 10))\n",
    "ax.bar(x_pos, train_score_impute, width, alpha=0.5, label=\"Train\")\n",
    "ax.bar([p + width for p in x_pos], test_score_impute, width, alpha=0.5, label=\"Test\")\n",
    "ax.set_xticklabels(models_name, size=10)\n",
    "ax.set_xticks(x_pos+width/2)\n",
    "ax.set_ylabel('Accuracy')\n",
    "ax.set_title('Models Accuracy')\n",
    "plt.setp(ax.xaxis.get_majorticklabels(), rotation=45)\n",
    "ax.legend();"
   ]
  },
  {
   "cell_type": "markdown",
   "metadata": {
    "collapsed": true
   },
   "source": [
    "#### Bootstrapping to determine predictor significance"
   ]
  },
  {
   "cell_type": "code",
   "execution_count": 8,
   "metadata": {},
   "outputs": [
    {
     "name": "stdout",
     "output_type": "stream",
     "text": [
      "0 1 2 3 4 5 6 7 8 9 10 11 12 13 14 15 16 17 18 19 20 21 22 23 24 25 26 27 28 29 30 31 32 33 34 35 36 37 38 39 40 41 42 43 44 45 46 47 48 49 50 51 52 53 54 55 56 57 58 59 60 61 62 63 64 65 66 67 68 69 70 71 72 73 74 75 76 77 78 79 80 81 82 83 84 85 86 87 88 89 90 91 92 93 94 95 96 97 98 99 "
     ]
    }
   ],
   "source": [
    "# Bootstrapping to examine significance of various predictors\n",
    "\n",
    "ITER = 100\n",
    "CLASS_NUM = 0 # Examining significnace of predictors for which class\n",
    "ci_boot = np.zeros((X_train_impute.shape[1],100))\n",
    "\n",
    "for i in range(ITER):\n",
    "    # sample with replacement from X_train\n",
    "    boot_rows = np.random.choice(range(X_train_impute.shape[0]), size=X_train_impute.shape[0], replace=True)\n",
    "    X_train_boot = X_train_impute.values[boot_rows]\n",
    "    y_train_boot = y_train_impute.values[boot_rows]\n",
    "\n",
    "    # fit\n",
    "    lr_boot = LogisticRegression(C=100000, fit_intercept=False)\n",
    "    lr_boot.fit(X_train_boot, y_train_boot)\n",
    "    ci_boot[:,i] = lr_boot.coef_[CLASS_NUM]\n",
    "    \n",
    "    print(str(i)+' ', end='')"
   ]
  },
  {
   "cell_type": "code",
   "execution_count": 9,
   "metadata": {},
   "outputs": [
    {
     "name": "stdout",
     "output_type": "stream",
     "text": [
      "Significant coefficents = 32 / 57\n"
     ]
    }
   ],
   "source": [
    "ci_upper = np.percentile(ci_boot, 97.5, axis=1)\n",
    "ci_lower = np.percentile(ci_boot, 2.5, axis=1)\n",
    "\n",
    "sig_b_ct = 0\n",
    "for i in range(len(ci_upper)):\n",
    "    if ci_upper[i]<0 or ci_lower[i]>0:\n",
    "        sig_b_ct += 1\n",
    "\n",
    "print(\"Significant coefficents = %i / %i\" % (sig_b_ct, ci_boot.shape[0]))"
   ]
  },
  {
   "cell_type": "code",
   "execution_count": 12,
   "metadata": {},
   "outputs": [
    {
     "data": {
      "text/plain": [
       "<matplotlib.text.Text at 0x117b889b0>"
      ]
     },
     "execution_count": 12,
     "metadata": {},
     "output_type": "execute_result"
    },
    {
     "data": {
      "image/png": "[encoded data removed]",
      "text/plain": [
       "<matplotlib.figure.Figure at 0x1171e6a90>"
      ]
     },
     "metadata": {},
     "output_type": "display_data"
    }
   ],
   "source": [
    "c_sig = []\n",
    "for idx, c in enumerate(ci_boot):\n",
    "    c_upper = np.percentile(c, 97.5)\n",
    "    c_lower = np.percentile(c, 2.5)\n",
    "    if c_upper<0 or c_lower>0:\n",
    "        c_sig.append( (X_train_impute.columns[idx], c) )\n",
    "\n",
    "c_sig_sorted = sorted(c_sig, key=lambda x: np.abs(np.mean(x[1])), reverse=True)\n",
    "\n",
    "fig, ax = plt.subplots(1, 1)\n",
    "ax.bar([i for i in range(len(c_sig_sorted))], [np.abs(np.mean(c[1])) for c in c_sig_sorted])\n",
    "ax.set_title(\"Sorted absolute mean of significant coefficients \\nobtained by bootstrapping\")"
   ]
  },
  {
   "cell_type": "code",
   "execution_count": 14,
   "metadata": {},
   "outputs": [
    {
     "name": "stdout",
     "output_type": "stream",
     "text": [
      "Top 8 significant coefficients and their absolute mean:\n",
      "RAVLT_perc_forgetting_bl  /  0.00687780321002\n",
      "ADAS13_bl  /  0.00422216992966\n",
      "FAQ_bl  /  0.00358037961312\n",
      "RAVLT_immediate_bl  /  0.00345922012695\n",
      "ADAS11_bl  /  0.00297374528912\n",
      "MOCA_bl  /  0.00160579440866\n",
      "MMSE_bl  /  0.00154002090564\n",
      "CDRSB_bl  /  0.00109141210525\n"
     ]
    }
   ],
   "source": [
    "print(\"Top 8 significant coefficients and their absolute mean:\")\n",
    "for i in range(8):\n",
    "    print(c_sig_sorted[i][0], \" / \", np.abs(np.mean(c_sig_sorted[i][1])))"
   ]
  },
  {
   "cell_type": "markdown",
   "metadata": {},
   "source": [
    "## Meta-Model"
   ]
  },
  {
   "cell_type": "markdown",
   "metadata": {},
   "source": [
    "#### Remove-All-NaN Dataset"
   ]
  },
  {
   "cell_type": "code",
   "execution_count": null,
   "metadata": {
    "collapsed": true
   },
   "outputs": [],
   "source": []
  },
  {
   "cell_type": "code",
   "execution_count": null,
   "metadata": {
    "collapsed": true
   },
   "outputs": [],
   "source": []
  },
  {
   "cell_type": "code",
   "execution_count": null,
   "metadata": {
    "collapsed": true
   },
   "outputs": [],
   "source": []
  }
 ],
 "metadata": {
  "kernelspec": {
   "display_name": "Python 3",
   "language": "python",
   "name": "python3"
  },
  "language_info": {
   "codemirror_mode": {
    "name": "ipython",
    "version": 3
   },
   "file_extension": ".py",
   "mimetype": "text/x-python",
   "name": "python",
   "nbconvert_exporter": "python",
   "pygments_lexer": "ipython3",
   "version": "3.6.1"
  }
 },
 "nbformat": 4,
 "nbformat_minor": 2
}
