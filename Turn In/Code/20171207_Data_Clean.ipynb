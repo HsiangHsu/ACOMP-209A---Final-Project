{
 "cells": [
  {
   "cell_type": "code",
   "execution_count": 41,
   "metadata": {},
   "outputs": [
    {
     "data": {
      "application/javascript": [
       "IPython.notebook.set_autosave_interval(300000)"
      ]
     },
     "metadata": {},
     "output_type": "display_data"
    },
    {
     "name": "stdout",
     "output_type": "stream",
     "text": [
      "Autosaving every 300 seconds\n"
     ]
    }
   ],
   "source": [
    "# just importing a random selection of things; we can fix this later\n",
    "import numpy as np\n",
    "import pandas as pd\n",
    "import matplotlib\n",
    "import matplotlib.pyplot as plt\n",
    "import sklearn.metrics as metrics\n",
    "from sklearn.model_selection import cross_val_score\n",
    "from sklearn import tree\n",
    "from sklearn.tree import DecisionTreeClassifier\n",
    "from sklearn.ensemble import RandomForestClassifier\n",
    "from sklearn.ensemble import AdaBoostClassifier\n",
    "from sklearn.linear_model import LinearRegression, LogisticRegressionCV\n",
    "%matplotlib inline\n",
    "\n",
    "from sklearn.tree import DecisionTreeRegressor\n",
    "\n",
    "from sklearn.model_selection import cross_val_score\n",
    "\n",
    "from sklearn.metrics import accuracy_score\n",
    "from sklearn.model_selection import KFold\n",
    "from sklearn.grid_search import GridSearchCV\n",
    "\n",
    "from pprint import pprint \n",
    "\n",
    "from sklearn.ensemble import BaggingClassifier\n",
    "from sklearn import model_selection\n",
    "from random import seed\n",
    "from sklearn.model_selection import cross_val_predict\n",
    "\n",
    "from sklearn.ensemble import RandomForestClassifier\n",
    "from itertools import product\n",
    "from collections import OrderedDict\n",
    "from itertools import product\n",
    "\n",
    "from sklearn import model_selection\n",
    "from sklearn.svm import SVC\n",
    "from sklearn import neighbors\n",
    "from sklearn.ensemble import VotingClassifier\n",
    "\n",
    "from sklearn.model_selection import train_test_split\n",
    "from __future__ import print_function # For Python 2 / 3 compatability\n",
    "from sklearn.metrics import confusion_matrix\n",
    "import itertools\n",
    "\n",
    "import json\n",
    "from copy import copy\n",
    "\n",
    "import warnings\n",
    "from sklearn import preprocessing\n",
    "%autosave 300\n",
    "warnings.filterwarnings(\"ignore\")"
   ]
  },
  {
   "cell_type": "code",
   "execution_count": 42,
   "metadata": {
    "collapsed": true
   },
   "outputs": [],
   "source": [
    "#Split function used to split train and test\n",
    "def split (data, percentage):\n",
    "    np.random.seed(9001) \n",
    "    msk = np.random.rand(len(data)) < percentage\n",
    "    train = data[msk]\n",
    "    test = data[~msk]\n",
    "    return train, test"
   ]
  },
  {
   "cell_type": "markdown",
   "metadata": {},
   "source": [
    "# Data Cleaning and Preliminary Exploration"
   ]
  },
  {
   "cell_type": "markdown",
   "metadata": {},
   "source": [
    "## Preliminary Exploration"
   ]
  },
  {
   "cell_type": "code",
   "execution_count": 43,
   "metadata": {},
   "outputs": [
    {
     "name": "stdout",
     "output_type": "stream",
     "text": [
      "(789, 94)\n"
     ]
    }
   ],
   "source": [
    "# load ADNIMERGE.csv, the main dataset (we will add our own variables to it). \n",
    "ADNI_merge = pd.read_csv('ADNIMERGE.csv')\n",
    "ADNI_merge.head()\n",
    "\n",
    "# select only the rows that correspond to ADN2\n",
    "ADNI2= ADNI_merge[ADNI_merge['COLPROT']=='ADNI2']\n",
    "ADNI2 = ADNI2[ADNI2['VISCODE']== 'bl']\n",
    "print(ADNI2.shape)"
   ]
  },
  {
   "cell_type": "code",
   "execution_count": 44,
   "metadata": {
    "collapsed": true
   },
   "outputs": [],
   "source": [
    "switch = 3\n",
    "# switch = 0  #ADNI2\n",
    "# switch = 1  #ADNI2+DRUG\n",
    "# switch = 2  #ADNI2+PROTEIN\n",
    "# switch = 3  #ADNI2+PROTEIN_DRUG"
   ]
  },
  {
   "cell_type": "code",
   "execution_count": 45,
   "metadata": {
    "collapsed": true
   },
   "outputs": [],
   "source": [
    "# MERGING DRUG\n",
    "if switch == 1:\n",
    "\n",
    "        # checking out the number of records for patients in ADNI2 phase, compared with other phases\n",
    "        ADMCPATIENTDRUGCLASSES_20170512 = pd.read_csv('ADMCPATIENTDRUGCLASSES_20170512.csv')\n",
    "        print(len(ADMCPATIENTDRUGCLASSES_20170512['Phase']))\n",
    "        print(len(ADMCPATIENTDRUGCLASSES_20170512[ADMCPATIENTDRUGCLASSES_20170512['Phase']=='ADNI2']))\n",
    "        print(len(ADMCPATIENTDRUGCLASSES_20170512[ADMCPATIENTDRUGCLASSES_20170512['Phase']=='ADNI3']))\n",
    "        print(len(ADMCPATIENTDRUGCLASSES_20170512[ADMCPATIENTDRUGCLASSES_20170512['Phase']=='ADNIGO']))\n",
    "\n",
    "        # select only ADNI2 data within MEDHIST\n",
    "        drug_adni2 = ADMCPATIENTDRUGCLASSES_20170512[ADMCPATIENTDRUGCLASSES_20170512['Phase']=='ADNI2']\n",
    "\n",
    "        # renaming VISCODE2 column to VISCODE; this is okay, since we're only using ADNI2 data. \n",
    "        drug_adni2 = drug_adni2.rename(columns={'VISCODE2': 'VISCODE'})\n",
    "\n",
    "        # create a list of all the drugs in ADNI2 \n",
    "        drug_list_allviscode = [x for x in drug_adni2['NA']]\n",
    "        # use a set to find all the unique drug names in the dataset\n",
    "        all_drug_list_all_viscode = set(drug_list_allviscode)\n",
    "\n",
    "        # create a list of blood-thinners from a google search\n",
    "        blood_thinners_original = ['DABIGATRAN','PRADAXA','RIVAROXABAN','XARELTO','APIXABAN','ELIQUIS','HEPARIN',\\\n",
    "                                    'WARFARIN', 'COUMADIN', 'ASPIRIN']\n",
    "\n",
    "        # a more extensive list of blood thinners found online\n",
    "        blood_thinners = ['ACTRON DAMASON P LIQUPRIN PRESALIN ADVIL DARVON LODINE PROFEN AGGRENOX DASIN LORTAB RELAFEN \\\n",
    "        ALEVE DAYPRO MAGNAPRIN ROBAXISAL ALKA-SELTZER DHC PLUS MARNAL ROXIPRIN ANACIN DIAGESIC MEASURIN RUFEN ANAPROX\\\n",
    "        DICLOFENAC MECLOFENAMATE SALSALATE ANEXSIA DIPYRIDAMOLE MEFENAMIC SALETO ANODYNOS DISALCID MELOXICAM SALOCOL\\\n",
    "        ANSAID DOLABID MEPROBAMATE SOMA COMPOUND A.P.C. DOLPRIN MIDOL SPRIX NASAL SPRAY ARTROTEC DOXAPHENE MOBIC ST.\\\n",
    "        JOSEPH A.S.A. DRISTAN MOMENTUM SULINDAC ASCRIPTIN EASPRIN MOTRIN SUPAC ASPERGUM ECOTRIN NABUMETONE SYNALGOS \\\n",
    "        ASPIRIN EMAGRIN FORTE NAPRELAN TALWIN AXOTAL EMPIRIN NAPRAPAC TICAGRELOR BAC EQUAGESIC NAPROSYN TICLOPIDINE BAYER\\\n",
    "        EQUAZINE NAPROXEN TICLID BEXOPHENE ETODOLAC NORGESIC TOLECTIN BEXTRA EXCEDRIN NUPRIN TOLMETIN BRILINTA FELDENE\\\n",
    "        ORUDIS TORADOL BUFFERED ASPIRIN FENOPROFEN ORUVAIL TRENTAL BUFFAPRIN FIOGESIC OXAPROZIN TRIGESIC BUFFERIN FIORGEN\\\n",
    "        PF PABALATE TRILISATE BUFFINOL FIORINAL  ULTRAPRIN CAMA ARTHRITIS PERCODAN UNIPRO CATAFLAM GINKO BILOBA PERSANTINE\\\n",
    "        VANGUISH CELEBREX GEMNISYN PERSISTIN VICOPROFEN CHERACOL CAPSULES IBUPROFEN PIROXICAM VIMOVO CLINORIL INDOCIN PLAVIX\\\n",
    "        CLOPIDOGREL INDOMETHACIN PLETAL VOLTAREN COMBUNOX KETOPROFEN PONSTEL ZIPSOR CONGESPIRIN KETOROLAC PREVACID NAPRAPAC\\\n",
    "        ZORPIN COUMADIN WARFARIN PRADAXA DABIGATRAN ETEXILATE'.split(' ')]\n",
    "\n",
    "        # combine the 2 blood thinner lists to create a main list of all blood thinners\n",
    "        blood_thinners = blood_thinners[0]\n",
    "        blood_thinners = blood_thinners + blood_thinners_original\n",
    "\n",
    "        # create a list of the supplements of interest, including all possible name variations\n",
    "        supplements_original = ['CALCIUM','CA', 'CA2+','VITAMIN D','VIT D','VITA D']\n",
    "\n",
    "        # split the NA column to identify all listed medications\n",
    "        drug_adni2['DRUGS'] = drug_adni2[\"NA\"].apply(lambda x:str(x).split(\",\"))\n",
    "\n",
    "\n",
    "        for sup in ['VITAMIN D', 'CALCIUM', 'VIT D']:\n",
    "            drug_adni2[sup] = drug_adni2.apply(lambda x: np.sum(sup in x['DRUGS']), axis=1)\n",
    "\n",
    "        # function to identify whether blood thinners are in the medical history dataset entries\n",
    "        def ANY_BT(row):\n",
    "            ANY=0\n",
    "            for bt in blood_thinners:\n",
    "                if bt in row[\"DRUGS\"]:\n",
    "                    ANY=1\n",
    "            return ANY\n",
    "\n",
    "        # any_bt column to identify if patient is taking a blood thinner (yes = 1)\n",
    "        drug_adni2[\"ANY BT\"] = drug_adni2.apply(ANY_BT, axis=1)\n",
    "        # column to identify if patient is taking vitamin D supplement (yes = 1)\n",
    "        drug_adni2[\"VITAMIN D merge\"] = drug_adni2.apply(lambda x: np.sum(x[\"VITAMIN D\"]==1 or x[\"VIT D\"]==1), axis=1)\n",
    "        drug_adni2 = drug_adni2.drop([\"VITAMIN D\", \"VIT D\"], axis=1)\n",
    "        drug_adni2\n",
    "        print(drug_adni2.shape)\n",
    "\n",
    "        cholesterol_drugs = 'ATORVASTATIN, LIPITOR, FLUVASTATIN, LESCOL, LESCOL XL, LOVASTATIN, MEVACOR, ALTOPREV, PRAVASTATIN, PRAVACHOL, ROSUVASTATIN, CRESTOR, SIMVASTATIN, ZOCOR, PITAVASTATIN, LIVALO'\n",
    "        cholesterol_drugs = cholesterol_drugs.split(', ')\n",
    "\n",
    "        def ANY_CHOL(row):\n",
    "               ANY=0\n",
    "               for ct in cholesterol_drugs:\n",
    "                   if ct in row[\"DRUGS\"]:\n",
    "                       ANY=1\n",
    "               return ANY\n",
    "    \n",
    "        drug_adni2['ANY CHOL'] = drug_adni2.apply(ANY_CHOL, axis=1)\n",
    "        \n",
    "        # define a new dataframe with medications, VISCODE, RID\n",
    "        drug_adni2_three_col = drug_adni2[['CALCIUM','ANY BT','VITAMIN D merge', 'ANY CHOL','RID', \"VISCODE\"]]\n",
    "        \n",
    "        print(ADNI2.shape)\n",
    "        ADNI2= pd.merge(ADNI2,drug_adni2_three_col, on=['RID', 'VISCODE'])\n",
    "        ADNI2.head()\n",
    "        print(ADNI2.shape)"
   ]
  },
  {
   "cell_type": "code",
   "execution_count": 46,
   "metadata": {
    "collapsed": true,
    "scrolled": true
   },
   "outputs": [],
   "source": [
    "# MERGING PROTEIN\n",
    "if switch == 2:\n",
    "    ADNI_bio = pd.read_csv('UPENNBIOMK9_04_19_17.csv')\n",
    "    ADNI2_bio = ADNI_bio[ADNI_bio['PHASE']=='ADNI2']\n",
    "    ADNI2_bio_bl = ADNI2_bio[ADNI2_bio['VISCODE2']=='bl']\n",
    "    ADNI2_bio_bl = ADNI2_bio_bl[['ABETA','TAU','PTAU', 'RID']]\n",
    "    ADNI2_bio_bl.loc[ADNI2_bio_bl['ABETA']=='>1700', 'ABETA'] = 1700\n",
    "    ADNI2_bio_bl.loc[ADNI2_bio_bl['PTAU']=='<8', 'PTAU'] = 8\n",
    "    print(\"ADNI2 shape: \", ADNI2_bio_bl.shape)\n",
    "\n",
    "    ADNI2 = ADNI2.merge(ADNI2_bio_bl, how='inner', left_on='RID', right_on='RID')\n",
    "    print(ADNI2.shape)\n",
    "    ADNI2.head()"
   ]
  },
  {
   "cell_type": "code",
   "execution_count": 47,
   "metadata": {},
   "outputs": [
    {
     "name": "stdout",
     "output_type": "stream",
     "text": [
      "14575\n",
      "7417\n",
      "0\n",
      "967\n",
      "(7417, 107)\n",
      "(789, 94)\n",
      "ADNI2 shape:  (702, 4)\n",
      "(702, 101)\n"
     ]
    }
   ],
   "source": [
    "# MERGING PROTEIN and DRUG\n",
    "if switch == 3:\n",
    "\n",
    "        # checking out the number of records for patients in ADNI2 phase, compared with other phases\n",
    "        ADMCPATIENTDRUGCLASSES_20170512 = pd.read_csv('ADMCPATIENTDRUGCLASSES_20170512.csv')\n",
    "        print(len(ADMCPATIENTDRUGCLASSES_20170512['Phase']))\n",
    "        print(len(ADMCPATIENTDRUGCLASSES_20170512[ADMCPATIENTDRUGCLASSES_20170512['Phase']=='ADNI2']))\n",
    "        print(len(ADMCPATIENTDRUGCLASSES_20170512[ADMCPATIENTDRUGCLASSES_20170512['Phase']=='ADNI3']))\n",
    "        print(len(ADMCPATIENTDRUGCLASSES_20170512[ADMCPATIENTDRUGCLASSES_20170512['Phase']=='ADNIGO']))\n",
    "\n",
    "        # select only ADNI2 data within MEDHIST\n",
    "        drug_adni2 = ADMCPATIENTDRUGCLASSES_20170512[ADMCPATIENTDRUGCLASSES_20170512['Phase']=='ADNI2']\n",
    "\n",
    "        # renaming VISCODE2 column to VISCODE; this is okay, since we're only using ADNI2 data. \n",
    "        drug_adni2 = drug_adni2.rename(columns={'VISCODE2': 'VISCODE'})\n",
    "\n",
    "        # create a list of all the drugs in ADNI2 \n",
    "        drug_list_allviscode = [x for x in drug_adni2['NA']]\n",
    "        # use a set to find all the unique drug names in the dataset\n",
    "        all_drug_list_all_viscode = set(drug_list_allviscode)\n",
    "\n",
    "        # create a list of blood-thinners from a google search\n",
    "        blood_thinners_original = ['DABIGATRAN','PRADAXA','RIVAROXABAN','XARELTO','APIXABAN','ELIQUIS','HEPARIN',\\\n",
    "                                    'WARFARIN', 'COUMADIN', 'ASPIRIN']\n",
    "\n",
    "        # a more extensive list of blood thinners found online\n",
    "        blood_thinners = ['ACTRON DAMASON P LIQUPRIN PRESALIN ADVIL DARVON LODINE PROFEN AGGRENOX DASIN LORTAB RELAFEN \\\n",
    "        ALEVE DAYPRO MAGNAPRIN ROBAXISAL ALKA-SELTZER DHC PLUS MARNAL ROXIPRIN ANACIN DIAGESIC MEASURIN RUFEN ANAPROX\\\n",
    "        DICLOFENAC MECLOFENAMATE SALSALATE ANEXSIA DIPYRIDAMOLE MEFENAMIC SALETO ANODYNOS DISALCID MELOXICAM SALOCOL\\\n",
    "        ANSAID DOLABID MEPROBAMATE SOMA COMPOUND A.P.C. DOLPRIN MIDOL SPRIX NASAL SPRAY ARTROTEC DOXAPHENE MOBIC ST.\\\n",
    "        JOSEPH A.S.A. DRISTAN MOMENTUM SULINDAC ASCRIPTIN EASPRIN MOTRIN SUPAC ASPERGUM ECOTRIN NABUMETONE SYNALGOS \\\n",
    "        ASPIRIN EMAGRIN FORTE NAPRELAN TALWIN AXOTAL EMPIRIN NAPRAPAC TICAGRELOR BAC EQUAGESIC NAPROSYN TICLOPIDINE BAYER\\\n",
    "        EQUAZINE NAPROXEN TICLID BEXOPHENE ETODOLAC NORGESIC TOLECTIN BEXTRA EXCEDRIN NUPRIN TOLMETIN BRILINTA FELDENE\\\n",
    "        ORUDIS TORADOL BUFFERED ASPIRIN FENOPROFEN ORUVAIL TRENTAL BUFFAPRIN FIOGESIC OXAPROZIN TRIGESIC BUFFERIN FIORGEN\\\n",
    "        PF PABALATE TRILISATE BUFFINOL FIORINAL  ULTRAPRIN CAMA ARTHRITIS PERCODAN UNIPRO CATAFLAM GINKO BILOBA PERSANTINE\\\n",
    "        VANGUISH CELEBREX GEMNISYN PERSISTIN VICOPROFEN CHERACOL CAPSULES IBUPROFEN PIROXICAM VIMOVO CLINORIL INDOCIN PLAVIX\\\n",
    "        CLOPIDOGREL INDOMETHACIN PLETAL VOLTAREN COMBUNOX KETOPROFEN PONSTEL ZIPSOR CONGESPIRIN KETOROLAC PREVACID NAPRAPAC\\\n",
    "        ZORPIN COUMADIN WARFARIN PRADAXA DABIGATRAN ETEXILATE'.split(' ')]\n",
    "\n",
    "        # combine the 2 blood thinner lists to create a main list of all blood thinners\n",
    "        blood_thinners = blood_thinners[0]\n",
    "        blood_thinners = blood_thinners + blood_thinners_original\n",
    "\n",
    "        # create a list of the supplements of interest, including all possible name variations\n",
    "        supplements_original = ['CALCIUM','CA', 'CA2+','VITAMIN D','VIT D','VITA D']\n",
    "\n",
    "        # split the NA column to identify all listed medications\n",
    "        drug_adni2['DRUGS'] = drug_adni2[\"NA\"].apply(lambda x:str(x).split(\",\"))\n",
    "\n",
    "\n",
    "        for sup in ['VITAMIN D', 'CALCIUM', 'VIT D']:\n",
    "            drug_adni2[sup] = drug_adni2.apply(lambda x: np.sum(sup in x['DRUGS']), axis=1)\n",
    "\n",
    "        # function to identify whether blood thinners are in the medical history dataset entries\n",
    "        def ANY_BT(row):\n",
    "            ANY=0\n",
    "            for bt in blood_thinners:\n",
    "                if bt in row[\"DRUGS\"]:\n",
    "                    ANY=1\n",
    "            return ANY\n",
    "\n",
    "        # any_bt column to identify if patient is taking a blood thinner (yes = 1)\n",
    "        drug_adni2[\"ANY BT\"] = drug_adni2.apply(ANY_BT, axis=1)\n",
    "        # column to identify if patient is taking vitamin D supplement (yes = 1)\n",
    "        drug_adni2[\"VITAMIN D merge\"] = drug_adni2.apply(lambda x: np.sum(x[\"VITAMIN D\"]==1 or x[\"VIT D\"]==1), axis=1)\n",
    "        drug_adni2 = drug_adni2.drop([\"VITAMIN D\", \"VIT D\"], axis=1)\n",
    "        drug_adni2\n",
    "        print(drug_adni2.shape)\n",
    "\n",
    "        cholesterol_drugs = 'ATORVASTATIN, LIPITOR, FLUVASTATIN, LESCOL, LESCOL XL, LOVASTATIN, MEVACOR, ALTOPREV, PRAVASTATIN, PRAVACHOL, ROSUVASTATIN, CRESTOR, SIMVASTATIN, ZOCOR, PITAVASTATIN, LIVALO'\n",
    "        cholesterol_drugs = cholesterol_drugs.split(', ')\n",
    "\n",
    "        def ANY_CHOL(row):\n",
    "               ANY=0\n",
    "               for ct in cholesterol_drugs:\n",
    "                   if ct in row[\"DRUGS\"]:\n",
    "                       ANY=1\n",
    "               return ANY\n",
    "    \n",
    "        drug_adni2['ANY CHOL'] = drug_adni2.apply(ANY_CHOL, axis=1)\n",
    "        \n",
    "        # define a new dataframe with medications, VISCODE, RID\n",
    "        drug_adni2_three_col = drug_adni2[['CALCIUM','ANY BT','VITAMIN D merge', 'ANY CHOL','RID', \"VISCODE\"]]\n",
    "        \n",
    "        print(ADNI2.shape)\n",
    "        ADNI2= pd.merge(ADNI2,drug_adni2_three_col, on=['RID', 'VISCODE'])\n",
    "        ADNI2.head()\n",
    "\n",
    "        \n",
    "        ADNI_bio = pd.read_csv('UPENNBIOMK9_04_19_17.csv')\n",
    "        ADNI2_bio = ADNI_bio[ADNI_bio['PHASE']=='ADNI2']\n",
    "        ADNI2_bio_bl = ADNI2_bio[ADNI2_bio['VISCODE2']=='bl']\n",
    "        ADNI2_bio_bl = ADNI2_bio_bl[['ABETA','TAU','PTAU', 'RID']]\n",
    "        ADNI2_bio_bl.loc[ADNI2_bio_bl['ABETA']=='>1700', 'ABETA'] = 1700\n",
    "        ADNI2_bio_bl.loc[ADNI2_bio_bl['PTAU']=='<8', 'PTAU'] = 8\n",
    "        print(\"ADNI2 shape: \", ADNI2_bio_bl.shape)\n",
    "\n",
    "        ADNI2 = ADNI2.merge(ADNI2_bio_bl, how='inner', left_on='RID', right_on='RID')\n",
    "        print(ADNI2.shape)\n",
    "        ADNI2.head()"
   ]
  },
  {
   "cell_type": "code",
   "execution_count": 48,
   "metadata": {},
   "outputs": [
    {
     "name": "stdout",
     "output_type": "stream",
     "text": [
      "(702, 101)\n"
     ]
    }
   ],
   "source": [
    "print(ADNI2.shape)"
   ]
  },
  {
   "cell_type": "code",
   "execution_count": 49,
   "metadata": {
    "collapsed": true
   },
   "outputs": [],
   "source": [
    "# Replacement of -4,-1, and Unknown\n",
    "import numpy as np\n",
    "ADNI2 = ADNI2.replace('Unknown', np.nan)\n",
    "ADNI2 = ADNI2.replace(-1, np.nan)\n",
    "ADNI2 = ADNI2.replace(-4, np.nan)"
   ]
  },
  {
   "cell_type": "code",
   "execution_count": 50,
   "metadata": {},
   "outputs": [],
   "source": [
    "if switch == 3:\n",
    "    ADNI2.to_csv(path_or_buf='ADNI2_bl.csv', index=False)"
   ]
  },
  {
   "cell_type": "markdown",
   "metadata": {},
   "source": [
    "# From now on DX\n"
   ]
  },
  {
   "cell_type": "code",
   "execution_count": 11,
   "metadata": {
    "collapsed": true
   },
   "outputs": [],
   "source": [
    "ADNI2_bl = ADNI2.copy()"
   ]
  },
  {
   "cell_type": "code",
   "execution_count": 12,
   "metadata": {},
   "outputs": [
    {
     "data": {
      "text/plain": [
       "Index(['RID', 'PTID', 'VISCODE', 'SITE', 'COLPROT', 'ORIGPROT', 'EXAMDATE',\n",
       "       'DX_bl', 'AGE', 'PTGENDER',\n",
       "       ...\n",
       "       'Month', 'M', 'update_stamp', 'CALCIUM', 'ANY BT', 'VITAMIN D merge',\n",
       "       'ANY CHOL', 'ABETA', 'TAU', 'PTAU'],\n",
       "      dtype='object', length=101)"
      ]
     },
     "execution_count": 12,
     "metadata": {},
     "output_type": "execute_result"
    }
   ],
   "source": [
    "ADNI2_bl.columns"
   ]
  },
  {
   "cell_type": "code",
   "execution_count": 13,
   "metadata": {},
   "outputs": [
    {
     "data": {
      "text/plain": [
       "(702, 101)"
      ]
     },
     "execution_count": 13,
     "metadata": {},
     "output_type": "execute_result"
    }
   ],
   "source": [
    "ADNI2_bl.shape"
   ]
  },
  {
   "cell_type": "code",
   "execution_count": 14,
   "metadata": {},
   "outputs": [
    {
     "data": {
      "text/plain": [
       "Index(['DX_bl', 'AGE', 'PTGENDER', 'PTEDUCAT', 'PTETHCAT', 'PTRACCAT',\n",
       "       'PTMARRY', 'APOE4', 'CDRSB_bl', 'ADAS11_bl', 'ADAS13_bl', 'MMSE_bl',\n",
       "       'RAVLT_immediate_bl', 'RAVLT_learning_bl', 'RAVLT_forgetting_bl',\n",
       "       'RAVLT_perc_forgetting_bl', 'FAQ_bl', 'FSVERSION_bl', 'Ventricles_bl',\n",
       "       'Hippocampus_bl', 'WholeBrain_bl', 'Entorhinal_bl', 'Fusiform_bl',\n",
       "       'MidTemp_bl', 'ICV_bl', 'MOCA_bl', 'EcogPtMem_bl', 'EcogPtLang_bl',\n",
       "       'EcogPtVisspat_bl', 'EcogPtPlan_bl', 'EcogPtOrgan_bl',\n",
       "       'EcogPtDivatt_bl', 'EcogPtTotal_bl', 'EcogSPMem_bl', 'EcogSPLang_bl',\n",
       "       'EcogSPVisspat_bl', 'EcogSPPlan_bl', 'EcogSPOrgan_bl',\n",
       "       'EcogSPDivatt_bl', 'EcogSPTotal_bl', 'FDG_bl', 'PIB_bl', 'AV45_bl',\n",
       "       'CALCIUM', 'ANY BT', 'VITAMIN D merge', 'ANY CHOL', 'ABETA', 'TAU',\n",
       "       'PTAU'],\n",
       "      dtype='object')"
      ]
     },
     "execution_count": 14,
     "metadata": {},
     "output_type": "execute_result"
    }
   ],
   "source": [
    "ADNI2_bl= ADNI2_bl.drop(labels = ['RID', 'PTID', 'VISCODE', 'SITE', 'COLPROT', 'ORIGPROT', 'EXAMDATE',\n",
    "                                  'Month_bl', 'Month', 'M','Years_bl','EXAMDATE_bl',\n",
    "                                 'FDG', 'PIB', 'AV45', 'CDRSB',\n",
    "                                 'MMSE', 'RAVLT_immediate', 'RAVLT_learning', 'RAVLT_forgetting',\n",
    "                                 'RAVLT_perc_forgetting', 'FAQ', 'MOCA', 'EcogPtMem', 'EcogPtLang',\n",
    "                                 'EcogPtVisspat', 'EcogPtPlan', 'EcogPtOrgan', 'EcogPtDivatt',\n",
    "                                 'EcogPtTotal', 'EcogSPMem', 'EcogSPLang', 'EcogSPVisspat', 'EcogSPPlan',\n",
    "                                 'EcogSPOrgan', 'EcogSPDivatt', 'EcogSPTotal', 'FLDSTRENG', 'FSVERSION',\n",
    "                                 'Ventricles', 'Hippocampus', 'WholeBrain', 'Entorhinal', 'Fusiform',\n",
    "                                 'MidTemp', 'ICV', 'DX','update_stamp','ADAS11', 'ADAS13','FLDSTRENG_bl'],axis=1)\n",
    "ADNI2_bl.columns"
   ]
  },
  {
   "cell_type": "code",
   "execution_count": 15,
   "metadata": {
    "scrolled": false
   },
   "outputs": [
    {
     "name": "stdout",
     "output_type": "stream",
     "text": [
      "PIB_bl                      1.000000\n",
      "MidTemp_bl                  0.136752\n",
      "Fusiform_bl                 0.136752\n",
      "Entorhinal_bl               0.136752\n",
      "Hippocampus_bl              0.108262\n",
      "Ventricles_bl               0.081197\n",
      "WholeBrain_bl               0.048433\n",
      "EcogSPOrgan_bl              0.044160\n",
      "EcogPtOrgan_bl              0.032764\n",
      "EcogSPDivatt_bl             0.029915\n",
      "EcogSPVisspat_bl            0.021368\n",
      "ICV_bl                      0.018519\n",
      "FSVERSION_bl                0.018519\n",
      "EcogSPPlan_bl               0.017094\n",
      "RAVLT_forgetting_bl         0.015670\n",
      "MOCA_bl                     0.012821\n",
      "AV45_bl                     0.012821\n",
      "EcogPtDivatt_bl             0.012821\n",
      "RAVLT_learning_bl           0.012821\n",
      "EcogPtVisspat_bl            0.009972\n",
      "EcogSPTotal_bl              0.008547\n",
      "ADAS13_bl                   0.005698\n",
      "EcogPtPlan_bl               0.005698\n",
      "PTETHCAT                    0.005698\n",
      "EcogSPMem_bl                0.005698\n",
      "EcogSPLang_bl               0.005698\n",
      "EcogPtLang_bl               0.004274\n",
      "EcogPtTotal_bl              0.004274\n",
      "FDG_bl                      0.002849\n",
      "FAQ_bl                      0.002849\n",
      "EcogPtMem_bl                0.002849\n",
      "PTMARRY                     0.002849\n",
      "ADAS11_bl                   0.002849\n",
      "RAVLT_perc_forgetting_bl    0.001425\n",
      "RAVLT_immediate_bl          0.001425\n",
      "PTRACCAT                    0.000000\n",
      "CDRSB_bl                    0.000000\n",
      "PTEDUCAT                    0.000000\n",
      "PTGENDER                    0.000000\n",
      "APOE4                       0.000000\n",
      "AGE                         0.000000\n",
      "PTAU                        0.000000\n",
      "MMSE_bl                     0.000000\n",
      "TAU                         0.000000\n",
      "CALCIUM                     0.000000\n",
      "ANY BT                      0.000000\n",
      "VITAMIN D merge             0.000000\n",
      "ANY CHOL                    0.000000\n",
      "ABETA                       0.000000\n",
      "DX_bl                       0.000000\n",
      "dtype: float64\n"
     ]
    }
   ],
   "source": [
    "# Calculate the % of each column that is NaNs and print in descending order\n",
    "print((ADNI2_bl.isnull().sum()/len(ADNI2_bl['DX_bl'])).sort_values(ascending=False))"
   ]
  },
  {
   "cell_type": "code",
   "execution_count": 16,
   "metadata": {},
   "outputs": [
    {
     "name": "stdout",
     "output_type": "stream",
     "text": [
      "(702, 50)\n",
      "(702, 49)\n",
      "Entorhinal_bl               0.136752\n",
      "MidTemp_bl                  0.136752\n",
      "Fusiform_bl                 0.136752\n",
      "Hippocampus_bl              0.108262\n",
      "Ventricles_bl               0.081197\n",
      "WholeBrain_bl               0.048433\n",
      "EcogSPOrgan_bl              0.044160\n",
      "EcogPtOrgan_bl              0.032764\n",
      "EcogSPDivatt_bl             0.029915\n",
      "EcogSPVisspat_bl            0.021368\n",
      "ICV_bl                      0.018519\n",
      "FSVERSION_bl                0.018519\n",
      "EcogSPPlan_bl               0.017094\n",
      "RAVLT_forgetting_bl         0.015670\n",
      "AV45_bl                     0.012821\n",
      "RAVLT_learning_bl           0.012821\n",
      "MOCA_bl                     0.012821\n",
      "EcogPtDivatt_bl             0.012821\n",
      "EcogPtVisspat_bl            0.009972\n",
      "EcogSPTotal_bl              0.008547\n",
      "EcogPtPlan_bl               0.005698\n",
      "PTETHCAT                    0.005698\n",
      "ADAS13_bl                   0.005698\n",
      "EcogSPMem_bl                0.005698\n",
      "EcogSPLang_bl               0.005698\n",
      "EcogPtLang_bl               0.004274\n",
      "EcogPtTotal_bl              0.004274\n",
      "FAQ_bl                      0.002849\n",
      "ADAS11_bl                   0.002849\n",
      "FDG_bl                      0.002849\n",
      "PTMARRY                     0.002849\n",
      "EcogPtMem_bl                0.002849\n",
      "RAVLT_perc_forgetting_bl    0.001425\n",
      "RAVLT_immediate_bl          0.001425\n",
      "CDRSB_bl                    0.000000\n",
      "PTEDUCAT                    0.000000\n",
      "PTGENDER                    0.000000\n",
      "AGE                         0.000000\n",
      "APOE4                       0.000000\n",
      "PTRACCAT                    0.000000\n",
      "PTAU                        0.000000\n",
      "MMSE_bl                     0.000000\n",
      "TAU                         0.000000\n",
      "CALCIUM                     0.000000\n",
      "ANY BT                      0.000000\n",
      "VITAMIN D merge             0.000000\n",
      "ANY CHOL                    0.000000\n",
      "ABETA                       0.000000\n",
      "DX_bl                       0.000000\n",
      "dtype: float64\n"
     ]
    }
   ],
   "source": [
    "# Drop columns with 40% or more of NaNs(AUTOMATED)\n",
    "print(ADNI2_bl.shape)\n",
    "ADNI2_bl = ADNI2_bl.dropna(thresh=0.6*len(ADNI2_bl), axis=1)\n",
    "print(ADNI2_bl.shape)\n",
    "print((ADNI2_bl.isnull().sum()/len(ADNI2_bl['DX_bl'])).sort_values(ascending=False))"
   ]
  },
  {
   "cell_type": "code",
   "execution_count": 17,
   "metadata": {},
   "outputs": [
    {
     "name": "stdout",
     "output_type": "stream",
     "text": [
      "0     0\n",
      "1     0\n",
      "2     0\n",
      "3     0\n",
      "4     0\n",
      "5     2\n",
      "6     0\n",
      "7     0\n",
      "8     0\n",
      "9     0\n",
      "10    0\n",
      "11    0\n",
      "12    0\n",
      "13    0\n",
      "14    0\n",
      "15    0\n",
      "16    0\n",
      "17    0\n",
      "18    2\n",
      "19    2\n",
      "Name: DX_bl, dtype: int64\n"
     ]
    }
   ],
   "source": [
    "# ENCODE in an ORDER WAY\n",
    "ADNI2_bl['DX_bl'] = ADNI2_bl['DX_bl'].replace('CN', 0)\n",
    "ADNI2_bl['DX_bl']= ADNI2_bl['DX_bl'].replace('SMC', 0)\n",
    "ADNI2_bl['DX_bl']= ADNI2_bl['DX_bl'].replace('EMCI', 1)\n",
    "ADNI2_bl['DX_bl'] = ADNI2_bl['DX_bl'].replace('LMCI', 1)\n",
    "ADNI2_bl['DX_bl'] = ADNI2_bl['DX_bl'].replace('AD', 2)\n",
    "print(ADNI2_bl['DX_bl'].head(20))"
   ]
  },
  {
   "cell_type": "code",
   "execution_count": 18,
   "metadata": {},
   "outputs": [
    {
     "data": {
      "text/plain": [
       "1    315\n",
       "0    255\n",
       "2    132\n",
       "Name: DX_bl, dtype: int64"
      ]
     },
     "execution_count": 18,
     "metadata": {},
     "output_type": "execute_result"
    }
   ],
   "source": [
    "ADNI2_bl['DX_bl'].value_counts()"
   ]
  },
  {
   "cell_type": "code",
   "execution_count": 19,
   "metadata": {},
   "outputs": [
    {
     "data": {
      "text/plain": [
       "Index(['DX_bl', 'AGE', 'PTGENDER', 'PTEDUCAT', 'PTETHCAT', 'PTRACCAT',\n",
       "       'PTMARRY', 'APOE4', 'CDRSB_bl', 'ADAS11_bl', 'ADAS13_bl', 'MMSE_bl',\n",
       "       'RAVLT_immediate_bl', 'RAVLT_learning_bl', 'RAVLT_forgetting_bl',\n",
       "       'RAVLT_perc_forgetting_bl', 'FAQ_bl', 'FSVERSION_bl', 'Ventricles_bl',\n",
       "       'Hippocampus_bl', 'WholeBrain_bl', 'Entorhinal_bl', 'Fusiform_bl',\n",
       "       'MidTemp_bl', 'ICV_bl', 'MOCA_bl', 'EcogPtMem_bl', 'EcogPtLang_bl',\n",
       "       'EcogPtVisspat_bl', 'EcogPtPlan_bl', 'EcogPtOrgan_bl',\n",
       "       'EcogPtDivatt_bl', 'EcogPtTotal_bl', 'EcogSPMem_bl', 'EcogSPLang_bl',\n",
       "       'EcogSPVisspat_bl', 'EcogSPPlan_bl', 'EcogSPOrgan_bl',\n",
       "       'EcogSPDivatt_bl', 'EcogSPTotal_bl', 'FDG_bl', 'AV45_bl', 'CALCIUM',\n",
       "       'ANY BT', 'VITAMIN D merge', 'ANY CHOL', 'ABETA', 'TAU', 'PTAU'],\n",
       "      dtype='object')"
      ]
     },
     "execution_count": 19,
     "metadata": {},
     "output_type": "execute_result"
    }
   ],
   "source": [
    "ADNI2_bl.columns"
   ]
  },
  {
   "cell_type": "code",
   "execution_count": 20,
   "metadata": {},
   "outputs": [
    {
     "name": "stdout",
     "output_type": "stream",
     "text": [
      "(702, 49)\n",
      "(684, 65)\n",
      "(684, 26)\n"
     ]
    }
   ],
   "source": [
    "# Hot-one encoding for categorical\n",
    "print(ADNI2_bl.shape)\n",
    "if (switch == 0) or (switch == 2):\n",
    "    categorical_predictors = ['PTETHCAT', 'PTRACCAT', 'PTMARRY','APOE4', 'PTGENDER', 'FSVERSION_bl']\n",
    "    \n",
    "if (switch == 1) or (switch == 3):\n",
    "    categorical_predictors = ['PTETHCAT', 'PTRACCAT', 'PTMARRY','APOE4',\n",
    "                              'PTGENDER', 'FSVERSION_bl',\n",
    "                              'CALCIUM','ANY BT','VITAMIN D merge', 'ANY CHOL']                                                         \n",
    "\n",
    "    \n",
    "#Remove all categorical data with nan (only ~0.5%) \n",
    "missing_rows = np.nonzero(np.sum(ADNI2_bl[categorical_predictors].isnull(), axis=1))\n",
    "ADNI2_bl = ADNI2_bl.drop(ADNI2_bl.index[missing_rows[0]])\n",
    "\n",
    "#Hot-One Encoding of Categorical Predictors \n",
    "ADNI2_bl_expand = pd.get_dummies(ADNI2_bl, columns=categorical_predictors, drop_first=False)\n",
    "ADNI2_bl_categorical = pd.get_dummies(ADNI2_bl[categorical_predictors] , columns=categorical_predictors, prefix = categorical_predictors , drop_first=False)\n",
    "print(ADNI2_bl_expand.shape)\n",
    "print(ADNI2_bl_categorical.shape)\n"
   ]
  },
  {
   "cell_type": "code",
   "execution_count": 21,
   "metadata": {},
   "outputs": [
    {
     "name": "stdout",
     "output_type": "stream",
     "text": [
      "Index(['DX_bl', 'AGE', 'PTEDUCAT', 'CDRSB_bl', 'ADAS11_bl', 'ADAS13_bl',\n",
      "       'MMSE_bl', 'RAVLT_immediate_bl', 'RAVLT_learning_bl',\n",
      "       'RAVLT_forgetting_bl', 'RAVLT_perc_forgetting_bl', 'FAQ_bl',\n",
      "       'Ventricles_bl', 'Hippocampus_bl', 'WholeBrain_bl', 'Entorhinal_bl',\n",
      "       'Fusiform_bl', 'MidTemp_bl', 'ICV_bl', 'MOCA_bl', 'EcogPtMem_bl',\n",
      "       'EcogPtLang_bl', 'EcogPtVisspat_bl', 'EcogPtPlan_bl', 'EcogPtOrgan_bl',\n",
      "       'EcogPtDivatt_bl', 'EcogPtTotal_bl', 'EcogSPMem_bl', 'EcogSPLang_bl',\n",
      "       'EcogSPVisspat_bl', 'EcogSPPlan_bl', 'EcogSPOrgan_bl',\n",
      "       'EcogSPDivatt_bl', 'EcogSPTotal_bl', 'FDG_bl', 'AV45_bl', 'ABETA',\n",
      "       'TAU', 'PTAU', 'PTETHCAT_Hisp/Latino', 'PTETHCAT_Not Hisp/Latino',\n",
      "       'PTRACCAT_Am Indian/Alaskan', 'PTRACCAT_Asian', 'PTRACCAT_Black',\n",
      "       'PTRACCAT_Hawaiian/Other PI', 'PTRACCAT_More than one',\n",
      "       'PTRACCAT_White', 'PTMARRY_Divorced', 'PTMARRY_Married',\n",
      "       'PTMARRY_Never married', 'PTMARRY_Widowed', 'APOE4_0.0', 'APOE4_1.0',\n",
      "       'APOE4_2.0', 'PTGENDER_Female', 'PTGENDER_Male',\n",
      "       'FSVERSION_bl_Cross-Sectional FreeSurfer (5.1)', 'CALCIUM_0',\n",
      "       'CALCIUM_1', 'ANY BT_0', 'ANY BT_1', 'VITAMIN D merge_0',\n",
      "       'VITAMIN D merge_1', 'ANY CHOL_0', 'ANY CHOL_1'],\n",
      "      dtype='object')\n"
     ]
    }
   ],
   "source": [
    "print(ADNI2_bl_expand.columns)"
   ]
  },
  {
   "cell_type": "code",
   "execution_count": 22,
   "metadata": {
    "collapsed": true
   },
   "outputs": [],
   "source": [
    "if  switch == 3:\n",
    "    ADNI2_bl_expand.to_csv(path_or_buf='ADNI2_bl_expand.csv', index=False)"
   ]
  },
  {
   "cell_type": "markdown",
   "metadata": {},
   "source": [
    "# ADNI2_bl_expand will be the input data for the three methods that deal with NaNs"
   ]
  },
  {
   "cell_type": "markdown",
   "metadata": {},
   "source": [
    "### Removing All Missing Data"
   ]
  },
  {
   "cell_type": "code",
   "execution_count": 23,
   "metadata": {},
   "outputs": [
    {
     "name": "stdout",
     "output_type": "stream",
     "text": [
      "Shape before delteing missing (684, 65)\n",
      "Shape before delteing missing (453, 65)\n",
      "Data contains NaN? False\n"
     ]
    }
   ],
   "source": [
    "#R emoving all the rows with NaNs\n",
    "ADNI2_bl_remove = ADNI2_bl_expand.copy()\n",
    "print('Shape before delteing missing', ADNI2_bl_remove.shape)\n",
    "ADNI2_bl_remove.dropna(axis=0, inplace=True)\n",
    "print('Shape before delteing missing', ADNI2_bl_remove.shape) \n",
    "print('Data contains NaN?', ADNI2_bl_remove.isnull().any().any())"
   ]
  },
  {
   "cell_type": "code",
   "execution_count": 24,
   "metadata": {},
   "outputs": [
    {
     "data": {
      "text/plain": [
       "DX_bl                                            0\n",
       "AGE                                              0\n",
       "PTEDUCAT                                         0\n",
       "CDRSB_bl                                         0\n",
       "ADAS11_bl                                        0\n",
       "ADAS13_bl                                        0\n",
       "MMSE_bl                                          0\n",
       "RAVLT_immediate_bl                               0\n",
       "RAVLT_learning_bl                                0\n",
       "RAVLT_forgetting_bl                              0\n",
       "RAVLT_perc_forgetting_bl                         0\n",
       "FAQ_bl                                           0\n",
       "Ventricles_bl                                    0\n",
       "Hippocampus_bl                                   0\n",
       "WholeBrain_bl                                    0\n",
       "Entorhinal_bl                                    0\n",
       "Fusiform_bl                                      0\n",
       "MidTemp_bl                                       0\n",
       "ICV_bl                                           0\n",
       "MOCA_bl                                          0\n",
       "EcogPtMem_bl                                     0\n",
       "EcogPtLang_bl                                    0\n",
       "EcogPtVisspat_bl                                 0\n",
       "EcogPtPlan_bl                                    0\n",
       "EcogPtOrgan_bl                                   0\n",
       "EcogPtDivatt_bl                                  0\n",
       "EcogPtTotal_bl                                   0\n",
       "EcogSPMem_bl                                     0\n",
       "EcogSPLang_bl                                    0\n",
       "EcogSPVisspat_bl                                 0\n",
       "                                                ..\n",
       "AV45_bl                                          0\n",
       "ABETA                                            0\n",
       "TAU                                              0\n",
       "PTAU                                             0\n",
       "PTETHCAT_Hisp/Latino                             0\n",
       "PTETHCAT_Not Hisp/Latino                         0\n",
       "PTRACCAT_Am Indian/Alaskan                       0\n",
       "PTRACCAT_Asian                                   0\n",
       "PTRACCAT_Black                                   0\n",
       "PTRACCAT_Hawaiian/Other PI                       0\n",
       "PTRACCAT_More than one                           0\n",
       "PTRACCAT_White                                   0\n",
       "PTMARRY_Divorced                                 0\n",
       "PTMARRY_Married                                  0\n",
       "PTMARRY_Never married                            0\n",
       "PTMARRY_Widowed                                  0\n",
       "APOE4_0.0                                        0\n",
       "APOE4_1.0                                        0\n",
       "APOE4_2.0                                        0\n",
       "PTGENDER_Female                                  0\n",
       "PTGENDER_Male                                    0\n",
       "FSVERSION_bl_Cross-Sectional FreeSurfer (5.1)    0\n",
       "CALCIUM_0                                        0\n",
       "CALCIUM_1                                        0\n",
       "ANY BT_0                                         0\n",
       "ANY BT_1                                         0\n",
       "VITAMIN D merge_0                                0\n",
       "VITAMIN D merge_1                                0\n",
       "ANY CHOL_0                                       0\n",
       "ANY CHOL_1                                       0\n",
       "Length: 65, dtype: int64"
      ]
     },
     "execution_count": 24,
     "metadata": {},
     "output_type": "execute_result"
    }
   ],
   "source": [
    "# Check that there no NaNs\n",
    "ADNI2_bl_remove.isnull().sum()"
   ]
  },
  {
   "cell_type": "code",
   "execution_count": 25,
   "metadata": {
    "collapsed": true
   },
   "outputs": [],
   "source": [
    "# SAVING OF DATASETS (train and test)\n",
    "\n",
    "ADNI2_bl_remove_train, ADNI2_bl_remove_test = split(ADNI2_bl_remove,0.75)\n",
    "\n",
    "if switch == 0:\n",
    "    ADNI2_bl_remove_train.to_csv(path_or_buf='ADNI2_bl_remove_train.csv', index=False)\n",
    "    ADNI2_bl_remove_test.to_csv(path_or_buf='ADNI2_bl_remove_test.csv', index=False)\n",
    "    \n",
    "if switch == 1: \n",
    "    #put back the predictors\n",
    "#     ADNI2_bl_remove_train = ADNI2_bl_remove_train[['CALCIUM','ANY BT','VITAMIN D merge','DX_bl']]\n",
    "#     ADNI2_bl_remove_test = ADNI2_bl_remove_test[['CALCIUM','ANY BT','VITAMIN D merge','DX_bl']]\n",
    "    ADNI2_bl_remove_train.to_csv(path_or_buf='ADNI2_bl_remove_train_DRUG.csv', index=False)\n",
    "    ADNI2_bl_remove_test.to_csv(path_or_buf='ADNI2_bl_remove_test_DRUG.csv', index=False)\n",
    "    \n",
    "\n",
    "if switch == 2: \n",
    "    ADNI2_bl_remove_train.to_csv(path_or_buf='ADNI2_bl_remove_train_PROTEIN.csv', index=False)\n",
    "    ADNI2_bl_remove_test.to_csv(path_or_buf='ADNI2_bl_remove_test_PROTEIN.csv', index=False)\n",
    "\n",
    "if switch == 3: \n",
    "    ADNI2_bl_remove_train.to_csv(path_or_buf='ADNI2_bl_remove_train_DRUG+PROTEIN.csv', index=False)\n",
    "    ADNI2_bl_remove_test.to_csv(path_or_buf='ADNI2_bl_remove_test_DRUG+PROTEIN.csv', index=False)\n",
    "\n"
   ]
  },
  {
   "cell_type": "markdown",
   "metadata": {},
   "source": [
    "## Model-Based Imputation \n",
    "- Drop around 5% of Categorical predictors and use Linear Regression for missing continuous predictors"
   ]
  },
  {
   "cell_type": "code",
   "execution_count": 26,
   "metadata": {
    "collapsed": true
   },
   "outputs": [],
   "source": [
    "ADNI2_bl_model = ADNI2_bl_expand.copy()"
   ]
  },
  {
   "cell_type": "code",
   "execution_count": 27,
   "metadata": {},
   "outputs": [
    {
     "data": {
      "text/plain": [
       "Index(['DX_bl', 'AGE', 'PTEDUCAT', 'CDRSB_bl', 'ADAS11_bl', 'ADAS13_bl',\n",
       "       'MMSE_bl', 'RAVLT_immediate_bl', 'RAVLT_learning_bl',\n",
       "       'RAVLT_forgetting_bl', 'RAVLT_perc_forgetting_bl', 'FAQ_bl',\n",
       "       'Ventricles_bl', 'Hippocampus_bl', 'WholeBrain_bl', 'Entorhinal_bl',\n",
       "       'Fusiform_bl', 'MidTemp_bl', 'ICV_bl', 'MOCA_bl', 'EcogPtMem_bl',\n",
       "       'EcogPtLang_bl', 'EcogPtVisspat_bl', 'EcogPtPlan_bl', 'EcogPtOrgan_bl',\n",
       "       'EcogPtDivatt_bl', 'EcogPtTotal_bl', 'EcogSPMem_bl', 'EcogSPLang_bl',\n",
       "       'EcogSPVisspat_bl', 'EcogSPPlan_bl', 'EcogSPOrgan_bl',\n",
       "       'EcogSPDivatt_bl', 'EcogSPTotal_bl', 'FDG_bl', 'AV45_bl', 'ABETA',\n",
       "       'TAU', 'PTAU', 'PTETHCAT_Hisp/Latino', 'PTETHCAT_Not Hisp/Latino',\n",
       "       'PTRACCAT_Am Indian/Alaskan', 'PTRACCAT_Asian', 'PTRACCAT_Black',\n",
       "       'PTRACCAT_Hawaiian/Other PI', 'PTRACCAT_More than one',\n",
       "       'PTRACCAT_White', 'PTMARRY_Divorced', 'PTMARRY_Married',\n",
       "       'PTMARRY_Never married', 'PTMARRY_Widowed', 'APOE4_0.0', 'APOE4_1.0',\n",
       "       'APOE4_2.0', 'PTGENDER_Female', 'PTGENDER_Male',\n",
       "       'FSVERSION_bl_Cross-Sectional FreeSurfer (5.1)', 'CALCIUM_0',\n",
       "       'CALCIUM_1', 'ANY BT_0', 'ANY BT_1', 'VITAMIN D merge_0',\n",
       "       'VITAMIN D merge_1', 'ANY CHOL_0', 'ANY CHOL_1'],\n",
       "      dtype='object')"
      ]
     },
     "execution_count": 27,
     "metadata": {},
     "output_type": "execute_result"
    }
   ],
   "source": [
    "ADNI2_bl_model.columns"
   ]
  },
  {
   "cell_type": "code",
   "execution_count": 28,
   "metadata": {
    "collapsed": true
   },
   "outputs": [],
   "source": [
    "#Manually select continuous predictors for differnet switchdx\n",
    "\n",
    "if (switch == 0) or (switch == 1):\n",
    "    continuous_predictors = ['AGE', 'PTEDUCAT', 'CDRSB_bl', 'ADAS11_bl', 'ADAS13_bl',\n",
    "                            'MMSE_bl', 'RAVLT_immediate_bl', 'RAVLT_learning_bl',\n",
    "                            'RAVLT_forgetting_bl', 'RAVLT_perc_forgetting_bl', 'FAQ_bl', 'Ventricles_bl', 'Hippocampus_bl',\n",
    "                            'WholeBrain_bl', 'Entorhinal_bl', 'Fusiform_bl', 'MidTemp_bl', 'ICV_bl',\n",
    "                            'MOCA_bl', 'EcogPtMem_bl', 'EcogPtLang_bl', 'EcogPtVisspat_bl',\n",
    "                            'EcogPtPlan_bl', 'EcogPtOrgan_bl', 'EcogPtDivatt_bl', 'EcogPtTotal_bl',\n",
    "                            'EcogSPMem_bl', 'EcogSPLang_bl', 'EcogSPVisspat_bl', 'EcogSPPlan_bl',\n",
    "                            'EcogSPOrgan_bl', 'EcogSPDivatt_bl', 'EcogSPTotal_bl', 'FDG_bl',\n",
    "                            'AV45_bl']\n",
    "\n",
    "if (switch == 2) or (switch == 3):\n",
    "    continuous_predictors = ['ABETA','TAU','PTAU','AGE', 'PTEDUCAT', 'CDRSB_bl', 'ADAS11_bl', 'ADAS13_bl',\n",
    "                            'MMSE_bl', 'RAVLT_immediate_bl', 'RAVLT_learning_bl',\n",
    "                            'RAVLT_forgetting_bl', 'RAVLT_perc_forgetting_bl', 'FAQ_bl', 'Ventricles_bl', 'Hippocampus_bl',\n",
    "                            'WholeBrain_bl', 'Entorhinal_bl', 'Fusiform_bl', 'MidTemp_bl', 'ICV_bl',\n",
    "                            'MOCA_bl', 'EcogPtMem_bl', 'EcogPtLang_bl', 'EcogPtVisspat_bl',\n",
    "                            'EcogPtPlan_bl', 'EcogPtOrgan_bl', 'EcogPtDivatt_bl', 'EcogPtTotal_bl',\n",
    "                            'EcogSPMem_bl', 'EcogSPLang_bl', 'EcogSPVisspat_bl', 'EcogSPPlan_bl',\n",
    "                            'EcogSPOrgan_bl', 'EcogSPDivatt_bl', 'EcogSPTotal_bl', 'FDG_bl',\n",
    "                            'AV45_bl']"
   ]
  },
  {
   "cell_type": "code",
   "execution_count": 29,
   "metadata": {
    "collapsed": true
   },
   "outputs": [],
   "source": [
    "# Create ADNI2_missing for imputation\n",
    "ADNI2_bl_model_remove_categorical = ADNI2_bl_model[continuous_predictors]\n",
    "\n",
    "# Create the Dataframe for imputation\n",
    "ADNI2_bl_missing = pd.concat([ADNI2_bl_model_remove_categorical, ADNI2_bl_categorical], axis=1)\n"
   ]
  },
  {
   "cell_type": "code",
   "execution_count": 30,
   "metadata": {},
   "outputs": [
    {
     "name": "stdout",
     "output_type": "stream",
     "text": [
      "Index(['ABETA', 'TAU', 'PTAU', 'AGE', 'PTEDUCAT', 'CDRSB_bl', 'ADAS11_bl',\n",
      "       'ADAS13_bl', 'MMSE_bl', 'RAVLT_immediate_bl', 'RAVLT_learning_bl',\n",
      "       'RAVLT_forgetting_bl', 'RAVLT_perc_forgetting_bl', 'FAQ_bl',\n",
      "       'Ventricles_bl', 'Hippocampus_bl', 'WholeBrain_bl', 'Entorhinal_bl',\n",
      "       'Fusiform_bl', 'MidTemp_bl', 'ICV_bl', 'MOCA_bl', 'EcogPtMem_bl',\n",
      "       'EcogPtLang_bl', 'EcogPtVisspat_bl', 'EcogPtPlan_bl', 'EcogPtOrgan_bl',\n",
      "       'EcogPtDivatt_bl', 'EcogPtTotal_bl', 'EcogSPMem_bl', 'EcogSPLang_bl',\n",
      "       'EcogSPVisspat_bl', 'EcogSPPlan_bl', 'EcogSPOrgan_bl',\n",
      "       'EcogSPDivatt_bl', 'EcogSPTotal_bl', 'FDG_bl', 'AV45_bl'],\n",
      "      dtype='object')\n",
      "Index(['DX_bl', 'AGE', 'PTGENDER', 'PTEDUCAT', 'PTETHCAT', 'PTRACCAT',\n",
      "       'PTMARRY', 'APOE4', 'CDRSB_bl', 'ADAS11_bl', 'ADAS13_bl', 'MMSE_bl',\n",
      "       'RAVLT_immediate_bl', 'RAVLT_learning_bl', 'RAVLT_forgetting_bl',\n",
      "       'RAVLT_perc_forgetting_bl', 'FAQ_bl', 'FSVERSION_bl', 'Ventricles_bl',\n",
      "       'Hippocampus_bl', 'WholeBrain_bl', 'Entorhinal_bl', 'Fusiform_bl',\n",
      "       'MidTemp_bl', 'ICV_bl', 'MOCA_bl', 'EcogPtMem_bl', 'EcogPtLang_bl',\n",
      "       'EcogPtVisspat_bl', 'EcogPtPlan_bl', 'EcogPtOrgan_bl',\n",
      "       'EcogPtDivatt_bl', 'EcogPtTotal_bl', 'EcogSPMem_bl', 'EcogSPLang_bl',\n",
      "       'EcogSPVisspat_bl', 'EcogSPPlan_bl', 'EcogSPOrgan_bl',\n",
      "       'EcogSPDivatt_bl', 'EcogSPTotal_bl', 'FDG_bl', 'AV45_bl', 'CALCIUM',\n",
      "       'ANY BT', 'VITAMIN D merge', 'ANY CHOL', 'ABETA', 'TAU', 'PTAU'],\n",
      "      dtype='object')\n",
      "Index(['PTETHCAT_Hisp/Latino', 'PTETHCAT_Not Hisp/Latino',\n",
      "       'PTRACCAT_Am Indian/Alaskan', 'PTRACCAT_Asian', 'PTRACCAT_Black',\n",
      "       'PTRACCAT_Hawaiian/Other PI', 'PTRACCAT_More than one',\n",
      "       'PTRACCAT_White', 'PTMARRY_Divorced', 'PTMARRY_Married',\n",
      "       'PTMARRY_Never married', 'PTMARRY_Widowed', 'APOE4_0.0', 'APOE4_1.0',\n",
      "       'APOE4_2.0', 'PTGENDER_Female', 'PTGENDER_Male',\n",
      "       'FSVERSION_bl_Cross-Sectional FreeSurfer (5.1)', 'CALCIUM_0',\n",
      "       'CALCIUM_1', 'ANY BT_0', 'ANY BT_1', 'VITAMIN D merge_0',\n",
      "       'VITAMIN D merge_1', 'ANY CHOL_0', 'ANY CHOL_1'],\n",
      "      dtype='object')\n"
     ]
    }
   ],
   "source": [
    "print(ADNI2_bl_model_remove_categorical.columns)\n",
    "print(ADNI2_bl.columns)\n",
    "print(ADNI2_bl_categorical.columns)"
   ]
  },
  {
   "cell_type": "code",
   "execution_count": 31,
   "metadata": {},
   "outputs": [
    {
     "name": "stdout",
     "output_type": "stream",
     "text": [
      "(684, 38)\n",
      "(684, 26)\n",
      "(684, 49)\n"
     ]
    }
   ],
   "source": [
    "print(ADNI2_bl_model_remove_categorical.shape)\n",
    "print(ADNI2_bl_categorical.shape)\n",
    "print(ADNI2_bl.shape)"
   ]
  },
  {
   "cell_type": "code",
   "execution_count": 32,
   "metadata": {},
   "outputs": [
    {
     "name": "stdout",
     "output_type": "stream",
     "text": [
      "The origin number of data: 684\n",
      "The number of data that contains missing entries: 231\n",
      "The dimension of full dataframe: (453, 64)\n",
      "0\n"
     ]
    }
   ],
   "source": [
    "full_dataframe =  copy(ADNI2_bl_missing)\n",
    "missing_rows = []\n",
    "for i in range(ADNI2_bl_missing.shape[0]):\n",
    "    if pd.isnull(ADNI2_bl_missing.values[i]).any():\n",
    "        missing_rows.append(i)\n",
    "full_dataframe= full_dataframe.drop(full_dataframe.index[missing_rows], axis=0);\n",
    "\n",
    "print('The origin number of data: {}'.format(len(ADNI2_bl_missing)))\n",
    "print('The number of data that contains missing entries: {}'.format(len(missing_rows)))\n",
    "print('The dimension of full dataframe: {}'.format(full_dataframe.shape))\n",
    "\n",
    "# Check that full_dataframe has no missing values \n",
    "print(np.sum(np.sum(full_dataframe.isnull())))"
   ]
  },
  {
   "cell_type": "code",
   "execution_count": 33,
   "metadata": {},
   "outputs": [
    {
     "name": "stdout",
     "output_type": "stream",
     "text": [
      "Index(['ABETA', 'TAU', 'PTAU', 'AGE', 'PTEDUCAT', 'CDRSB_bl', 'ADAS11_bl',\n",
      "       'ADAS13_bl', 'MMSE_bl', 'RAVLT_immediate_bl', 'RAVLT_learning_bl',\n",
      "       'RAVLT_forgetting_bl', 'RAVLT_perc_forgetting_bl', 'FAQ_bl',\n",
      "       'Ventricles_bl', 'Hippocampus_bl', 'WholeBrain_bl', 'Entorhinal_bl',\n",
      "       'Fusiform_bl', 'MidTemp_bl', 'ICV_bl', 'MOCA_bl', 'EcogPtMem_bl',\n",
      "       'EcogPtLang_bl', 'EcogPtVisspat_bl', 'EcogPtPlan_bl', 'EcogPtOrgan_bl',\n",
      "       'EcogPtDivatt_bl', 'EcogPtTotal_bl', 'EcogSPMem_bl', 'EcogSPLang_bl',\n",
      "       'EcogSPVisspat_bl', 'EcogSPPlan_bl', 'EcogSPOrgan_bl',\n",
      "       'EcogSPDivatt_bl', 'EcogSPTotal_bl', 'FDG_bl', 'AV45_bl',\n",
      "       'PTETHCAT_Hisp/Latino', 'PTETHCAT_Not Hisp/Latino',\n",
      "       'PTRACCAT_Am Indian/Alaskan', 'PTRACCAT_Asian', 'PTRACCAT_Black',\n",
      "       'PTRACCAT_Hawaiian/Other PI', 'PTRACCAT_More than one',\n",
      "       'PTRACCAT_White', 'PTMARRY_Divorced', 'PTMARRY_Married',\n",
      "       'PTMARRY_Never married', 'PTMARRY_Widowed', 'APOE4_0.0', 'APOE4_1.0',\n",
      "       'APOE4_2.0', 'PTGENDER_Female', 'PTGENDER_Male',\n",
      "       'FSVERSION_bl_Cross-Sectional FreeSurfer (5.1)', 'CALCIUM_0',\n",
      "       'CALCIUM_1', 'ANY BT_0', 'ANY BT_1', 'VITAMIN D merge_0',\n",
      "       'VITAMIN D merge_1', 'ANY CHOL_0', 'ANY CHOL_1'],\n",
      "      dtype='object')\n"
     ]
    }
   ],
   "source": [
    "print(ADNI2_bl_missing.columns)"
   ]
  },
  {
   "cell_type": "code",
   "execution_count": 34,
   "metadata": {
    "collapsed": true
   },
   "outputs": [],
   "source": [
    "# Model-Based Imputation - Linear Regression\n",
    "\n",
    "lr = LinearRegression(fit_intercept = True)\n",
    "\n",
    "for i in range(ADNI2_bl_missing.shape[0]):\n",
    "    if ADNI2_bl_missing.iloc[i, :].isnull().any():\n",
    "        missing_columns = ADNI2_bl_missing.columns[ADNI2_bl_missing.iloc[i, :].isnull()]\n",
    "        y_imp = full_dataframe[missing_columns]\n",
    "        X_imp = full_dataframe.drop(missing_columns, 1)\n",
    "        lr.fit(X_imp,y_imp)\n",
    "        X_missing = ADNI2_bl_missing.iloc[i, :].drop(missing_columns)\n",
    "        y_hat = lr.predict(X_missing)\n",
    "        ADNI2_bl_missing.loc[ADNI2_bl_missing.index[i], missing_columns] = y_hat[0] \n",
    "     "
   ]
  },
  {
   "cell_type": "code",
   "execution_count": 35,
   "metadata": {},
   "outputs": [
    {
     "name": "stdout",
     "output_type": "stream",
     "text": [
      "(684, 65)\n",
      "(684, 64)\n",
      "(684, 65)\n"
     ]
    },
    {
     "data": {
      "text/plain": [
       "ABETA                                            0\n",
       "TAU                                              0\n",
       "PTAU                                             0\n",
       "AGE                                              0\n",
       "PTEDUCAT                                         0\n",
       "CDRSB_bl                                         0\n",
       "ADAS11_bl                                        0\n",
       "ADAS13_bl                                        0\n",
       "MMSE_bl                                          0\n",
       "RAVLT_immediate_bl                               0\n",
       "RAVLT_learning_bl                                0\n",
       "RAVLT_forgetting_bl                              0\n",
       "RAVLT_perc_forgetting_bl                         0\n",
       "FAQ_bl                                           0\n",
       "Ventricles_bl                                    0\n",
       "Hippocampus_bl                                   0\n",
       "WholeBrain_bl                                    0\n",
       "Entorhinal_bl                                    0\n",
       "Fusiform_bl                                      0\n",
       "MidTemp_bl                                       0\n",
       "ICV_bl                                           0\n",
       "MOCA_bl                                          0\n",
       "EcogPtMem_bl                                     0\n",
       "EcogPtLang_bl                                    0\n",
       "EcogPtVisspat_bl                                 0\n",
       "EcogPtPlan_bl                                    0\n",
       "EcogPtOrgan_bl                                   0\n",
       "EcogPtDivatt_bl                                  0\n",
       "EcogPtTotal_bl                                   0\n",
       "EcogSPMem_bl                                     0\n",
       "                                                ..\n",
       "EcogSPTotal_bl                                   0\n",
       "FDG_bl                                           0\n",
       "AV45_bl                                          0\n",
       "PTETHCAT_Hisp/Latino                             0\n",
       "PTETHCAT_Not Hisp/Latino                         0\n",
       "PTRACCAT_Am Indian/Alaskan                       0\n",
       "PTRACCAT_Asian                                   0\n",
       "PTRACCAT_Black                                   0\n",
       "PTRACCAT_Hawaiian/Other PI                       0\n",
       "PTRACCAT_More than one                           0\n",
       "PTRACCAT_White                                   0\n",
       "PTMARRY_Divorced                                 0\n",
       "PTMARRY_Married                                  0\n",
       "PTMARRY_Never married                            0\n",
       "PTMARRY_Widowed                                  0\n",
       "APOE4_0.0                                        0\n",
       "APOE4_1.0                                        0\n",
       "APOE4_2.0                                        0\n",
       "PTGENDER_Female                                  0\n",
       "PTGENDER_Male                                    0\n",
       "FSVERSION_bl_Cross-Sectional FreeSurfer (5.1)    0\n",
       "CALCIUM_0                                        0\n",
       "CALCIUM_1                                        0\n",
       "ANY BT_0                                         0\n",
       "ANY BT_1                                         0\n",
       "VITAMIN D merge_0                                0\n",
       "VITAMIN D merge_1                                0\n",
       "ANY CHOL_0                                       0\n",
       "ANY CHOL_1                                       0\n",
       "DX_bl                                            0\n",
       "Length: 65, dtype: int64"
      ]
     },
     "execution_count": 35,
     "metadata": {},
     "output_type": "execute_result"
    }
   ],
   "source": [
    "#Put back DX-bl and check that there are not missing\n",
    "\n",
    "print(ADNI2_bl_expand.shape)\n",
    "print(ADNI2_bl_missing.shape)\n",
    "ADNI2_bl_missing['DX_bl'] = ADNI2_bl_expand['DX_bl']\n",
    "print(ADNI2_bl_missing.shape)\n",
    "ADNI2_bl_missing.isnull().sum()"
   ]
  },
  {
   "cell_type": "code",
   "execution_count": 36,
   "metadata": {
    "collapsed": true
   },
   "outputs": [],
   "source": [
    "# SAVING OF DATASETS (train and test)\n",
    "\n",
    "ADNI2_bl_missing_train, ADNI2_bl_missing_test = split(ADNI2_bl_missing,0.75)\n",
    "\n",
    "if switch == 0:\n",
    "    ADNI2_bl_missing_train.to_csv(path_or_buf='ADNI2_bl_model_train.csv', index=False)\n",
    "    ADNI2_bl_missing_test.to_csv(path_or_buf='ADNI2_bl_model_test.csv', index=False)\n",
    "    \n",
    "if switch == 1:\n",
    "    ADNI2_bl_missing_train.to_csv(path_or_buf='ADNI2_bl_model_train_DRUG.csv', index=False)\n",
    "    ADNI2_bl_missing_test.to_csv(path_or_buf='ADNI2_bl_model_test_DRUG.csv', index=False)\n",
    "    \n",
    "if switch == 2:\n",
    "    ADNI2_bl_missing_train.to_csv(path_or_buf='ADNI2_bl_model_train_PROTEIN.csv', index=False)\n",
    "    ADNI2_bl_missing_test.to_csv(path_or_buf='ADNI2_bl_model_test_PROTEIN.csv', index=False)\n",
    "\n",
    "if switch == 3:\n",
    "    ADNI2_bl_missing_train.to_csv(path_or_buf='ADNI2_bl_model_train_DRUG+PROTEIN.csv', index=False)\n",
    "    ADNI2_bl_missing_test.to_csv(path_or_buf='ADNI2_bl_model_test_DRUG+PROTEIN.csv', index=False)"
   ]
  },
  {
   "cell_type": "markdown",
   "metadata": {
    "collapsed": true
   },
   "source": [
    "# Median Imputation¶"
   ]
  },
  {
   "cell_type": "code",
   "execution_count": 37,
   "metadata": {},
   "outputs": [
    {
     "name": "stdout",
     "output_type": "stream",
     "text": [
      "DX_bl                                             0\n",
      "AGE                                               0\n",
      "PTEDUCAT                                          0\n",
      "CDRSB_bl                                          0\n",
      "ADAS11_bl                                         2\n",
      "ADAS13_bl                                         4\n",
      "MMSE_bl                                           0\n",
      "RAVLT_immediate_bl                                1\n",
      "RAVLT_learning_bl                                 8\n",
      "RAVLT_forgetting_bl                              11\n",
      "RAVLT_perc_forgetting_bl                          1\n",
      "FAQ_bl                                            2\n",
      "Ventricles_bl                                    44\n",
      "Hippocampus_bl                                   63\n",
      "WholeBrain_bl                                    21\n",
      "Entorhinal_bl                                    81\n",
      "Fusiform_bl                                      81\n",
      "MidTemp_bl                                       81\n",
      "ICV_bl                                            0\n",
      "MOCA_bl                                           9\n",
      "EcogPtMem_bl                                      2\n",
      "EcogPtLang_bl                                     3\n",
      "EcogPtVisspat_bl                                  7\n",
      "EcogPtPlan_bl                                     4\n",
      "EcogPtOrgan_bl                                   22\n",
      "EcogPtDivatt_bl                                   9\n",
      "EcogPtTotal_bl                                    3\n",
      "EcogSPMem_bl                                      4\n",
      "EcogSPLang_bl                                     4\n",
      "EcogSPVisspat_bl                                 14\n",
      "                                                 ..\n",
      "AV45_bl                                           7\n",
      "ABETA                                             0\n",
      "TAU                                               0\n",
      "PTAU                                              0\n",
      "PTETHCAT_Hisp/Latino                              0\n",
      "PTETHCAT_Not Hisp/Latino                          0\n",
      "PTRACCAT_Am Indian/Alaskan                        0\n",
      "PTRACCAT_Asian                                    0\n",
      "PTRACCAT_Black                                    0\n",
      "PTRACCAT_Hawaiian/Other PI                        0\n",
      "PTRACCAT_More than one                            0\n",
      "PTRACCAT_White                                    0\n",
      "PTMARRY_Divorced                                  0\n",
      "PTMARRY_Married                                   0\n",
      "PTMARRY_Never married                             0\n",
      "PTMARRY_Widowed                                   0\n",
      "APOE4_0.0                                         0\n",
      "APOE4_1.0                                         0\n",
      "APOE4_2.0                                         0\n",
      "PTGENDER_Female                                   0\n",
      "PTGENDER_Male                                     0\n",
      "FSVERSION_bl_Cross-Sectional FreeSurfer (5.1)     0\n",
      "CALCIUM_0                                         0\n",
      "CALCIUM_1                                         0\n",
      "ANY BT_0                                          0\n",
      "ANY BT_1                                          0\n",
      "VITAMIN D merge_0                                 0\n",
      "VITAMIN D merge_1                                 0\n",
      "ANY CHOL_0                                        0\n",
      "ANY CHOL_1                                        0\n",
      "Length: 65, dtype: int64\n"
     ]
    }
   ],
   "source": [
    "ADNI2_bl_mean = ADNI2_bl_expand.copy()\n",
    "print(ADNI2_bl_mean.isnull().sum())"
   ]
  },
  {
   "cell_type": "code",
   "execution_count": 38,
   "metadata": {},
   "outputs": [
    {
     "data": {
      "text/html": [
       "<div>\n",
       "<style>\n",
       "    .dataframe thead tr:only-child th {\n",
       "        text-align: right;\n",
       "    }\n",
       "\n",
       "    .dataframe thead th {\n",
       "        text-align: left;\n",
       "    }\n",
       "\n",
       "    .dataframe tbody tr th {\n",
       "        vertical-align: top;\n",
       "    }\n",
       "</style>\n",
       "<table border=\"1\" class=\"dataframe\">\n",
       "  <thead>\n",
       "    <tr style=\"text-align: right;\">\n",
       "      <th></th>\n",
       "      <th>DX_bl</th>\n",
       "      <th>AGE</th>\n",
       "      <th>PTEDUCAT</th>\n",
       "      <th>CDRSB_bl</th>\n",
       "      <th>ADAS11_bl</th>\n",
       "      <th>ADAS13_bl</th>\n",
       "      <th>MMSE_bl</th>\n",
       "      <th>RAVLT_immediate_bl</th>\n",
       "      <th>RAVLT_learning_bl</th>\n",
       "      <th>RAVLT_forgetting_bl</th>\n",
       "      <th>...</th>\n",
       "      <th>PTGENDER_Male</th>\n",
       "      <th>FSVERSION_bl_Cross-Sectional FreeSurfer (5.1)</th>\n",
       "      <th>CALCIUM_0</th>\n",
       "      <th>CALCIUM_1</th>\n",
       "      <th>ANY BT_0</th>\n",
       "      <th>ANY BT_1</th>\n",
       "      <th>VITAMIN D merge_0</th>\n",
       "      <th>VITAMIN D merge_1</th>\n",
       "      <th>ANY CHOL_0</th>\n",
       "      <th>ANY CHOL_1</th>\n",
       "    </tr>\n",
       "  </thead>\n",
       "  <tbody>\n",
       "    <tr>\n",
       "      <th>0</th>\n",
       "      <td>0.0</td>\n",
       "      <td>66.9</td>\n",
       "      <td>17.0</td>\n",
       "      <td>0.0</td>\n",
       "      <td>10.0</td>\n",
       "      <td>15.0</td>\n",
       "      <td>29.0</td>\n",
       "      <td>42.0</td>\n",
       "      <td>5.0</td>\n",
       "      <td>2.0</td>\n",
       "      <td>...</td>\n",
       "      <td>1.0</td>\n",
       "      <td>1.0</td>\n",
       "      <td>1.0</td>\n",
       "      <td>0.0</td>\n",
       "      <td>1.0</td>\n",
       "      <td>0.0</td>\n",
       "      <td>1.0</td>\n",
       "      <td>0.0</td>\n",
       "      <td>1.0</td>\n",
       "      <td>0.0</td>\n",
       "    </tr>\n",
       "    <tr>\n",
       "      <th>1</th>\n",
       "      <td>0.0</td>\n",
       "      <td>67.5</td>\n",
       "      <td>16.0</td>\n",
       "      <td>0.0</td>\n",
       "      <td>3.0</td>\n",
       "      <td>5.0</td>\n",
       "      <td>30.0</td>\n",
       "      <td>42.0</td>\n",
       "      <td>7.0</td>\n",
       "      <td>2.0</td>\n",
       "      <td>...</td>\n",
       "      <td>1.0</td>\n",
       "      <td>1.0</td>\n",
       "      <td>1.0</td>\n",
       "      <td>0.0</td>\n",
       "      <td>1.0</td>\n",
       "      <td>0.0</td>\n",
       "      <td>1.0</td>\n",
       "      <td>0.0</td>\n",
       "      <td>1.0</td>\n",
       "      <td>0.0</td>\n",
       "    </tr>\n",
       "    <tr>\n",
       "      <th>2</th>\n",
       "      <td>0.0</td>\n",
       "      <td>68.5</td>\n",
       "      <td>20.0</td>\n",
       "      <td>0.0</td>\n",
       "      <td>4.0</td>\n",
       "      <td>7.0</td>\n",
       "      <td>30.0</td>\n",
       "      <td>61.0</td>\n",
       "      <td>6.0</td>\n",
       "      <td>3.0</td>\n",
       "      <td>...</td>\n",
       "      <td>1.0</td>\n",
       "      <td>1.0</td>\n",
       "      <td>1.0</td>\n",
       "      <td>0.0</td>\n",
       "      <td>1.0</td>\n",
       "      <td>0.0</td>\n",
       "      <td>1.0</td>\n",
       "      <td>0.0</td>\n",
       "      <td>1.0</td>\n",
       "      <td>0.0</td>\n",
       "    </tr>\n",
       "    <tr>\n",
       "      <th>3</th>\n",
       "      <td>0.0</td>\n",
       "      <td>80.2</td>\n",
       "      <td>19.0</td>\n",
       "      <td>0.0</td>\n",
       "      <td>3.0</td>\n",
       "      <td>10.0</td>\n",
       "      <td>29.0</td>\n",
       "      <td>36.0</td>\n",
       "      <td>8.0</td>\n",
       "      <td>7.0</td>\n",
       "      <td>...</td>\n",
       "      <td>1.0</td>\n",
       "      <td>1.0</td>\n",
       "      <td>1.0</td>\n",
       "      <td>0.0</td>\n",
       "      <td>1.0</td>\n",
       "      <td>0.0</td>\n",
       "      <td>1.0</td>\n",
       "      <td>0.0</td>\n",
       "      <td>1.0</td>\n",
       "      <td>0.0</td>\n",
       "    </tr>\n",
       "    <tr>\n",
       "      <th>4</th>\n",
       "      <td>0.0</td>\n",
       "      <td>71.8</td>\n",
       "      <td>15.0</td>\n",
       "      <td>0.5</td>\n",
       "      <td>4.0</td>\n",
       "      <td>6.0</td>\n",
       "      <td>28.0</td>\n",
       "      <td>44.0</td>\n",
       "      <td>8.0</td>\n",
       "      <td>4.0</td>\n",
       "      <td>...</td>\n",
       "      <td>0.0</td>\n",
       "      <td>1.0</td>\n",
       "      <td>1.0</td>\n",
       "      <td>0.0</td>\n",
       "      <td>1.0</td>\n",
       "      <td>0.0</td>\n",
       "      <td>1.0</td>\n",
       "      <td>0.0</td>\n",
       "      <td>1.0</td>\n",
       "      <td>0.0</td>\n",
       "    </tr>\n",
       "  </tbody>\n",
       "</table>\n",
       "<p>5 rows × 65 columns</p>\n",
       "</div>"
      ],
      "text/plain": [
       "   DX_bl   AGE  PTEDUCAT  CDRSB_bl  ADAS11_bl  ADAS13_bl  MMSE_bl  \\\n",
       "0    0.0  66.9      17.0       0.0       10.0       15.0     29.0   \n",
       "1    0.0  67.5      16.0       0.0        3.0        5.0     30.0   \n",
       "2    0.0  68.5      20.0       0.0        4.0        7.0     30.0   \n",
       "3    0.0  80.2      19.0       0.0        3.0       10.0     29.0   \n",
       "4    0.0  71.8      15.0       0.5        4.0        6.0     28.0   \n",
       "\n",
       "   RAVLT_immediate_bl  RAVLT_learning_bl  RAVLT_forgetting_bl     ...      \\\n",
       "0                42.0                5.0                  2.0     ...       \n",
       "1                42.0                7.0                  2.0     ...       \n",
       "2                61.0                6.0                  3.0     ...       \n",
       "3                36.0                8.0                  7.0     ...       \n",
       "4                44.0                8.0                  4.0     ...       \n",
       "\n",
       "   PTGENDER_Male  FSVERSION_bl_Cross-Sectional FreeSurfer (5.1)  CALCIUM_0  \\\n",
       "0            1.0                                            1.0        1.0   \n",
       "1            1.0                                            1.0        1.0   \n",
       "2            1.0                                            1.0        1.0   \n",
       "3            1.0                                            1.0        1.0   \n",
       "4            0.0                                            1.0        1.0   \n",
       "\n",
       "   CALCIUM_1  ANY BT_0  ANY BT_1  VITAMIN D merge_0  VITAMIN D merge_1  \\\n",
       "0        0.0       1.0       0.0                1.0                0.0   \n",
       "1        0.0       1.0       0.0                1.0                0.0   \n",
       "2        0.0       1.0       0.0                1.0                0.0   \n",
       "3        0.0       1.0       0.0                1.0                0.0   \n",
       "4        0.0       1.0       0.0                1.0                0.0   \n",
       "\n",
       "   ANY CHOL_0  ANY CHOL_1  \n",
       "0         1.0         0.0  \n",
       "1         1.0         0.0  \n",
       "2         1.0         0.0  \n",
       "3         1.0         0.0  \n",
       "4         1.0         0.0  \n",
       "\n",
       "[5 rows x 65 columns]"
      ]
     },
     "execution_count": 38,
     "metadata": {},
     "output_type": "execute_result"
    }
   ],
   "source": [
    "# Mean imputation with \"Imputer\" function\n",
    "from sklearn.preprocessing import Imputer\n",
    "imp = Imputer(missing_values='NaN', strategy='mean', axis=0)\n",
    "ADNI2_mean = imp.fit_transform(ADNI2_bl_mean)\n",
    "header = ADNI2_bl_mean.columns\n",
    "ADNI2_bl_mean_final = pd.DataFrame(data = ADNI2_mean, columns=header)\n",
    "ADNI2_bl_mean_final.head()"
   ]
  },
  {
   "cell_type": "code",
   "execution_count": 39,
   "metadata": {},
   "outputs": [
    {
     "name": "stdout",
     "output_type": "stream",
     "text": [
      "DX_bl                                            0\n",
      "AGE                                              0\n",
      "PTEDUCAT                                         0\n",
      "CDRSB_bl                                         0\n",
      "ADAS11_bl                                        0\n",
      "ADAS13_bl                                        0\n",
      "MMSE_bl                                          0\n",
      "RAVLT_immediate_bl                               0\n",
      "RAVLT_learning_bl                                0\n",
      "RAVLT_forgetting_bl                              0\n",
      "RAVLT_perc_forgetting_bl                         0\n",
      "FAQ_bl                                           0\n",
      "Ventricles_bl                                    0\n",
      "Hippocampus_bl                                   0\n",
      "WholeBrain_bl                                    0\n",
      "Entorhinal_bl                                    0\n",
      "Fusiform_bl                                      0\n",
      "MidTemp_bl                                       0\n",
      "ICV_bl                                           0\n",
      "MOCA_bl                                          0\n",
      "EcogPtMem_bl                                     0\n",
      "EcogPtLang_bl                                    0\n",
      "EcogPtVisspat_bl                                 0\n",
      "EcogPtPlan_bl                                    0\n",
      "EcogPtOrgan_bl                                   0\n",
      "EcogPtDivatt_bl                                  0\n",
      "EcogPtTotal_bl                                   0\n",
      "EcogSPMem_bl                                     0\n",
      "EcogSPLang_bl                                    0\n",
      "EcogSPVisspat_bl                                 0\n",
      "                                                ..\n",
      "AV45_bl                                          0\n",
      "ABETA                                            0\n",
      "TAU                                              0\n",
      "PTAU                                             0\n",
      "PTETHCAT_Hisp/Latino                             0\n",
      "PTETHCAT_Not Hisp/Latino                         0\n",
      "PTRACCAT_Am Indian/Alaskan                       0\n",
      "PTRACCAT_Asian                                   0\n",
      "PTRACCAT_Black                                   0\n",
      "PTRACCAT_Hawaiian/Other PI                       0\n",
      "PTRACCAT_More than one                           0\n",
      "PTRACCAT_White                                   0\n",
      "PTMARRY_Divorced                                 0\n",
      "PTMARRY_Married                                  0\n",
      "PTMARRY_Never married                            0\n",
      "PTMARRY_Widowed                                  0\n",
      "APOE4_0.0                                        0\n",
      "APOE4_1.0                                        0\n",
      "APOE4_2.0                                        0\n",
      "PTGENDER_Female                                  0\n",
      "PTGENDER_Male                                    0\n",
      "FSVERSION_bl_Cross-Sectional FreeSurfer (5.1)    0\n",
      "CALCIUM_0                                        0\n",
      "CALCIUM_1                                        0\n",
      "ANY BT_0                                         0\n",
      "ANY BT_1                                         0\n",
      "VITAMIN D merge_0                                0\n",
      "VITAMIN D merge_1                                0\n",
      "ANY CHOL_0                                       0\n",
      "ANY CHOL_1                                       0\n",
      "Length: 65, dtype: int64\n"
     ]
    }
   ],
   "source": [
    "#Check that there are no missing\n",
    "print(ADNI2_bl_mean_final.isnull().sum())"
   ]
  },
  {
   "cell_type": "code",
   "execution_count": 40,
   "metadata": {
    "collapsed": true
   },
   "outputs": [],
   "source": [
    "# SAVING OF DATASETS (train and test)\n",
    "\n",
    "ADNI2_bl_mean_train, ADNI2_bl_mean_test= split(ADNI2_bl_mean_final,0.75)\n",
    "\n",
    "if switch == 0:\n",
    "    ADNI2_bl_mean_train.to_csv(path_or_buf='ADNI2_bl_mean_train.csv', index=False)\n",
    "    ADNI2_bl_mean_test.to_csv(path_or_buf='ADNI2_bl_mean_test.csv', index=False)\n",
    "    \n",
    "if switch == 1:\n",
    "    ADNI2_bl_mean_train.to_csv(path_or_buf='ADNI2_bl_mean_train_DRUG.csv', index=False)\n",
    "    ADNI2_bl_mean_test.to_csv(path_or_buf='ADNI2_bl_mean_test_DRUG.csv', index=False)\n",
    "    \n",
    "if switch == 2:\n",
    "    ADNI2_bl_mean_train.to_csv(path_or_buf='ADNI2_bl_mean_train_PROTEIN.csv', index=False)\n",
    "    ADNI2_bl_mean_test.to_csv(path_or_buf='ADNI2_bl_mean_test_PROTEIN.csv', index=False)\n",
    "\n",
    "if switch == 3:\n",
    "    ADNI2_bl_mean_train.to_csv(path_or_buf='ADNI2_bl_mean_train_DRUG+PROTEIN.csv', index=False)\n",
    "    ADNI2_bl_mean_test.to_csv(path_or_buf='ADNI2_bl_mean_test_DRUG+PROTEIN.csv', index=False)\n",
    "    "
   ]
  }
 ],
 "metadata": {
  "kernelspec": {
   "display_name": "Python 3",
   "language": "python",
   "name": "python3"
  },
  "language_info": {
   "codemirror_mode": {
    "name": "ipython",
    "version": 3
   },
   "file_extension": ".py",
   "mimetype": "text/x-python",
   "name": "python",
   "nbconvert_exporter": "python",
   "pygments_lexer": "ipython3",
   "version": "3.6.1"
  }
 },
 "nbformat": 4,
 "nbformat_minor": 2
}
